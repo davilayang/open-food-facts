{
 "cells": [
  {
   "cell_type": "code",
   "execution_count": 2,
   "metadata": {},
   "outputs": [],
   "source": [
    "import os\n",
    "import pandas as pd\n",
    "import numpy as np\n",
    "import matplotlib.pyplot as plt\n",
    "import seaborn as sns"
   ]
  },
  {
   "cell_type": "code",
   "execution_count": 3,
   "metadata": {},
   "outputs": [],
   "source": [
    "from collections import Counter\n",
    "\n",
    "# from sklearn.cluster import KMeans, DBSCAN, AgglomerativeClustering\n",
    "from sklearn.cluster import KMeans\n",
    "from sklearn.neighbors import KNeighborsClassifier\n",
    "from sklearn.model_selection import train_test_split\n",
    "from sklearn.preprocessing import StandardScaler\n",
    "from sklearn.preprocessing import PolynomialFeatures\n",
    "\n",
    "from sklearn.linear_model import LinearRegression\n",
    "from sklearn.linear_model import Ridge\n",
    "from sklearn.linear_model import Lasso\n",
    "from sklearn.linear_model import ElasticNet\n",
    "from sklearn.svm import SVR\n",
    "from sklearn.tree import DecisionTreeRegressor\n",
    "from sklearn.linear_model import LogisticRegression\n",
    "# from sklearn.svm import SVC\n",
    "from sklearn.tree import DecisionTreeClassifier\n",
    "\n",
    "from sklearn.model_selection import cross_val_score\n",
    "from sklearn.metrics import precision_score, recall_score"
   ]
  },
  {
   "cell_type": "code",
   "execution_count": 4,
   "metadata": {},
   "outputs": [
    {
     "data": {
      "text/plain": [
       "(559935, 25)"
      ]
     },
     "execution_count": 4,
     "metadata": {},
     "output_type": "execute_result"
    }
   ],
   "source": [
    "data_path = 'D:\\DATA\\PracticeData'\n",
    "data_type = {'code': 'object', 'nutrition_grade_fr': 'category', 'energy_100g': 'float64', }\n",
    "df = pd.read_csv(os.path.join(data_path, 'openfoodfacts_processed.gz'), \\\n",
    "                 dtype=data_type, compression='gzip')\n",
    "df.shape"
   ]
  },
  {
   "cell_type": "code",
   "execution_count": 5,
   "metadata": {},
   "outputs": [
    {
     "name": "stderr",
     "output_type": "stream",
     "text": [
      "C:\\Users\\davilaYuan\\Miniconda3\\envs\\sklearn\\lib\\site-packages\\pandas\\core\\generic.py:5434: SettingWithCopyWarning: \n",
      "A value is trying to be set on a copy of a slice from a DataFrame\n",
      "\n",
      "See the caveats in the documentation: http://pandas.pydata.org/pandas-docs/stable/indexing.html#indexing-view-versus-copy\n",
      "  self._update_inplace(new_data)\n"
     ]
    },
    {
     "data": {
      "text/plain": [
       "(146356, 25)"
      ]
     },
     "execution_count": 5,
     "metadata": {},
     "output_type": "execute_result"
    }
   ],
   "source": [
    "df2 = df[df.nutrition_grade_fr.notna()]\n",
    "df2.fiber_100g.fillna(value=0, inplace=True)\n",
    "df2.shape"
   ]
  },
  {
   "cell_type": "code",
   "execution_count": 6,
   "metadata": {},
   "outputs": [],
   "source": [
    "# get the index with a string in the cell of a column\n",
    "def get_category(string, column, dataframe): \n",
    "    idx_list = []\n",
    "    for idx, row in dataframe.iterrows():\n",
    "        if row[column] is not np.nan and string in row[column]:\n",
    "            idx_list.append(idx)\n",
    "    return idx_list"
   ]
  },
  {
   "cell_type": "code",
   "execution_count": null,
   "metadata": {},
   "outputs": [],
   "source": []
  },
  {
   "cell_type": "markdown",
   "metadata": {},
   "source": [
    "# Estimate Cocoa content"
   ]
  },
  {
   "cell_type": "code",
   "execution_count": 105,
   "metadata": {},
   "outputs": [
    {
     "data": {
      "text/plain": [
       "5795"
      ]
     },
     "execution_count": 105,
     "metadata": {},
     "output_type": "execute_result"
    }
   ],
   "source": [
    "chocos = get_category('en:chocolates', 'categories_tags', df)\n",
    "len(chocos)"
   ]
  },
  {
   "cell_type": "code",
   "execution_count": 106,
   "metadata": {},
   "outputs": [],
   "source": [
    "df_cc = df.iloc[chocos, :].drop(['alcohol_100g', 'energy-from-fat_100g', 'trans-fat_100g', \\\n",
    "                                 'cholesterol_100g', 'caffeine_100g', 'additives_tags', 'countries_tags', \\\n",
    "                                 'product_name', 'nutrition-score-fr_100g', 'nutrition-score-uk_100g'], axis=1)\n",
    "df_cc.fiber_100g.fillna(0, inplace=True)\n",
    "df_cc.additives_n.fillna(0, inplace=True)\n",
    "df_cc.reset_index(inplace=True, drop=True)"
   ]
  },
  {
   "cell_type": "code",
   "execution_count": 107,
   "metadata": {},
   "outputs": [
    {
     "data": {
      "text/html": [
       "<div>\n",
       "<style scoped>\n",
       "    .dataframe tbody tr th:only-of-type {\n",
       "        vertical-align: middle;\n",
       "    }\n",
       "\n",
       "    .dataframe tbody tr th {\n",
       "        vertical-align: top;\n",
       "    }\n",
       "\n",
       "    .dataframe thead th {\n",
       "        text-align: right;\n",
       "    }\n",
       "</style>\n",
       "<table border=\"1\" class=\"dataframe\">\n",
       "  <thead>\n",
       "    <tr style=\"text-align: right;\">\n",
       "      <th></th>\n",
       "      <th>additives_n</th>\n",
       "      <th>energy_100g</th>\n",
       "      <th>fat_100g</th>\n",
       "      <th>fiber_100g</th>\n",
       "      <th>proteins_100g</th>\n",
       "      <th>sugars_100g</th>\n",
       "      <th>sodium_100g</th>\n",
       "      <th>salt_100g</th>\n",
       "      <th>cocoa_100g</th>\n",
       "      <th>saturated-fat_100g</th>\n",
       "      <th>carbohydrates_100g</th>\n",
       "    </tr>\n",
       "  </thead>\n",
       "  <tbody>\n",
       "    <tr>\n",
       "      <th>0</th>\n",
       "      <td>1.0</td>\n",
       "      <td>537.0</td>\n",
       "      <td>32.5</td>\n",
       "      <td>1.7</td>\n",
       "      <td>6.8</td>\n",
       "      <td>53.5</td>\n",
       "      <td>0.078740</td>\n",
       "      <td>0.200</td>\n",
       "      <td>NaN</td>\n",
       "      <td>20.1</td>\n",
       "      <td>53.7</td>\n",
       "    </tr>\n",
       "    <tr>\n",
       "      <th>1</th>\n",
       "      <td>0.0</td>\n",
       "      <td>517.0</td>\n",
       "      <td>29.3</td>\n",
       "      <td>0.0</td>\n",
       "      <td>6.1</td>\n",
       "      <td>56.1</td>\n",
       "      <td>0.070866</td>\n",
       "      <td>0.180</td>\n",
       "      <td>30.0</td>\n",
       "      <td>18.1</td>\n",
       "      <td>56.4</td>\n",
       "    </tr>\n",
       "    <tr>\n",
       "      <th>2</th>\n",
       "      <td>0.0</td>\n",
       "      <td>361.0</td>\n",
       "      <td>11.5</td>\n",
       "      <td>29.5</td>\n",
       "      <td>25.8</td>\n",
       "      <td>1.2</td>\n",
       "      <td>0.000000</td>\n",
       "      <td>0.000</td>\n",
       "      <td>NaN</td>\n",
       "      <td>6.9</td>\n",
       "      <td>23.9</td>\n",
       "    </tr>\n",
       "    <tr>\n",
       "      <th>3</th>\n",
       "      <td>0.0</td>\n",
       "      <td>525.0</td>\n",
       "      <td>31.8</td>\n",
       "      <td>0.0</td>\n",
       "      <td>6.2</td>\n",
       "      <td>48.4</td>\n",
       "      <td>0.048819</td>\n",
       "      <td>0.124</td>\n",
       "      <td>NaN</td>\n",
       "      <td>19.6</td>\n",
       "      <td>50.2</td>\n",
       "    </tr>\n",
       "    <tr>\n",
       "      <th>4</th>\n",
       "      <td>2.0</td>\n",
       "      <td>574.0</td>\n",
       "      <td>40.0</td>\n",
       "      <td>2.5</td>\n",
       "      <td>5.0</td>\n",
       "      <td>50.0</td>\n",
       "      <td>0.087500</td>\n",
       "      <td>0.222</td>\n",
       "      <td>NaN</td>\n",
       "      <td>25.0</td>\n",
       "      <td>50.0</td>\n",
       "    </tr>\n",
       "  </tbody>\n",
       "</table>\n",
       "</div>"
      ],
      "text/plain": [
       "   additives_n  energy_100g  fat_100g  fiber_100g  proteins_100g  sugars_100g  \\\n",
       "0          1.0        537.0      32.5         1.7            6.8         53.5   \n",
       "1          0.0        517.0      29.3         0.0            6.1         56.1   \n",
       "2          0.0        361.0      11.5        29.5           25.8          1.2   \n",
       "3          0.0        525.0      31.8         0.0            6.2         48.4   \n",
       "4          2.0        574.0      40.0         2.5            5.0         50.0   \n",
       "\n",
       "   sodium_100g  salt_100g  cocoa_100g  saturated-fat_100g  carbohydrates_100g  \n",
       "0     0.078740      0.200         NaN                20.1                53.7  \n",
       "1     0.070866      0.180        30.0                18.1                56.4  \n",
       "2     0.000000      0.000         NaN                 6.9                23.9  \n",
       "3     0.048819      0.124         NaN                19.6                50.2  \n",
       "4     0.087500      0.222         NaN                25.0                50.0  "
      ]
     },
     "execution_count": 107,
     "metadata": {},
     "output_type": "execute_result"
    }
   ],
   "source": [
    "not_used_cc = ['code', 'labels_tags', 'categories_tags', 'nutrition_grade_fr']\n",
    "df_cc.drop(not_used_cc, axis=1).head()"
   ]
  },
  {
   "cell_type": "code",
   "execution_count": 108,
   "metadata": {},
   "outputs": [
    {
     "data": {
      "text/plain": [
       "(3072, 53.01121656600518)"
      ]
     },
     "execution_count": 108,
     "metadata": {},
     "output_type": "execute_result"
    }
   ],
   "source": [
    "sum(df_cc.cocoa_100g.notna()), sum(df_cc.cocoa_100g.notna()) / df_cc.shape[0] * 100\n",
    "# only half of all chocolate has value for cocoa content"
   ]
  },
  {
   "cell_type": "code",
   "execution_count": 220,
   "metadata": {},
   "outputs": [
    {
     "data": {
      "text/html": [
       "<div>\n",
       "<style scoped>\n",
       "    .dataframe tbody tr th:only-of-type {\n",
       "        vertical-align: middle;\n",
       "    }\n",
       "\n",
       "    .dataframe tbody tr th {\n",
       "        vertical-align: top;\n",
       "    }\n",
       "\n",
       "    .dataframe thead th {\n",
       "        text-align: right;\n",
       "    }\n",
       "</style>\n",
       "<table border=\"1\" class=\"dataframe\">\n",
       "  <thead>\n",
       "    <tr style=\"text-align: right;\">\n",
       "      <th></th>\n",
       "      <th>code</th>\n",
       "      <th>product_name</th>\n",
       "      <th>labels_tags</th>\n",
       "      <th>countries_tags</th>\n",
       "      <th>categories_tags</th>\n",
       "      <th>additives_n</th>\n",
       "      <th>additives_tags</th>\n",
       "      <th>energy_100g</th>\n",
       "      <th>fat_100g</th>\n",
       "      <th>fiber_100g</th>\n",
       "      <th>...</th>\n",
       "      <th>caffeine_100g</th>\n",
       "      <th>cocoa_100g</th>\n",
       "      <th>energy-from-fat_100g</th>\n",
       "      <th>saturated-fat_100g</th>\n",
       "      <th>trans-fat_100g</th>\n",
       "      <th>cholesterol_100g</th>\n",
       "      <th>carbohydrates_100g</th>\n",
       "      <th>nutrition-score-fr_100g</th>\n",
       "      <th>nutrition-score-uk_100g</th>\n",
       "      <th>nutrition_grade_fr</th>\n",
       "    </tr>\n",
       "  </thead>\n",
       "  <tbody>\n",
       "    <tr>\n",
       "      <th>503965</th>\n",
       "      <td>7862109270080</td>\n",
       "      <td>Choc. cru Pacari 100% Cacao</td>\n",
       "      <td>en:organic,en:eu-organic,en:non-eu-agriculture...</td>\n",
       "      <td>en:france</td>\n",
       "      <td>en:sugary-snacks,en:chocolates,en:dark-chocolates</td>\n",
       "      <td>0.0</td>\n",
       "      <td>NaN</td>\n",
       "      <td>735.0</td>\n",
       "      <td>71.0</td>\n",
       "      <td>NaN</td>\n",
       "      <td>...</td>\n",
       "      <td>NaN</td>\n",
       "      <td>100.0</td>\n",
       "      <td>NaN</td>\n",
       "      <td>41.0</td>\n",
       "      <td>NaN</td>\n",
       "      <td>NaN</td>\n",
       "      <td>7.0</td>\n",
       "      <td>19.0</td>\n",
       "      <td>19.0</td>\n",
       "      <td>e</td>\n",
       "    </tr>\n",
       "  </tbody>\n",
       "</table>\n",
       "<p>1 rows × 25 columns</p>\n",
       "</div>"
      ],
      "text/plain": [
       "                 code                 product_name  \\\n",
       "503965  7862109270080  Choc. cru Pacari 100% Cacao   \n",
       "\n",
       "                                              labels_tags countries_tags  \\\n",
       "503965  en:organic,en:eu-organic,en:non-eu-agriculture...      en:france   \n",
       "\n",
       "                                          categories_tags  additives_n  \\\n",
       "503965  en:sugary-snacks,en:chocolates,en:dark-chocolates          0.0   \n",
       "\n",
       "       additives_tags  energy_100g  fat_100g  fiber_100g         ...          \\\n",
       "503965            NaN        735.0      71.0         NaN         ...           \n",
       "\n",
       "        caffeine_100g  cocoa_100g  energy-from-fat_100g  saturated-fat_100g  \\\n",
       "503965            NaN       100.0                   NaN                41.0   \n",
       "\n",
       "        trans-fat_100g  cholesterol_100g  carbohydrates_100g  \\\n",
       "503965             NaN               NaN                 7.0   \n",
       "\n",
       "        nutrition-score-fr_100g  nutrition-score-uk_100g  nutrition_grade_fr  \n",
       "503965                     19.0                     19.0                   e  \n",
       "\n",
       "[1 rows x 25 columns]"
      ]
     },
     "execution_count": 220,
     "metadata": {},
     "output_type": "execute_result"
    }
   ],
   "source": [
    "df[df.code == '7862109270080']"
   ]
  },
  {
   "cell_type": "code",
   "execution_count": 109,
   "metadata": {},
   "outputs": [],
   "source": [
    "cocoa = df_cc.cocoa_100g[df_cc.cocoa_100g.notna()]\n",
    "energie = df_cc.energy_100g[df_cc.cocoa_100g.notna()]"
   ]
  },
  {
   "cell_type": "code",
   "execution_count": 165,
   "metadata": {},
   "outputs": [],
   "source": [
    "df_cc_energy = df_cc[df_cc.cocoa_100g.notna()][['cocoa_100g', 'energy_100g']]\n",
    "df_cc_energy.reset_index(inplace=True, drop=True)"
   ]
  },
  {
   "cell_type": "code",
   "execution_count": 166,
   "metadata": {},
   "outputs": [
    {
     "name": "stdout",
     "output_type": "stream",
     "text": [
      "<class 'pandas.core.frame.DataFrame'>\n",
      "RangeIndex: 3072 entries, 0 to 3071\n",
      "Data columns (total 2 columns):\n",
      "cocoa_100g     3072 non-null float64\n",
      "energy_100g    3072 non-null float64\n",
      "dtypes: float64(2)\n",
      "memory usage: 48.1 KB\n"
     ]
    }
   ],
   "source": [
    "df_cc_energy.info()"
   ]
  },
  {
   "cell_type": "code",
   "execution_count": 190,
   "metadata": {},
   "outputs": [
    {
     "data": {
      "text/html": [
       "<div>\n",
       "<style scoped>\n",
       "    .dataframe tbody tr th:only-of-type {\n",
       "        vertical-align: middle;\n",
       "    }\n",
       "\n",
       "    .dataframe tbody tr th {\n",
       "        vertical-align: top;\n",
       "    }\n",
       "\n",
       "    .dataframe thead th {\n",
       "        text-align: right;\n",
       "    }\n",
       "</style>\n",
       "<table border=\"1\" class=\"dataframe\">\n",
       "  <thead>\n",
       "    <tr style=\"text-align: right;\">\n",
       "      <th></th>\n",
       "      <th>cocoa_100g</th>\n",
       "      <th>energy_100g</th>\n",
       "    </tr>\n",
       "    <tr>\n",
       "      <th>cocoa_50cat</th>\n",
       "      <th></th>\n",
       "      <th></th>\n",
       "    </tr>\n",
       "  </thead>\n",
       "  <tbody>\n",
       "    <tr>\n",
       "      <th>(-0.1, 2.0]</th>\n",
       "      <td>14</td>\n",
       "      <td>532.642857</td>\n",
       "    </tr>\n",
       "    <tr>\n",
       "      <th>(2.0, 4.0]</th>\n",
       "      <td>0</td>\n",
       "      <td>NaN</td>\n",
       "    </tr>\n",
       "    <tr>\n",
       "      <th>(4.0, 6.0]</th>\n",
       "      <td>0</td>\n",
       "      <td>NaN</td>\n",
       "    </tr>\n",
       "    <tr>\n",
       "      <th>(6.0, 8.0]</th>\n",
       "      <td>0</td>\n",
       "      <td>NaN</td>\n",
       "    </tr>\n",
       "    <tr>\n",
       "      <th>(8.0, 10.0]</th>\n",
       "      <td>1</td>\n",
       "      <td>560.000000</td>\n",
       "    </tr>\n",
       "  </tbody>\n",
       "</table>\n",
       "</div>"
      ],
      "text/plain": [
       "             cocoa_100g  energy_100g\n",
       "cocoa_50cat                         \n",
       "(-0.1, 2.0]          14   532.642857\n",
       "(2.0, 4.0]            0          NaN\n",
       "(4.0, 6.0]            0          NaN\n",
       "(6.0, 8.0]            0          NaN\n",
       "(8.0, 10.0]           1   560.000000"
      ]
     },
     "execution_count": 190,
     "metadata": {},
     "output_type": "execute_result"
    }
   ],
   "source": [
    "# get the categories on cocoa\n",
    "df_cc_energy['cocoa_50cat'] = pd.cut(df_cc_energy.cocoa_100g, 50)\n",
    "# group by cocoa, count cocoa_100g and mean on energy_100g\n",
    "tmp = df_cc_energy.groupby(by='cocoa_50cat').agg({'cocoa_100g': 'count', 'energy_100g': 'mean'})\n",
    "# tmp.fillna(0, inplace=True)\n",
    "tmp.head()"
   ]
  },
  {
   "cell_type": "code",
   "execution_count": 192,
   "metadata": {},
   "outputs": [
    {
     "data": {
      "image/png": "[encoded data removed]",
      "text/plain": [
       "<Figure size 432x288 with 1 Axes>"
      ]
     },
     "metadata": {
      "needs_background": "light"
     },
     "output_type": "display_data"
    }
   ],
   "source": [
    "plt.bar(x=range(50), height=tmp.cocoa_100g)\n",
    "plt.plot(range(50), tmp.energy_100g)\n",
    "plt.show()"
   ]
  },
  {
   "cell_type": "code",
   "execution_count": 223,
   "metadata": {},
   "outputs": [
    {
     "data": {
      "image/png": "[encoded data removed]",
      "text/plain": [
       "<Figure size 432x288 with 2 Axes>"
      ]
     },
     "metadata": {
      "needs_background": "light"
     },
     "output_type": "display_data"
    }
   ],
   "source": [
    "fig, ax1 = plt.subplots()\n",
    "\n",
    "bar_color = 'tab:purple'\n",
    "ax1.set_ylabel('exp', color=bar_color)\n",
    "ax1.bar(x=range(50), height=tmp.cocoa_100g, color=bar_color)\n",
    "ax1.tick_params(axis='y', labelcolor=bar_color)\n",
    "\n",
    "ax2 = ax1.twinx()  # instantiate a second axes that shares the same x-axis\n",
    "\n",
    "line_color = 'tab:brown'\n",
    "ax2.set_ylabel('sin', color=line_color)  # we already handled the x-label with ax1\n",
    "# ax2.plot(range(50), tmp.energy_100g, color=line_color)\n",
    "ax2.plot(range(50), tmp.energy_100g.fillna(method='ffill'), color=line_color)\n",
    "\n",
    "ax2.tick_params(axis='y', labelcolor=line_color)\n",
    "\n",
    "\n",
    "fig.tight_layout()  # otherwise the right y-label is slightly clipped\n",
    "plt.show()"
   ]
  },
  {
   "cell_type": "markdown",
   "metadata": {},
   "source": [
    "https://matplotlib.org/gallery/api/two_scales.html"
   ]
  },
  {
   "cell_type": "code",
   "execution_count": 193,
   "metadata": {},
   "outputs": [],
   "source": [
    "t = np.arange(0.01, 10.0, 0.01)\n",
    "data1 = np.exp(t)\n",
    "data2 = np.sin(2 * np.pi * t)"
   ]
  },
  {
   "cell_type": "code",
   "execution_count": 199,
   "metadata": {},
   "outputs": [
    {
     "data": {
      "image/png": "[encoded data removed]",
      "text/plain": [
       "<Figure size 432x288 with 2 Axes>"
      ]
     },
     "metadata": {
      "needs_background": "light"
     },
     "output_type": "display_data"
    }
   ],
   "source": [
    "fig, ax1 = plt.subplots()\n",
    "\n",
    "ax1.set_xlabel('time (s)')\n",
    "ax1.set_ylabel('exp', color='tab:red')\n",
    "ax1.plot(t, data1, color='tab:red')\n",
    "ax1.tick_params(axis='y', labelcolor='tab:red')\n",
    "\n",
    "ax2 = ax1.twinx()  # instantiate a second axes that shares the same x-axis\n",
    "\n",
    "ax2.set_ylabel('sin', color='tab:blue')  # we already handled the x-label with ax1\n",
    "ax2.plot(t, data2, color='tab:blue')\n",
    "ax2.tick_params(axis='y', labelcolor='tab:blue')\n",
    "\n",
    "\n",
    "fig.tight_layout()  # otherwise the right y-label is slightly clipped\n",
    "plt.show()"
   ]
  },
  {
   "cell_type": "code",
   "execution_count": null,
   "metadata": {},
   "outputs": [],
   "source": []
  },
  {
   "cell_type": "code",
   "execution_count": null,
   "metadata": {},
   "outputs": [],
   "source": []
  },
  {
   "cell_type": "code",
   "execution_count": 110,
   "metadata": {},
   "outputs": [
    {
     "data": {
      "image/png": "[encoded data removed]",
      "text/plain": [
       "<Figure size 1008x504 with 1 Axes>"
      ]
     },
     "metadata": {
      "needs_background": "light"
     },
     "output_type": "display_data"
    }
   ],
   "source": [
    "# sns.set()\n",
    "plt.figure(figsize=(14, 7))\n",
    "sns.distplot(cocoa, bins=50, kde=False)\n",
    "plt.xlim(0, 100); plt.xticks(range(0, 100, 10))\n",
    "plt.grid(True)\n",
    "plt.title('Cocoa content in Chocolates', fontdict={'fontsize': 18})\n",
    "plt.xlabel('Cocoa (per 100g Chocolate)')\n",
    "# plt.savefig('fig07_cocoa.png', bbox_inches='tight', dpi=300)\n",
    "\n",
    "plt.show()\n",
    "# looks like bimodal, primary at 30% or 70%"
   ]
  },
  {
   "cell_type": "code",
   "execution_count": 111,
   "metadata": {},
   "outputs": [
    {
     "data": {
      "text/plain": [
       "(3072, 15)"
      ]
     },
     "execution_count": 111,
     "metadata": {},
     "output_type": "execute_result"
    }
   ],
   "source": [
    "# slicing dataframe for chocolates with cocoa content\n",
    "df_cc = df_cc[df_cc.cocoa_100g.notna()]\n",
    "df_cc['saturated-fat_100g'].fillna(0, inplace=True)\n",
    "df_cc.shape"
   ]
  },
  {
   "cell_type": "code",
   "execution_count": null,
   "metadata": {},
   "outputs": [],
   "source": []
  },
  {
   "cell_type": "markdown",
   "metadata": {},
   "source": [
    "## With main nutrients"
   ]
  },
  {
   "cell_type": "raw",
   "metadata": {},
   "source": [
    "main_nutrients = ['energy_100g', 'fat_100g', 'sugars_100g', 'fiber_100g', 'proteins_100g', 'salt_100g']"
   ]
  },
  {
   "cell_type": "code",
   "execution_count": null,
   "metadata": {},
   "outputs": [],
   "source": []
  },
  {
   "cell_type": "markdown",
   "metadata": {},
   "source": [
    "## With all avaiable nutrients"
   ]
  },
  {
   "cell_type": "code",
   "execution_count": 13,
   "metadata": {},
   "outputs": [],
   "source": [
    "all_cols_cc = df_cc.drop(not_used_cc + ['cocoa_100g'], axis=1).columns"
   ]
  },
  {
   "cell_type": "markdown",
   "metadata": {},
   "source": [
    "### with original data"
   ]
  },
  {
   "cell_type": "code",
   "execution_count": 14,
   "metadata": {},
   "outputs": [
    {
     "data": {
      "text/plain": [
       "((2457, 10), (615, 10), (2457,), (615,))"
      ]
     },
     "execution_count": 14,
     "metadata": {},
     "output_type": "execute_result"
    }
   ],
   "source": [
    "X_train, X_test, y_train, y_test = \\\n",
    "    train_test_split(df_cc[all_cols_cc], df_cc.cocoa_100g, random_state=42, test_size=0.2)\n",
    "X_train.shape, X_test.shape, y_train.shape, y_test.shape"
   ]
  },
  {
   "cell_type": "code",
   "execution_count": 15,
   "metadata": {},
   "outputs": [
    {
     "name": "stdout",
     "output_type": "stream",
     "text": [
      "LinearRegression(copy_X=True, fit_intercept=True, n_jobs=None,\n",
      "         normalize=False)\n",
      "Accuracy: 0.6844 (+/- 0.0678)\n",
      "--\n",
      "Ridge(alpha=0.001, copy_X=True, fit_intercept=True, max_iter=None,\n",
      "   normalize=False, random_state=None, solver='auto', tol=0.001)\n",
      "Accuracy: 0.6845 (+/- 0.0678)\n",
      "--\n",
      "Lasso(alpha=0.001, copy_X=True, fit_intercept=True, max_iter=1000,\n",
      "   normalize=False, positive=False, precompute=False, random_state=None,\n",
      "   selection='cyclic', tol=0.0001, warm_start=False)\n",
      "Accuracy: 0.6845 (+/- 0.0678)\n",
      "--\n"
     ]
    }
   ],
   "source": [
    "clfs = [LinearRegression(), Ridge(alpha=.001), Lasso(alpha=.001)]\n",
    "\n",
    "for clf in clfs: \n",
    "    scores = cross_val_score(clf, df_cc[all_cols_cc], df_cc.cocoa_100g, cv=10)\n",
    "    print(clf)\n",
    "    print(\"Accuracy: %0.4f (+/- %0.4f)\" % (scores.mean(), scores.std() * 2))\n",
    "    print('--')"
   ]
  },
  {
   "cell_type": "code",
   "execution_count": null,
   "metadata": {},
   "outputs": [],
   "source": []
  },
  {
   "cell_type": "markdown",
   "metadata": {},
   "source": [
    "### with original + normalized"
   ]
  },
  {
   "cell_type": "code",
   "execution_count": 20,
   "metadata": {},
   "outputs": [
    {
     "data": {
      "text/plain": [
       "((2457, 10), (615, 10), (2457,), (615,))"
      ]
     },
     "execution_count": 20,
     "metadata": {},
     "output_type": "execute_result"
    }
   ],
   "source": [
    "scaler = StandardScaler()\n",
    "data = scaler.fit_transform(df_cc[all_cols_cc])\n",
    "                            \n",
    "X_train, X_test, y_train, y_test = \\\n",
    "    train_test_split(data, df_cc.cocoa_100g, random_state=42, test_size=0.2)\n",
    "X_train.shape, X_test.shape, y_train.shape, y_test.shape"
   ]
  },
  {
   "cell_type": "code",
   "execution_count": 21,
   "metadata": {},
   "outputs": [
    {
     "name": "stdout",
     "output_type": "stream",
     "text": [
      "LinearRegression(copy_X=True, fit_intercept=True, n_jobs=None,\n",
      "         normalize=False)\n",
      "Accuracy: 0.6844 (+/- 0.0678)\n",
      "--\n",
      "Ridge(alpha=0.001, copy_X=True, fit_intercept=True, max_iter=None,\n",
      "   normalize=False, random_state=None, solver='auto', tol=0.001)\n",
      "Accuracy: 0.6845 (+/- 0.0678)\n",
      "--\n",
      "Lasso(alpha=0.001, copy_X=True, fit_intercept=True, max_iter=1000,\n",
      "   normalize=False, positive=False, precompute=False, random_state=None,\n",
      "   selection='cyclic', tol=0.0001, warm_start=False)\n",
      "Accuracy: 0.6845 (+/- 0.0679)\n",
      "--\n"
     ]
    }
   ],
   "source": [
    "clfs = [LinearRegression(), Ridge(alpha=.001), Lasso(alpha=.001)]\n",
    "\n",
    "for clf in clfs: \n",
    "    scores = cross_val_score(clf, data, df_cc.cocoa_100g, cv=10)\n",
    "    print(clf)\n",
    "    print(\"Accuracy: %0.4f (+/- %0.4f)\" % (scores.mean(), scores.std() * 2))\n",
    "    print('--')"
   ]
  },
  {
   "cell_type": "code",
   "execution_count": null,
   "metadata": {},
   "outputs": [],
   "source": []
  },
  {
   "cell_type": "markdown",
   "metadata": {},
   "source": [
    "### with polynomical features"
   ]
  },
  {
   "cell_type": "code",
   "execution_count": 68,
   "metadata": {},
   "outputs": [
    {
     "data": {
      "text/plain": [
       "(3072, 66)"
      ]
     },
     "execution_count": 68,
     "metadata": {},
     "output_type": "execute_result"
    }
   ],
   "source": [
    "poly = PolynomialFeatures(2)\n",
    "data = poly.fit_transform(df_cc[all_cols_cc])\n",
    "data.shape"
   ]
  },
  {
   "cell_type": "code",
   "execution_count": 69,
   "metadata": {},
   "outputs": [
    {
     "data": {
      "text/plain": [
       "((2457, 66), (615, 66), (2457,), (615,))"
      ]
     },
     "execution_count": 69,
     "metadata": {},
     "output_type": "execute_result"
    }
   ],
   "source": [
    "X_train, X_test, y_train, y_test = \\\n",
    "    train_test_split(data, df_cc.cocoa_100g, random_state=42, test_size=0.2)\n",
    "X_train.shape, X_test.shape, y_train.shape, y_test.shape"
   ]
  },
  {
   "cell_type": "code",
   "execution_count": 70,
   "metadata": {},
   "outputs": [
    {
     "name": "stdout",
     "output_type": "stream",
     "text": [
      "LinearRegression(copy_X=True, fit_intercept=True, n_jobs=None,\n",
      "         normalize=False)\n",
      "Accuracy: -4.8641 (+/- 31.8285)\n",
      "--\n",
      "Ridge(alpha=0.1, copy_X=True, fit_intercept=True, max_iter=30000,\n",
      "   normalize=False, random_state=None, solver='auto', tol=0.001)\n",
      "Accuracy: 0.7787 (+/- 0.1277)\n",
      "--\n"
     ]
    },
    {
     "name": "stderr",
     "output_type": "stream",
     "text": [
      "C:\\Users\\davilaYuan\\Miniconda3\\envs\\sklearn\\lib\\site-packages\\sklearn\\linear_model\\coordinate_descent.py:491: ConvergenceWarning: Objective did not converge. You might want to increase the number of iterations. Fitting data with very small alpha may cause precision problems.\n",
      "  ConvergenceWarning)\n",
      "C:\\Users\\davilaYuan\\Miniconda3\\envs\\sklearn\\lib\\site-packages\\sklearn\\linear_model\\coordinate_descent.py:491: ConvergenceWarning: Objective did not converge. You might want to increase the number of iterations. Fitting data with very small alpha may cause precision problems.\n",
      "  ConvergenceWarning)\n"
     ]
    },
    {
     "name": "stdout",
     "output_type": "stream",
     "text": [
      "Lasso(alpha=0.1, copy_X=True, fit_intercept=True, max_iter=30000,\n",
      "   normalize=False, positive=False, precompute=False, random_state=None,\n",
      "   selection='cyclic', tol=0.0001, warm_start=False)\n",
      "Accuracy: 0.7853 (+/- 0.1209)\n",
      "--\n"
     ]
    }
   ],
   "source": [
    "clfs = [LinearRegression(), Ridge(alpha=.1, max_iter=30000), Lasso(alpha=.1, max_iter=30000)]\n",
    "\n",
    "for clf in clfs: \n",
    "    scores = cross_val_score(clf, data, df_cc.cocoa_100g, cv=10)\n",
    "    print(clf)\n",
    "    print(\"Accuracy: %0.4f (+/- %0.4f)\" % (scores.mean(), scores.std() * 2))\n",
    "    print('--')"
   ]
  },
  {
   "cell_type": "code",
   "execution_count": null,
   "metadata": {},
   "outputs": [],
   "source": []
  },
  {
   "cell_type": "markdown",
   "metadata": {},
   "source": [
    "### with polynomial + normalized"
   ]
  },
  {
   "cell_type": "markdown",
   "metadata": {},
   "source": [
    "##### with polynomical features"
   ]
  },
  {
   "cell_type": "code",
   "execution_count": 42,
   "metadata": {},
   "outputs": [
    {
     "data": {
      "text/plain": [
       "(3072, 66)"
      ]
     },
     "execution_count": 42,
     "metadata": {},
     "output_type": "execute_result"
    }
   ],
   "source": [
    "poly = PolynomialFeatures(2)\n",
    "data = poly.fit_transform(df_cc[all_cols_cc])\n",
    "data.shape"
   ]
  },
  {
   "cell_type": "code",
   "execution_count": 43,
   "metadata": {},
   "outputs": [
    {
     "data": {
      "text/plain": [
       "((2457, 66), (615, 66), (2457,), (615,))"
      ]
     },
     "execution_count": 43,
     "metadata": {},
     "output_type": "execute_result"
    }
   ],
   "source": [
    "scaler = StandardScaler()\n",
    "data = scaler.fit_transform(data)\n",
    "                            \n",
    "X_train, X_test, y_train, y_test = \\\n",
    "    train_test_split(data, df_cc.cocoa_100g, random_state=42, test_size=0.2)\n",
    "X_train.shape, X_test.shape, y_train.shape, y_test.shape     "
   ]
  },
  {
   "cell_type": "code",
   "execution_count": 36,
   "metadata": {},
   "outputs": [
    {
     "name": "stdout",
     "output_type": "stream",
     "text": [
      "LinearRegression(copy_X=True, fit_intercept=True, n_jobs=None,\n",
      "         normalize=False)\n",
      "Accuracy: -4.8598 (+/- 31.8023)\n",
      "--\n",
      "Ridge(alpha=0.1, copy_X=True, fit_intercept=True, max_iter=30000,\n",
      "   normalize=False, random_state=None, solver='auto', tol=0.001)\n",
      "Accuracy: 0.7804 (+/- 0.1280)\n",
      "--\n",
      "Lasso(alpha=0.1, copy_X=True, fit_intercept=True, max_iter=30000,\n",
      "   normalize=False, positive=False, precompute=False, random_state=None,\n",
      "   selection='cyclic', tol=0.0001, warm_start=False)\n",
      "Accuracy: 0.7792 (+/- 0.0589)\n",
      "--\n"
     ]
    }
   ],
   "source": [
    "clfs = [LinearRegression(), Ridge(alpha=.1, max_iter=30000), Lasso(alpha=.1, max_iter=30000)]\n",
    "\n",
    "for clf in clfs: \n",
    "    scores = cross_val_score(clf, data, df_cc.cocoa_100g, cv=10)\n",
    "    print(clf)\n",
    "    print(\"Accuracy: %0.4f (+/- %0.4f)\" % (scores.mean(), scores.std() * 2))\n",
    "    print('--')"
   ]
  },
  {
   "cell_type": "code",
   "execution_count": null,
   "metadata": {},
   "outputs": [],
   "source": []
  },
  {
   "cell_type": "markdown",
   "metadata": {},
   "source": [
    "### tuning the final modal"
   ]
  },
  {
   "cell_type": "code",
   "execution_count": 38,
   "metadata": {},
   "outputs": [],
   "source": [
    "from sklearn.model_selection import GridSearchCV"
   ]
  },
  {
   "cell_type": "code",
   "execution_count": 39,
   "metadata": {},
   "outputs": [],
   "source": [
    "rig = Ridge(max_iter=50000)\n",
    "las = Lasso(max_iter=50000)"
   ]
  },
  {
   "cell_type": "code",
   "execution_count": 40,
   "metadata": {},
   "outputs": [],
   "source": [
    "params = {'alpha':[0.1, 0.5, 1.0, 3.0, 5.0], 'tol':[0.00001, 0.0001, 0.001, 0.01, 0.1]}"
   ]
  },
  {
   "cell_type": "code",
   "execution_count": 51,
   "metadata": {},
   "outputs": [
    {
     "name": "stdout",
     "output_type": "stream",
     "text": [
      "Wall time: 646 ms\n"
     ]
    }
   ],
   "source": [
    "%%time\n",
    "rig_cv = GridSearchCV(rig, params, cv=5)\n",
    "rig_cv.fit(X_train, y_train)"
   ]
  },
  {
   "cell_type": "code",
   "execution_count": 61,
   "metadata": {},
   "outputs": [
    {
     "data": {
      "text/plain": [
       "({'alpha': 3.0, 'tol': 1e-05}, 0.8199564155219551)"
      ]
     },
     "execution_count": 61,
     "metadata": {},
     "output_type": "execute_result"
    }
   ],
   "source": [
    "rig_cv.best_params_, rig_cv.best_score_"
   ]
  },
  {
   "cell_type": "code",
   "execution_count": 62,
   "metadata": {},
   "outputs": [
    {
     "name": "stdout",
     "output_type": "stream",
     "text": [
      "0.7921610449891632\n"
     ]
    }
   ],
   "source": [
    "print(rig_cv.score(X_test, y_test))"
   ]
  },
  {
   "cell_type": "code",
   "execution_count": 53,
   "metadata": {},
   "outputs": [
    {
     "name": "stdout",
     "output_type": "stream",
     "text": [
      "Wall time: 2.49 s\n"
     ]
    }
   ],
   "source": [
    "%%time\n",
    "las_cv = GridSearchCV(las, params, cv=5)\n",
    "las_cv.fit(X_train, y_train)"
   ]
  },
  {
   "cell_type": "code",
   "execution_count": 63,
   "metadata": {},
   "outputs": [
    {
     "data": {
      "text/plain": [
       "({'alpha': 0.1, 'tol': 0.001}, 0.7978377088863151)"
      ]
     },
     "execution_count": 63,
     "metadata": {},
     "output_type": "execute_result"
    }
   ],
   "source": [
    "las_cv.best_params_, las_cv.best_score_"
   ]
  },
  {
   "cell_type": "code",
   "execution_count": 64,
   "metadata": {},
   "outputs": [
    {
     "name": "stdout",
     "output_type": "stream",
     "text": [
      "0.7938065436999694\n"
     ]
    }
   ],
   "source": [
    "print(las_cv.score(X_test, y_test))"
   ]
  },
  {
   "cell_type": "code",
   "execution_count": null,
   "metadata": {},
   "outputs": [],
   "source": []
  },
  {
   "cell_type": "code",
   "execution_count": null,
   "metadata": {},
   "outputs": [],
   "source": []
  },
  {
   "cell_type": "markdown",
   "metadata": {},
   "source": [
    "### correation between cocoa and other nutrients"
   ]
  },
  {
   "cell_type": "code",
   "execution_count": 49,
   "metadata": {},
   "outputs": [],
   "source": [
    "corr_cols_cc = ['cocoa_100g', 'energy_100g', 'fat_100g', 'saturated-fat_100g', 'sugars_100g', 'carbohydrates_100g', \\\n",
    "                'fiber_100g', 'proteins_100g', 'sodium_100g', 'salt_100g', 'additives_n']"
   ]
  },
  {
   "cell_type": "code",
   "execution_count": 50,
   "metadata": {},
   "outputs": [
    {
     "data": {
      "text/html": [
       "<div>\n",
       "<style scoped>\n",
       "    .dataframe tbody tr th:only-of-type {\n",
       "        vertical-align: middle;\n",
       "    }\n",
       "\n",
       "    .dataframe tbody tr th {\n",
       "        vertical-align: top;\n",
       "    }\n",
       "\n",
       "    .dataframe thead th {\n",
       "        text-align: right;\n",
       "    }\n",
       "</style>\n",
       "<table border=\"1\" class=\"dataframe\">\n",
       "  <thead>\n",
       "    <tr style=\"text-align: right;\">\n",
       "      <th></th>\n",
       "      <th>cocoa_100g</th>\n",
       "      <th>energy_100g</th>\n",
       "      <th>fat_100g</th>\n",
       "      <th>saturated-fat_100g</th>\n",
       "      <th>sugars_100g</th>\n",
       "      <th>carbohydrates_100g</th>\n",
       "      <th>fiber_100g</th>\n",
       "      <th>proteins_100g</th>\n",
       "      <th>sodium_100g</th>\n",
       "      <th>salt_100g</th>\n",
       "      <th>additives_n</th>\n",
       "    </tr>\n",
       "  </thead>\n",
       "  <tbody>\n",
       "    <tr>\n",
       "      <th>cocoa_100g</th>\n",
       "      <td>1.000000</td>\n",
       "      <td>0.313682</td>\n",
       "      <td>0.635174</td>\n",
       "      <td>0.619289</td>\n",
       "      <td>-0.805047</td>\n",
       "      <td>-0.800799</td>\n",
       "      <td>0.257518</td>\n",
       "      <td>0.454399</td>\n",
       "      <td>-0.047743</td>\n",
       "      <td>-0.047745</td>\n",
       "      <td>-0.305609</td>\n",
       "    </tr>\n",
       "    <tr>\n",
       "      <th>energy_100g</th>\n",
       "      <td>0.313682</td>\n",
       "      <td>1.000000</td>\n",
       "      <td>0.783366</td>\n",
       "      <td>0.676025</td>\n",
       "      <td>-0.236885</td>\n",
       "      <td>-0.300936</td>\n",
       "      <td>-0.091567</td>\n",
       "      <td>0.284304</td>\n",
       "      <td>-0.056914</td>\n",
       "      <td>-0.056913</td>\n",
       "      <td>-0.192119</td>\n",
       "    </tr>\n",
       "    <tr>\n",
       "      <th>fat_100g</th>\n",
       "      <td>0.635174</td>\n",
       "      <td>0.783366</td>\n",
       "      <td>1.000000</td>\n",
       "      <td>0.875564</td>\n",
       "      <td>-0.673997</td>\n",
       "      <td>-0.737794</td>\n",
       "      <td>0.027820</td>\n",
       "      <td>0.423631</td>\n",
       "      <td>-0.023038</td>\n",
       "      <td>-0.023037</td>\n",
       "      <td>-0.272216</td>\n",
       "    </tr>\n",
       "    <tr>\n",
       "      <th>saturated-fat_100g</th>\n",
       "      <td>0.619289</td>\n",
       "      <td>0.676025</td>\n",
       "      <td>0.875564</td>\n",
       "      <td>1.000000</td>\n",
       "      <td>-0.601761</td>\n",
       "      <td>-0.656960</td>\n",
       "      <td>0.030593</td>\n",
       "      <td>0.307290</td>\n",
       "      <td>-0.011388</td>\n",
       "      <td>-0.011389</td>\n",
       "      <td>-0.252402</td>\n",
       "    </tr>\n",
       "    <tr>\n",
       "      <th>sugars_100g</th>\n",
       "      <td>-0.805047</td>\n",
       "      <td>-0.236885</td>\n",
       "      <td>-0.673997</td>\n",
       "      <td>-0.601761</td>\n",
       "      <td>1.000000</td>\n",
       "      <td>0.899188</td>\n",
       "      <td>-0.225002</td>\n",
       "      <td>-0.518119</td>\n",
       "      <td>0.020120</td>\n",
       "      <td>0.020121</td>\n",
       "      <td>0.237148</td>\n",
       "    </tr>\n",
       "    <tr>\n",
       "      <th>carbohydrates_100g</th>\n",
       "      <td>-0.800799</td>\n",
       "      <td>-0.300936</td>\n",
       "      <td>-0.737794</td>\n",
       "      <td>-0.656960</td>\n",
       "      <td>0.899188</td>\n",
       "      <td>1.000000</td>\n",
       "      <td>-0.203089</td>\n",
       "      <td>-0.539968</td>\n",
       "      <td>0.022274</td>\n",
       "      <td>0.022274</td>\n",
       "      <td>0.292901</td>\n",
       "    </tr>\n",
       "    <tr>\n",
       "      <th>fiber_100g</th>\n",
       "      <td>0.257518</td>\n",
       "      <td>-0.091567</td>\n",
       "      <td>0.027820</td>\n",
       "      <td>0.030593</td>\n",
       "      <td>-0.225002</td>\n",
       "      <td>-0.203089</td>\n",
       "      <td>1.000000</td>\n",
       "      <td>0.139015</td>\n",
       "      <td>-0.077451</td>\n",
       "      <td>-0.077458</td>\n",
       "      <td>-0.000582</td>\n",
       "    </tr>\n",
       "    <tr>\n",
       "      <th>proteins_100g</th>\n",
       "      <td>0.454399</td>\n",
       "      <td>0.284304</td>\n",
       "      <td>0.423631</td>\n",
       "      <td>0.307290</td>\n",
       "      <td>-0.518119</td>\n",
       "      <td>-0.539968</td>\n",
       "      <td>0.139015</td>\n",
       "      <td>1.000000</td>\n",
       "      <td>0.031477</td>\n",
       "      <td>0.031473</td>\n",
       "      <td>-0.226196</td>\n",
       "    </tr>\n",
       "    <tr>\n",
       "      <th>sodium_100g</th>\n",
       "      <td>-0.047743</td>\n",
       "      <td>-0.056914</td>\n",
       "      <td>-0.023038</td>\n",
       "      <td>-0.011388</td>\n",
       "      <td>0.020120</td>\n",
       "      <td>0.022274</td>\n",
       "      <td>-0.077451</td>\n",
       "      <td>0.031477</td>\n",
       "      <td>1.000000</td>\n",
       "      <td>1.000000</td>\n",
       "      <td>-0.022455</td>\n",
       "    </tr>\n",
       "    <tr>\n",
       "      <th>salt_100g</th>\n",
       "      <td>-0.047745</td>\n",
       "      <td>-0.056913</td>\n",
       "      <td>-0.023037</td>\n",
       "      <td>-0.011389</td>\n",
       "      <td>0.020121</td>\n",
       "      <td>0.022274</td>\n",
       "      <td>-0.077458</td>\n",
       "      <td>0.031473</td>\n",
       "      <td>1.000000</td>\n",
       "      <td>1.000000</td>\n",
       "      <td>-0.022454</td>\n",
       "    </tr>\n",
       "    <tr>\n",
       "      <th>additives_n</th>\n",
       "      <td>-0.305609</td>\n",
       "      <td>-0.192119</td>\n",
       "      <td>-0.272216</td>\n",
       "      <td>-0.252402</td>\n",
       "      <td>0.237148</td>\n",
       "      <td>0.292901</td>\n",
       "      <td>-0.000582</td>\n",
       "      <td>-0.226196</td>\n",
       "      <td>-0.022455</td>\n",
       "      <td>-0.022454</td>\n",
       "      <td>1.000000</td>\n",
       "    </tr>\n",
       "  </tbody>\n",
       "</table>\n",
       "</div>"
      ],
      "text/plain": [
       "                    cocoa_100g  energy_100g  fat_100g  saturated-fat_100g  \\\n",
       "cocoa_100g            1.000000     0.313682  0.635174            0.619289   \n",
       "energy_100g           0.313682     1.000000  0.783366            0.676025   \n",
       "fat_100g              0.635174     0.783366  1.000000            0.875564   \n",
       "saturated-fat_100g    0.619289     0.676025  0.875564            1.000000   \n",
       "sugars_100g          -0.805047    -0.236885 -0.673997           -0.601761   \n",
       "carbohydrates_100g   -0.800799    -0.300936 -0.737794           -0.656960   \n",
       "fiber_100g            0.257518    -0.091567  0.027820            0.030593   \n",
       "proteins_100g         0.454399     0.284304  0.423631            0.307290   \n",
       "sodium_100g          -0.047743    -0.056914 -0.023038           -0.011388   \n",
       "salt_100g            -0.047745    -0.056913 -0.023037           -0.011389   \n",
       "additives_n          -0.305609    -0.192119 -0.272216           -0.252402   \n",
       "\n",
       "                    sugars_100g  carbohydrates_100g  fiber_100g  \\\n",
       "cocoa_100g            -0.805047           -0.800799    0.257518   \n",
       "energy_100g           -0.236885           -0.300936   -0.091567   \n",
       "fat_100g              -0.673997           -0.737794    0.027820   \n",
       "saturated-fat_100g    -0.601761           -0.656960    0.030593   \n",
       "sugars_100g            1.000000            0.899188   -0.225002   \n",
       "carbohydrates_100g     0.899188            1.000000   -0.203089   \n",
       "fiber_100g            -0.225002           -0.203089    1.000000   \n",
       "proteins_100g         -0.518119           -0.539968    0.139015   \n",
       "sodium_100g            0.020120            0.022274   -0.077451   \n",
       "salt_100g              0.020121            0.022274   -0.077458   \n",
       "additives_n            0.237148            0.292901   -0.000582   \n",
       "\n",
       "                    proteins_100g  sodium_100g  salt_100g  additives_n  \n",
       "cocoa_100g               0.454399    -0.047743  -0.047745    -0.305609  \n",
       "energy_100g              0.284304    -0.056914  -0.056913    -0.192119  \n",
       "fat_100g                 0.423631    -0.023038  -0.023037    -0.272216  \n",
       "saturated-fat_100g       0.307290    -0.011388  -0.011389    -0.252402  \n",
       "sugars_100g             -0.518119     0.020120   0.020121     0.237148  \n",
       "carbohydrates_100g      -0.539968     0.022274   0.022274     0.292901  \n",
       "fiber_100g               0.139015    -0.077451  -0.077458    -0.000582  \n",
       "proteins_100g            1.000000     0.031477   0.031473    -0.226196  \n",
       "sodium_100g              0.031477     1.000000   1.000000    -0.022455  \n",
       "salt_100g                0.031473     1.000000   1.000000    -0.022454  \n",
       "additives_n             -0.226196    -0.022455  -0.022454     1.000000  "
      ]
     },
     "execution_count": 50,
     "metadata": {},
     "output_type": "execute_result"
    }
   ],
   "source": [
    "df_cc[corr_cols_cc].corr()"
   ]
  },
  {
   "cell_type": "code",
   "execution_count": 51,
   "metadata": {},
   "outputs": [
    {
     "data": {
      "image/png": "[encoded data removed]",
      "text/plain": [
       "<Figure size 1008x504 with 2 Axes>"
      ]
     },
     "metadata": {
      "needs_background": "light"
     },
     "output_type": "display_data"
    }
   ],
   "source": [
    "plt.figure(figsize=(14, 7))\n",
    "sns.heatmap(df_cc[corr_cols_cc].corr(), xticklabels=2, annot=True, vmin=-1.0, vmax=1.0)\n",
    "plt.title('Cocoa and Nutrients Correlations', fontdict={'fontsize': 18})\n",
    "# plt.savefig('fig10_cocoa3.png', bbox_inches='tight', dpi=300)\n",
    "\n",
    "plt.show()\n",
    "# looks like bimodal, primary at 30% or 70%"
   ]
  },
  {
   "cell_type": "code",
   "execution_count": null,
   "metadata": {},
   "outputs": [],
   "source": []
  },
  {
   "cell_type": "markdown",
   "metadata": {},
   "source": [
    "### predict on the remaining chocolates"
   ]
  },
  {
   "cell_type": "code",
   "execution_count": 72,
   "metadata": {},
   "outputs": [],
   "source": [
    "df_cc = df.iloc[chocos, :].drop(['alcohol_100g', 'energy-from-fat_100g', 'trans-fat_100g', \\\n",
    "                                 'cholesterol_100g', 'caffeine_100g', 'additives_tags', 'countries_tags', \\\n",
    "                                 'product_name', 'nutrition-score-fr_100g', 'nutrition-score-uk_100g'], axis=1)\n",
    "df_cc.fiber_100g.fillna(0, inplace=True)\n",
    "df_cc.additives_n.fillna(0, inplace=True)\n",
    "df_cc.reset_index(inplace=True, drop=True)"
   ]
  },
  {
   "cell_type": "code",
   "execution_count": 73,
   "metadata": {},
   "outputs": [
    {
     "data": {
      "text/html": [
       "<div>\n",
       "<style scoped>\n",
       "    .dataframe tbody tr th:only-of-type {\n",
       "        vertical-align: middle;\n",
       "    }\n",
       "\n",
       "    .dataframe tbody tr th {\n",
       "        vertical-align: top;\n",
       "    }\n",
       "\n",
       "    .dataframe thead th {\n",
       "        text-align: right;\n",
       "    }\n",
       "</style>\n",
       "<table border=\"1\" class=\"dataframe\">\n",
       "  <thead>\n",
       "    <tr style=\"text-align: right;\">\n",
       "      <th></th>\n",
       "      <th>additives_n</th>\n",
       "      <th>energy_100g</th>\n",
       "      <th>fat_100g</th>\n",
       "      <th>fiber_100g</th>\n",
       "      <th>proteins_100g</th>\n",
       "      <th>sugars_100g</th>\n",
       "      <th>sodium_100g</th>\n",
       "      <th>salt_100g</th>\n",
       "      <th>cocoa_100g</th>\n",
       "      <th>saturated-fat_100g</th>\n",
       "      <th>carbohydrates_100g</th>\n",
       "    </tr>\n",
       "  </thead>\n",
       "  <tbody>\n",
       "    <tr>\n",
       "      <th>0</th>\n",
       "      <td>1.0</td>\n",
       "      <td>537.0</td>\n",
       "      <td>32.5</td>\n",
       "      <td>1.7</td>\n",
       "      <td>6.8</td>\n",
       "      <td>53.5</td>\n",
       "      <td>0.078740</td>\n",
       "      <td>0.200</td>\n",
       "      <td>NaN</td>\n",
       "      <td>20.1</td>\n",
       "      <td>53.7</td>\n",
       "    </tr>\n",
       "    <tr>\n",
       "      <th>1</th>\n",
       "      <td>0.0</td>\n",
       "      <td>517.0</td>\n",
       "      <td>29.3</td>\n",
       "      <td>0.0</td>\n",
       "      <td>6.1</td>\n",
       "      <td>56.1</td>\n",
       "      <td>0.070866</td>\n",
       "      <td>0.180</td>\n",
       "      <td>30.0</td>\n",
       "      <td>18.1</td>\n",
       "      <td>56.4</td>\n",
       "    </tr>\n",
       "    <tr>\n",
       "      <th>2</th>\n",
       "      <td>0.0</td>\n",
       "      <td>361.0</td>\n",
       "      <td>11.5</td>\n",
       "      <td>29.5</td>\n",
       "      <td>25.8</td>\n",
       "      <td>1.2</td>\n",
       "      <td>0.000000</td>\n",
       "      <td>0.000</td>\n",
       "      <td>NaN</td>\n",
       "      <td>6.9</td>\n",
       "      <td>23.9</td>\n",
       "    </tr>\n",
       "    <tr>\n",
       "      <th>3</th>\n",
       "      <td>0.0</td>\n",
       "      <td>525.0</td>\n",
       "      <td>31.8</td>\n",
       "      <td>0.0</td>\n",
       "      <td>6.2</td>\n",
       "      <td>48.4</td>\n",
       "      <td>0.048819</td>\n",
       "      <td>0.124</td>\n",
       "      <td>NaN</td>\n",
       "      <td>19.6</td>\n",
       "      <td>50.2</td>\n",
       "    </tr>\n",
       "    <tr>\n",
       "      <th>4</th>\n",
       "      <td>2.0</td>\n",
       "      <td>574.0</td>\n",
       "      <td>40.0</td>\n",
       "      <td>2.5</td>\n",
       "      <td>5.0</td>\n",
       "      <td>50.0</td>\n",
       "      <td>0.087500</td>\n",
       "      <td>0.222</td>\n",
       "      <td>NaN</td>\n",
       "      <td>25.0</td>\n",
       "      <td>50.0</td>\n",
       "    </tr>\n",
       "  </tbody>\n",
       "</table>\n",
       "</div>"
      ],
      "text/plain": [
       "   additives_n  energy_100g  fat_100g  fiber_100g  proteins_100g  sugars_100g  \\\n",
       "0          1.0        537.0      32.5         1.7            6.8         53.5   \n",
       "1          0.0        517.0      29.3         0.0            6.1         56.1   \n",
       "2          0.0        361.0      11.5        29.5           25.8          1.2   \n",
       "3          0.0        525.0      31.8         0.0            6.2         48.4   \n",
       "4          2.0        574.0      40.0         2.5            5.0         50.0   \n",
       "\n",
       "   sodium_100g  salt_100g  cocoa_100g  saturated-fat_100g  carbohydrates_100g  \n",
       "0     0.078740      0.200         NaN                20.1                53.7  \n",
       "1     0.070866      0.180        30.0                18.1                56.4  \n",
       "2     0.000000      0.000         NaN                 6.9                23.9  \n",
       "3     0.048819      0.124         NaN                19.6                50.2  \n",
       "4     0.087500      0.222         NaN                25.0                50.0  "
      ]
     },
     "execution_count": 73,
     "metadata": {},
     "output_type": "execute_result"
    }
   ],
   "source": [
    "not_used_cc = ['code', 'labels_tags', 'categories_tags', 'nutrition_grade_fr']\n",
    "df_cc.drop(not_used_cc, axis=1).head()"
   ]
  },
  {
   "cell_type": "code",
   "execution_count": 74,
   "metadata": {},
   "outputs": [
    {
     "data": {
      "text/plain": [
       "(3072, 53.01121656600518)"
      ]
     },
     "execution_count": 74,
     "metadata": {},
     "output_type": "execute_result"
    }
   ],
   "source": [
    "sum(df_cc.cocoa_100g.notna()), sum(df_cc.cocoa_100g.notna()) / df_cc.shape[0] * 100\n",
    "# only half of all chocolate has value for cocoa content"
   ]
  },
  {
   "cell_type": "code",
   "execution_count": 79,
   "metadata": {},
   "outputs": [
    {
     "data": {
      "text/html": [
       "<div>\n",
       "<style scoped>\n",
       "    .dataframe tbody tr th:only-of-type {\n",
       "        vertical-align: middle;\n",
       "    }\n",
       "\n",
       "    .dataframe tbody tr th {\n",
       "        vertical-align: top;\n",
       "    }\n",
       "\n",
       "    .dataframe thead th {\n",
       "        text-align: right;\n",
       "    }\n",
       "</style>\n",
       "<table border=\"1\" class=\"dataframe\">\n",
       "  <thead>\n",
       "    <tr style=\"text-align: right;\">\n",
       "      <th></th>\n",
       "      <th>additives_n</th>\n",
       "      <th>energy_100g</th>\n",
       "      <th>fat_100g</th>\n",
       "      <th>fiber_100g</th>\n",
       "      <th>proteins_100g</th>\n",
       "      <th>sugars_100g</th>\n",
       "      <th>sodium_100g</th>\n",
       "      <th>salt_100g</th>\n",
       "      <th>cocoa_100g</th>\n",
       "      <th>saturated-fat_100g</th>\n",
       "      <th>carbohydrates_100g</th>\n",
       "    </tr>\n",
       "  </thead>\n",
       "  <tbody>\n",
       "    <tr>\n",
       "      <th>0</th>\n",
       "      <td>1.0</td>\n",
       "      <td>537.0</td>\n",
       "      <td>32.5</td>\n",
       "      <td>1.7</td>\n",
       "      <td>6.8</td>\n",
       "      <td>53.5</td>\n",
       "      <td>0.078740</td>\n",
       "      <td>0.200</td>\n",
       "      <td>NaN</td>\n",
       "      <td>20.1</td>\n",
       "      <td>53.7</td>\n",
       "    </tr>\n",
       "    <tr>\n",
       "      <th>2</th>\n",
       "      <td>0.0</td>\n",
       "      <td>361.0</td>\n",
       "      <td>11.5</td>\n",
       "      <td>29.5</td>\n",
       "      <td>25.8</td>\n",
       "      <td>1.2</td>\n",
       "      <td>0.000000</td>\n",
       "      <td>0.000</td>\n",
       "      <td>NaN</td>\n",
       "      <td>6.9</td>\n",
       "      <td>23.9</td>\n",
       "    </tr>\n",
       "    <tr>\n",
       "      <th>3</th>\n",
       "      <td>0.0</td>\n",
       "      <td>525.0</td>\n",
       "      <td>31.8</td>\n",
       "      <td>0.0</td>\n",
       "      <td>6.2</td>\n",
       "      <td>48.4</td>\n",
       "      <td>0.048819</td>\n",
       "      <td>0.124</td>\n",
       "      <td>NaN</td>\n",
       "      <td>19.6</td>\n",
       "      <td>50.2</td>\n",
       "    </tr>\n",
       "    <tr>\n",
       "      <th>4</th>\n",
       "      <td>2.0</td>\n",
       "      <td>574.0</td>\n",
       "      <td>40.0</td>\n",
       "      <td>2.5</td>\n",
       "      <td>5.0</td>\n",
       "      <td>50.0</td>\n",
       "      <td>0.087500</td>\n",
       "      <td>0.222</td>\n",
       "      <td>NaN</td>\n",
       "      <td>25.0</td>\n",
       "      <td>50.0</td>\n",
       "    </tr>\n",
       "    <tr>\n",
       "      <th>5</th>\n",
       "      <td>1.0</td>\n",
       "      <td>550.0</td>\n",
       "      <td>32.5</td>\n",
       "      <td>2.5</td>\n",
       "      <td>7.5</td>\n",
       "      <td>52.5</td>\n",
       "      <td>0.062500</td>\n",
       "      <td>0.159</td>\n",
       "      <td>NaN</td>\n",
       "      <td>20.0</td>\n",
       "      <td>55.0</td>\n",
       "    </tr>\n",
       "  </tbody>\n",
       "</table>\n",
       "</div>"
      ],
      "text/plain": [
       "   additives_n  energy_100g  fat_100g  fiber_100g  proteins_100g  sugars_100g  \\\n",
       "0          1.0        537.0      32.5         1.7            6.8         53.5   \n",
       "2          0.0        361.0      11.5        29.5           25.8          1.2   \n",
       "3          0.0        525.0      31.8         0.0            6.2         48.4   \n",
       "4          2.0        574.0      40.0         2.5            5.0         50.0   \n",
       "5          1.0        550.0      32.5         2.5            7.5         52.5   \n",
       "\n",
       "   sodium_100g  salt_100g  cocoa_100g  saturated-fat_100g  carbohydrates_100g  \n",
       "0     0.078740      0.200         NaN                20.1                53.7  \n",
       "2     0.000000      0.000         NaN                 6.9                23.9  \n",
       "3     0.048819      0.124         NaN                19.6                50.2  \n",
       "4     0.087500      0.222         NaN                25.0                50.0  \n",
       "5     0.062500      0.159         NaN                20.0                55.0  "
      ]
     },
     "execution_count": 79,
     "metadata": {},
     "output_type": "execute_result"
    }
   ],
   "source": [
    "tmp = df_cc[df_cc.cocoa_100g.isna()].drop(not_used_cc, axis=1)\n",
    "tmp.head()"
   ]
  },
  {
   "cell_type": "code",
   "execution_count": 90,
   "metadata": {},
   "outputs": [],
   "source": [
    "tmp = tmp[(tmp.carbohydrates_100g.notna()) & (tmp['saturated-fat_100g'].notna())]"
   ]
  },
  {
   "cell_type": "code",
   "execution_count": 99,
   "metadata": {},
   "outputs": [
    {
     "data": {
      "text/plain": [
       "(2717, 66)"
      ]
     },
     "execution_count": 99,
     "metadata": {},
     "output_type": "execute_result"
    }
   ],
   "source": [
    "new_data = poly.transform(tmp[all_cols_cc] )\n",
    "new_data = scaler.transform(new_data)\n",
    "new_data.shape"
   ]
  },
  {
   "cell_type": "code",
   "execution_count": 100,
   "metadata": {},
   "outputs": [],
   "source": [
    "new_label = las_cv.predict(new_data)"
   ]
  },
  {
   "cell_type": "code",
   "execution_count": 101,
   "metadata": {},
   "outputs": [],
   "source": [
    "tmp.cocoa_100g = new_label"
   ]
  },
  {
   "cell_type": "code",
   "execution_count": 102,
   "metadata": {},
   "outputs": [
    {
     "name": "stdout",
     "output_type": "stream",
     "text": [
      "<class 'pandas.core.frame.DataFrame'>\n",
      "Int64Index: 2717 entries, 0 to 5794\n",
      "Data columns (total 11 columns):\n",
      "additives_n           2717 non-null float64\n",
      "energy_100g           2717 non-null float64\n",
      "fat_100g              2717 non-null float64\n",
      "fiber_100g            2717 non-null float64\n",
      "proteins_100g         2717 non-null float64\n",
      "sugars_100g           2717 non-null float64\n",
      "sodium_100g           2717 non-null float64\n",
      "salt_100g             2717 non-null float64\n",
      "cocoa_100g            2717 non-null float64\n",
      "saturated-fat_100g    2717 non-null float64\n",
      "carbohydrates_100g    2717 non-null float64\n",
      "dtypes: float64(11)\n",
      "memory usage: 254.7 KB\n"
     ]
    }
   ],
   "source": [
    "tmp.info()"
   ]
  },
  {
   "cell_type": "code",
   "execution_count": 103,
   "metadata": {},
   "outputs": [],
   "source": [
    "cocoa = tmp.cocoa_100g\n",
    "energie = tmp.energy_100g"
   ]
  },
  {
   "cell_type": "code",
   "execution_count": 104,
   "metadata": {},
   "outputs": [
    {
     "data": {
      "image/png": "[encoded data removed]",
      "text/plain": [
       "<Figure size 1008x504 with 1 Axes>"
      ]
     },
     "metadata": {
      "needs_background": "light"
     },
     "output_type": "display_data"
    }
   ],
   "source": [
    "# sns.set()\n",
    "plt.figure(figsize=(14, 7))\n",
    "sns.distplot(cocoa, bins=50, kde=False)\n",
    "plt.xlim(0, 100); plt.xticks(range(0, 100, 10))\n",
    "plt.grid(True)\n",
    "# plt.title('Cocoa content in Chocolates', fontdict={'fontsize': 18})\n",
    "# plt.xlabel('Cocoa (per 100g Chocolate)')\n",
    "# plt.savefig('cocoa.png', bbox_inches='tight', dpi=300)\n",
    "\n",
    "plt.show()\n",
    "# looks like bimodal, primary at 30% or 70%"
   ]
  },
  {
   "cell_type": "code",
   "execution_count": 71,
   "metadata": {},
   "outputs": [
    {
     "data": {
      "text/plain": [
       "(3072, 15)"
      ]
     },
     "execution_count": 71,
     "metadata": {},
     "output_type": "execute_result"
    }
   ],
   "source": [
    "df_cc.shape"
   ]
  },
  {
   "cell_type": "code",
   "execution_count": null,
   "metadata": {},
   "outputs": [],
   "source": [
    "df_cc"
   ]
  },
  {
   "cell_type": "code",
   "execution_count": null,
   "metadata": {},
   "outputs": [],
   "source": []
  },
  {
   "cell_type": "code",
   "execution_count": null,
   "metadata": {},
   "outputs": [],
   "source": []
  },
  {
   "cell_type": "markdown",
   "metadata": {},
   "source": [
    "# Binary Classifiers, on Healthy or Not-Healthy"
   ]
  },
  {
   "cell_type": "code",
   "execution_count": 18,
   "metadata": {},
   "outputs": [
    {
     "data": {
      "text/plain": [
       "(146220, 11)"
      ]
     },
     "execution_count": 18,
     "metadata": {},
     "output_type": "execute_result"
    }
   ],
   "source": [
    "used_cols_knn = ['code', 'additives_n', 'energy_100g', 'fat_100g', 'fiber_100g', 'proteins_100g', \\\n",
    "                'sugars_100g', 'sodium_100g', 'salt_100g', 'carbohydrates_100g', 'nutrition_grade_fr']\n",
    "df_knn = df2[used_cols_knn]\n",
    "df_knn = df_knn[df_knn.carbohydrates_100g.notna()]\n",
    "df_knn.reset_index(inplace=True, drop=True)\n",
    "df_knn.additives_n.fillna(0, inplace=True)\n",
    "df_knn.shape"
   ]
  },
  {
   "cell_type": "code",
   "execution_count": 19,
   "metadata": {},
   "outputs": [
    {
     "name": "stdout",
     "output_type": "stream",
     "text": [
      "<class 'pandas.core.frame.DataFrame'>\n",
      "RangeIndex: 146220 entries, 0 to 146219\n",
      "Data columns (total 11 columns):\n",
      "code                  146220 non-null object\n",
      "additives_n           146220 non-null float64\n",
      "energy_100g           146220 non-null float64\n",
      "fat_100g              146220 non-null float64\n",
      "fiber_100g            146220 non-null float64\n",
      "proteins_100g         146220 non-null float64\n",
      "sugars_100g           146220 non-null float64\n",
      "sodium_100g           146220 non-null float64\n",
      "salt_100g             146220 non-null float64\n",
      "carbohydrates_100g    146220 non-null float64\n",
      "is_healthy            146220 non-null category\n",
      "dtypes: category(1), float64(9), object(1)\n",
      "memory usage: 11.3+ MB\n"
     ]
    }
   ],
   "source": [
    "# set to 1 if rank is a or b, else 0; attribute: is_healthy\n",
    "df_knn['is_healthy'] = df_knn.nutrition_grade_fr.apply(lambda x: 1 if x in ['a', 'b'] else 0)\n",
    "df_knn.is_healthy = df_knn.is_healthy.astype('category')\n",
    "df_knn.drop(['nutrition_grade_fr'], axis=1, inplace=True)\n",
    "df_knn.info()"
   ]
  },
  {
   "cell_type": "code",
   "execution_count": 20,
   "metadata": {},
   "outputs": [
    {
     "data": {
      "text/plain": [
       "0    105426\n",
       "1     40794\n",
       "Name: is_healthy, dtype: int64"
      ]
     },
     "execution_count": 20,
     "metadata": {},
     "output_type": "execute_result"
    }
   ],
   "source": [
    "df_knn.is_healthy.value_counts()"
   ]
  },
  {
   "cell_type": "code",
   "execution_count": 21,
   "metadata": {},
   "outputs": [
    {
     "data": {
      "text/html": [
       "<div>\n",
       "<style scoped>\n",
       "    .dataframe tbody tr th:only-of-type {\n",
       "        vertical-align: middle;\n",
       "    }\n",
       "\n",
       "    .dataframe tbody tr th {\n",
       "        vertical-align: top;\n",
       "    }\n",
       "\n",
       "    .dataframe thead th {\n",
       "        text-align: right;\n",
       "    }\n",
       "</style>\n",
       "<table border=\"1\" class=\"dataframe\">\n",
       "  <thead>\n",
       "    <tr style=\"text-align: right;\">\n",
       "      <th></th>\n",
       "      <th>code</th>\n",
       "      <th>additives_n</th>\n",
       "      <th>energy_100g</th>\n",
       "      <th>fat_100g</th>\n",
       "      <th>fiber_100g</th>\n",
       "      <th>proteins_100g</th>\n",
       "      <th>sugars_100g</th>\n",
       "      <th>sodium_100g</th>\n",
       "      <th>salt_100g</th>\n",
       "      <th>carbohydrates_100g</th>\n",
       "      <th>is_healthy</th>\n",
       "    </tr>\n",
       "  </thead>\n",
       "  <tbody>\n",
       "    <tr>\n",
       "      <th>0</th>\n",
       "      <td>0000000001281</td>\n",
       "      <td>0.0</td>\n",
       "      <td>381.0</td>\n",
       "      <td>22.0</td>\n",
       "      <td>4.4</td>\n",
       "      <td>4.6</td>\n",
       "      <td>21.9</td>\n",
       "      <td>0.039370</td>\n",
       "      <td>0.100</td>\n",
       "      <td>27.3</td>\n",
       "      <td>0</td>\n",
       "    </tr>\n",
       "    <tr>\n",
       "      <th>1</th>\n",
       "      <td>0000000001885</td>\n",
       "      <td>0.0</td>\n",
       "      <td>157.0</td>\n",
       "      <td>0.0</td>\n",
       "      <td>3.6</td>\n",
       "      <td>0.6</td>\n",
       "      <td>27.0</td>\n",
       "      <td>0.000000</td>\n",
       "      <td>0.000</td>\n",
       "      <td>36.0</td>\n",
       "      <td>1</td>\n",
       "    </tr>\n",
       "    <tr>\n",
       "      <th>2</th>\n",
       "      <td>0000000005241</td>\n",
       "      <td>0.0</td>\n",
       "      <td>197.0</td>\n",
       "      <td>5.0</td>\n",
       "      <td>0.0</td>\n",
       "      <td>8.4</td>\n",
       "      <td>3.0</td>\n",
       "      <td>0.183858</td>\n",
       "      <td>0.467</td>\n",
       "      <td>28.7</td>\n",
       "      <td>1</td>\n",
       "    </tr>\n",
       "    <tr>\n",
       "      <th>3</th>\n",
       "      <td>0000000005470</td>\n",
       "      <td>3.0</td>\n",
       "      <td>160.0</td>\n",
       "      <td>2.2</td>\n",
       "      <td>1.6</td>\n",
       "      <td>9.5</td>\n",
       "      <td>0.6</td>\n",
       "      <td>0.140945</td>\n",
       "      <td>0.358</td>\n",
       "      <td>25.2</td>\n",
       "      <td>1</td>\n",
       "    </tr>\n",
       "    <tr>\n",
       "      <th>4</th>\n",
       "      <td>0000000005661</td>\n",
       "      <td>0.0</td>\n",
       "      <td>253.0</td>\n",
       "      <td>17.0</td>\n",
       "      <td>0.0</td>\n",
       "      <td>23.0</td>\n",
       "      <td>0.5</td>\n",
       "      <td>0.984252</td>\n",
       "      <td>2.500</td>\n",
       "      <td>0.5</td>\n",
       "      <td>0</td>\n",
       "    </tr>\n",
       "  </tbody>\n",
       "</table>\n",
       "</div>"
      ],
      "text/plain": [
       "            code  additives_n  energy_100g  fat_100g  fiber_100g  \\\n",
       "0  0000000001281          0.0        381.0      22.0         4.4   \n",
       "1  0000000001885          0.0        157.0       0.0         3.6   \n",
       "2  0000000005241          0.0        197.0       5.0         0.0   \n",
       "3  0000000005470          3.0        160.0       2.2         1.6   \n",
       "4  0000000005661          0.0        253.0      17.0         0.0   \n",
       "\n",
       "   proteins_100g  sugars_100g  sodium_100g  salt_100g  carbohydrates_100g  \\\n",
       "0            4.6         21.9     0.039370      0.100                27.3   \n",
       "1            0.6         27.0     0.000000      0.000                36.0   \n",
       "2            8.4          3.0     0.183858      0.467                28.7   \n",
       "3            9.5          0.6     0.140945      0.358                25.2   \n",
       "4           23.0          0.5     0.984252      2.500                 0.5   \n",
       "\n",
       "  is_healthy  \n",
       "0          0  \n",
       "1          1  \n",
       "2          1  \n",
       "3          1  \n",
       "4          0  "
      ]
     },
     "execution_count": 21,
     "metadata": {},
     "output_type": "execute_result"
    }
   ],
   "source": [
    "df_knn.head()"
   ]
  },
  {
   "cell_type": "markdown",
   "metadata": {},
   "source": [
    "## Classify on the main nutrients"
   ]
  },
  {
   "cell_type": "code",
   "execution_count": 22,
   "metadata": {},
   "outputs": [],
   "source": [
    "to_use_knn = ['energy_100g', 'fat_100g', 'sugars_100g', 'fiber_100g', 'proteins_100g', 'salt_100g']"
   ]
  },
  {
   "cell_type": "code",
   "execution_count": 23,
   "metadata": {},
   "outputs": [
    {
     "data": {
      "text/plain": [
       "(146220, 6)"
      ]
     },
     "execution_count": 23,
     "metadata": {},
     "output_type": "execute_result"
    }
   ],
   "source": [
    "scaler = StandardScaler()\n",
    "data = scaler.fit_transform(df_knn[to_use_knn])\n",
    "data.shape"
   ]
  },
  {
   "cell_type": "code",
   "execution_count": 24,
   "metadata": {},
   "outputs": [
    {
     "data": {
      "text/plain": [
       "((131598, 6), (14622, 6), (131598,), (14622,))"
      ]
     },
     "execution_count": 24,
     "metadata": {},
     "output_type": "execute_result"
    }
   ],
   "source": [
    "X_train, X_test, y_train, y_test = train_test_split(data, df_knn.is_healthy, random_state=42, test_size=0.1)\n",
    "X_train.shape, X_test.shape, y_train.shape, y_test.shape"
   ]
  },
  {
   "cell_type": "code",
   "execution_count": 25,
   "metadata": {},
   "outputs": [
    {
     "name": "stdout",
     "output_type": "stream",
     "text": [
      "0.8572698673232116\n",
      "Wall time: 484 ms\n"
     ]
    }
   ],
   "source": [
    "%%time\n",
    "lr = LogisticRegression(solver='lbfgs')\n",
    "lr.fit(X_train, y_train)\n",
    "print(lr.score(X_test, y_test))"
   ]
  },
  {
   "cell_type": "code",
   "execution_count": 26,
   "metadata": {},
   "outputs": [
    {
     "name": "stdout",
     "output_type": "stream",
     "text": [
      "0.9433046094925455\n",
      "Wall time: 17.7 s\n"
     ]
    }
   ],
   "source": [
    "%%time\n",
    "knn = KNeighborsClassifier(n_neighbors=5)\n",
    "# knn = KNeighborsClassifier(n_neighbors=2)\n",
    "\n",
    "knn.fit(X_train, y_train)\n",
    "print(knn.score(X_test, y_test))"
   ]
  },
  {
   "cell_type": "code",
   "execution_count": 27,
   "metadata": {},
   "outputs": [
    {
     "name": "stdout",
     "output_type": "stream",
     "text": [
      "0.9379701819176584\n",
      "Wall time: 744 ms\n"
     ]
    }
   ],
   "source": [
    "%%time\n",
    "tree = DecisionTreeClassifier()\n",
    "tree.fit(X_train, y_train)\n",
    "print(tree.score(X_test, y_test))"
   ]
  },
  {
   "cell_type": "markdown",
   "metadata": {},
   "source": [
    "## Use all availble attributes"
   ]
  },
  {
   "cell_type": "code",
   "execution_count": 28,
   "metadata": {},
   "outputs": [],
   "source": [
    "to_drop_knn = ['code', 'is_healthy']"
   ]
  },
  {
   "cell_type": "raw",
   "metadata": {},
   "source": [
    "scaler = StandardScaler()\n",
    "data = scaler.fit_transform(df_knn.drop(to_drop_knn, axis=1))\n",
    "data.shape"
   ]
  },
  {
   "cell_type": "raw",
   "metadata": {},
   "source": [
    "X_train, X_test, y_train, y_test = \\\n",
    "    train_test_split(data, df_knn.is_healthy, random_state=42)\n",
    "X_train.shape, X_test.shape, y_train.shape, y_test.shape"
   ]
  },
  {
   "cell_type": "code",
   "execution_count": null,
   "metadata": {},
   "outputs": [],
   "source": []
  },
  {
   "cell_type": "markdown",
   "metadata": {},
   "source": [
    "## Evaluation metrics"
   ]
  },
  {
   "cell_type": "markdown",
   "metadata": {},
   "source": [
    "https://scikit-learn.org/stable/modules/generated/sklearn.metrics.precision_score.html#sklearn.metrics.precision_score  \n",
    "https://scikit-learn.org/stable/modules/generated/sklearn.metrics.recall_score.html#sklearn.metrics.recall_score"
   ]
  },
  {
   "cell_type": "code",
   "execution_count": 29,
   "metadata": {},
   "outputs": [],
   "source": [
    "from sklearn.metrics import confusion_matrix, classification_report\n",
    "# compute roc characteristics\n",
    "from sklearn.metrics import roc_curve \n",
    "# compute the area under roc curve\n",
    "from sklearn.metrics import auc"
   ]
  },
  {
   "cell_type": "code",
   "execution_count": 30,
   "metadata": {},
   "outputs": [],
   "source": [
    "ranks = ['unhealthy', 'healthy']\n",
    "lr_prd = lr.predict(X_test)\n",
    "knn_prd = knn.predict(X_test)\n",
    "tree_prd = tree.predict(X_test)"
   ]
  },
  {
   "cell_type": "code",
   "execution_count": 31,
   "metadata": {},
   "outputs": [
    {
     "data": {
      "text/plain": [
       "(14622,)"
      ]
     },
     "execution_count": 31,
     "metadata": {},
     "output_type": "execute_result"
    }
   ],
   "source": [
    "y_test.shape"
   ]
  },
  {
   "cell_type": "markdown",
   "metadata": {},
   "source": [
    "### Logistic Regression Confusion Matrix"
   ]
  },
  {
   "cell_type": "code",
   "execution_count": 32,
   "metadata": {},
   "outputs": [
    {
     "data": {
      "text/html": [
       "<div>\n",
       "<style scoped>\n",
       "    .dataframe tbody tr th:only-of-type {\n",
       "        vertical-align: middle;\n",
       "    }\n",
       "\n",
       "    .dataframe tbody tr th {\n",
       "        vertical-align: top;\n",
       "    }\n",
       "\n",
       "    .dataframe thead tr th {\n",
       "        text-align: left;\n",
       "    }\n",
       "</style>\n",
       "<table border=\"1\" class=\"dataframe\">\n",
       "  <thead>\n",
       "    <tr>\n",
       "      <th></th>\n",
       "      <th></th>\n",
       "      <th colspan=\"2\" halign=\"left\">Predicted</th>\n",
       "    </tr>\n",
       "    <tr>\n",
       "      <th></th>\n",
       "      <th></th>\n",
       "      <th>unhealthy</th>\n",
       "      <th>healthy</th>\n",
       "    </tr>\n",
       "  </thead>\n",
       "  <tbody>\n",
       "    <tr>\n",
       "      <th rowspan=\"2\" valign=\"top\">Real</th>\n",
       "      <th>unhealthy</th>\n",
       "      <td>9461</td>\n",
       "      <td>1031</td>\n",
       "    </tr>\n",
       "    <tr>\n",
       "      <th>healthy</th>\n",
       "      <td>1056</td>\n",
       "      <td>3074</td>\n",
       "    </tr>\n",
       "  </tbody>\n",
       "</table>\n",
       "</div>"
      ],
      "text/plain": [
       "               Predicted        \n",
       "               unhealthy healthy\n",
       "Real unhealthy      9461    1031\n",
       "     healthy        1056    3074"
      ]
     },
     "execution_count": 32,
     "metadata": {},
     "output_type": "execute_result"
    }
   ],
   "source": [
    "# specify label for order of labels\n",
    "# cf_matrix = confusion_matrix(y_true=y_test, labels = [1, 0], y_pred=lr_prd)\n",
    "cf_matrix = confusion_matrix(y_true=y_test, y_pred=lr_prd)\n",
    "real_index = [['Real']*2, ranks]; pred_colum = [['Predicted']*2, ranks]\n",
    "pd.DataFrame(cf_matrix, columns=pred_colum, index=real_index)"
   ]
  },
  {
   "cell_type": "code",
   "execution_count": 33,
   "metadata": {},
   "outputs": [
    {
     "data": {
      "text/plain": [
       "(0.74884287454324, 0.7443099273607748)"
      ]
     },
     "execution_count": 33,
     "metadata": {},
     "output_type": "execute_result"
    }
   ],
   "source": [
    "precision_score(y_test, lr_prd), recall_score(y_test, lr_prd)"
   ]
  },
  {
   "cell_type": "code",
   "execution_count": 34,
   "metadata": {},
   "outputs": [
    {
     "name": "stdout",
     "output_type": "stream",
     "text": [
      "              precision    recall  f1-score   support\n",
      "\n",
      "           0       0.90      0.90      0.90     10492\n",
      "           1       0.75      0.74      0.75      4130\n",
      "\n",
      "   micro avg       0.86      0.86      0.86     14622\n",
      "   macro avg       0.82      0.82      0.82     14622\n",
      "weighted avg       0.86      0.86      0.86     14622\n",
      "\n"
     ]
    }
   ],
   "source": [
    "print(classification_report(y_true=y_test, y_pred=lr_prd))"
   ]
  },
  {
   "cell_type": "markdown",
   "metadata": {},
   "source": [
    "#### Logisitic Regresion ROC AUC "
   ]
  },
  {
   "cell_type": "code",
   "execution_count": 35,
   "metadata": {},
   "outputs": [
    {
     "data": {
      "text/plain": [
       "(14622, 2)"
      ]
     },
     "execution_count": 35,
     "metadata": {},
     "output_type": "execute_result"
    }
   ],
   "source": [
    "# test_probs = lr.predict_proba(X_test)\n",
    "test_probs = lr.predict_log_proba(X_test)\n",
    "# test_probs = lr.decision_function(X_test)\n",
    "test_probs.shape"
   ]
  },
  {
   "cell_type": "code",
   "execution_count": 36,
   "metadata": {},
   "outputs": [
    {
     "data": {
      "text/plain": [
       "(-1.7464030222111133e-11, -160.48673237967907)"
      ]
     },
     "execution_count": 36,
     "metadata": {},
     "output_type": "execute_result"
    }
   ],
   "source": [
    "y_score = test_probs[:, 1]\n",
    "# y_score = test_probs\n",
    "max(y_score), min(y_score)"
   ]
  },
  {
   "cell_type": "code",
   "execution_count": 37,
   "metadata": {},
   "outputs": [],
   "source": [
    "lr_fpr, lr_tpr, threshold = roc_curve(y_test, y_score)\n",
    "lr_roc_auc = auc(lr_fpr, lr_tpr)"
   ]
  },
  {
   "cell_type": "code",
   "execution_count": 38,
   "metadata": {},
   "outputs": [
    {
     "name": "stdout",
     "output_type": "stream",
     "text": [
      "Area Under ROC Curve 0.9275686352521325\n"
     ]
    },
    {
     "data": {
      "image/png": "[encoded data removed]",
      "text/plain": [
       "<Figure size 432x288 with 1 Axes>"
      ]
     },
     "metadata": {
      "needs_background": "light"
     },
     "output_type": "display_data"
    }
   ],
   "source": [
    "plt.plot(lr_fpr, lr_tpr)\n",
    "print('Area Under ROC Curve', lr_roc_auc)"
   ]
  },
  {
   "cell_type": "code",
   "execution_count": null,
   "metadata": {},
   "outputs": [],
   "source": []
  },
  {
   "cell_type": "code",
   "execution_count": null,
   "metadata": {},
   "outputs": [],
   "source": []
  },
  {
   "cell_type": "markdown",
   "metadata": {},
   "source": [
    "### KNN Confusion Matrix"
   ]
  },
  {
   "cell_type": "code",
   "execution_count": 39,
   "metadata": {},
   "outputs": [
    {
     "data": {
      "text/html": [
       "<div>\n",
       "<style scoped>\n",
       "    .dataframe tbody tr th:only-of-type {\n",
       "        vertical-align: middle;\n",
       "    }\n",
       "\n",
       "    .dataframe tbody tr th {\n",
       "        vertical-align: top;\n",
       "    }\n",
       "\n",
       "    .dataframe thead tr th {\n",
       "        text-align: left;\n",
       "    }\n",
       "</style>\n",
       "<table border=\"1\" class=\"dataframe\">\n",
       "  <thead>\n",
       "    <tr>\n",
       "      <th></th>\n",
       "      <th></th>\n",
       "      <th colspan=\"2\" halign=\"left\">Predicted</th>\n",
       "    </tr>\n",
       "    <tr>\n",
       "      <th></th>\n",
       "      <th></th>\n",
       "      <th>unhealthy</th>\n",
       "      <th>healthy</th>\n",
       "    </tr>\n",
       "  </thead>\n",
       "  <tbody>\n",
       "    <tr>\n",
       "      <th rowspan=\"2\" valign=\"top\">Real</th>\n",
       "      <th>unhealthy</th>\n",
       "      <td>10126</td>\n",
       "      <td>366</td>\n",
       "    </tr>\n",
       "    <tr>\n",
       "      <th>healthy</th>\n",
       "      <td>463</td>\n",
       "      <td>3667</td>\n",
       "    </tr>\n",
       "  </tbody>\n",
       "</table>\n",
       "</div>"
      ],
      "text/plain": [
       "               Predicted        \n",
       "               unhealthy healthy\n",
       "Real unhealthy     10126     366\n",
       "     healthy         463    3667"
      ]
     },
     "execution_count": 39,
     "metadata": {},
     "output_type": "execute_result"
    }
   ],
   "source": [
    "ranks = ['unhealthy', 'healthy']\n",
    "cf_matrix = confusion_matrix(y_true=y_test, y_pred=knn_prd) \n",
    "# same as:\n",
    "# cf_matrix = confusion_matrix(y_true=y_test, labels = [0, 1], y_pred=knn_prd) \n",
    "\n",
    "real_index = [['Real']*2, ranks]; pred_colum = [['Predicted']*2, ranks]\n",
    "pd.DataFrame(cf_matrix, columns=pred_colum, index=real_index)\n",
    "# in the default setting, sklearn matrix order is [0, 1], i.e. [unhealthy, healthy]\n",
    "# but the usuall representation is [1, 0], i.e. [True Case, False Case], or [Healthy, Not-Healthy]"
   ]
  },
  {
   "cell_type": "code",
   "execution_count": 40,
   "metadata": {},
   "outputs": [],
   "source": [
    "# with binary cases, these are: true_negative, false_positive, fasle_negative, true_positive\n",
    "tn, fp, fn, tp = confusion_matrix(y_true=y_test, labels = [0, 1], y_pred=knn_prd).ravel()"
   ]
  },
  {
   "cell_type": "code",
   "execution_count": 41,
   "metadata": {},
   "outputs": [
    {
     "data": {
      "text/html": [
       "<div>\n",
       "<style scoped>\n",
       "    .dataframe tbody tr th:only-of-type {\n",
       "        vertical-align: middle;\n",
       "    }\n",
       "\n",
       "    .dataframe tbody tr th {\n",
       "        vertical-align: top;\n",
       "    }\n",
       "\n",
       "    .dataframe thead tr th {\n",
       "        text-align: left;\n",
       "    }\n",
       "</style>\n",
       "<table border=\"1\" class=\"dataframe\">\n",
       "  <thead>\n",
       "    <tr>\n",
       "      <th></th>\n",
       "      <th></th>\n",
       "      <th colspan=\"2\" halign=\"left\">Real</th>\n",
       "    </tr>\n",
       "    <tr>\n",
       "      <th></th>\n",
       "      <th></th>\n",
       "      <th>healthy</th>\n",
       "      <th>unhealthy</th>\n",
       "    </tr>\n",
       "  </thead>\n",
       "  <tbody>\n",
       "    <tr>\n",
       "      <th rowspan=\"2\" valign=\"top\">Predicted</th>\n",
       "      <th>healthy</th>\n",
       "      <td>3667</td>\n",
       "      <td>366</td>\n",
       "    </tr>\n",
       "    <tr>\n",
       "      <th>unhealthy</th>\n",
       "      <td>463</td>\n",
       "      <td>10126</td>\n",
       "    </tr>\n",
       "  </tbody>\n",
       "</table>\n",
       "</div>"
      ],
      "text/plain": [
       "                       Real          \n",
       "                    healthy unhealthy\n",
       "Predicted healthy      3667       366\n",
       "          unhealthy     463     10126"
      ]
     },
     "execution_count": 41,
     "metadata": {},
     "output_type": "execute_result"
    }
   ],
   "source": [
    "# cf_matrix = confusion_matrix(y_true=y_test, y_pred=knn_prd)\n",
    "ranks = ['healthy', 'unhealthy']\n",
    "cf_matrix = confusion_matrix(y_true=y_test, labels = [1, 0], y_pred=knn_prd)\n",
    "real_index = [['Real']*2, ranks]; pred_colum = [['Predicted']*2, ranks]\n",
    "pd.DataFrame(cf_matrix, columns=pred_colum, index=real_index).transpose()"
   ]
  },
  {
   "cell_type": "code",
   "execution_count": 42,
   "metadata": {},
   "outputs": [
    {
     "data": {
      "text/plain": [
       "(0.9092486982395239, 0.8878934624697337)"
      ]
     },
     "execution_count": 42,
     "metadata": {},
     "output_type": "execute_result"
    }
   ],
   "source": [
    "precision_score(y_test, knn_prd), recall_score(y_test, knn_prd)"
   ]
  },
  {
   "cell_type": "code",
   "execution_count": 43,
   "metadata": {},
   "outputs": [
    {
     "name": "stdout",
     "output_type": "stream",
     "text": [
      "              precision    recall  f1-score   support\n",
      "\n",
      "           0       0.96      0.97      0.96     10492\n",
      "           1       0.91      0.89      0.90      4130\n",
      "\n",
      "   micro avg       0.94      0.94      0.94     14622\n",
      "   macro avg       0.93      0.93      0.93     14622\n",
      "weighted avg       0.94      0.94      0.94     14622\n",
      "\n"
     ]
    }
   ],
   "source": [
    "print(classification_report(y_true=y_test, y_pred=knn_prd))"
   ]
  },
  {
   "cell_type": "markdown",
   "metadata": {},
   "source": [
    "#### KNN ROC AUC Curve\n",
    "https://stackoverflow.com/questions/52910061/implementing-roc-curves-for-k-nn-machine-learning-algorithm-using-python-and-sci"
   ]
  },
  {
   "cell_type": "code",
   "execution_count": 44,
   "metadata": {},
   "outputs": [
    {
     "data": {
      "text/plain": [
       "(14622, 2)"
      ]
     },
     "execution_count": 44,
     "metadata": {},
     "output_type": "execute_result"
    }
   ],
   "source": [
    "test_probs = knn.predict_proba(X_test)\n",
    "test_probs.shape\n",
    "# the return matrix has 2 columns, i.e. [predict as 0, predict as 1]\n",
    "# we need prediction for positive case"
   ]
  },
  {
   "cell_type": "code",
   "execution_count": 45,
   "metadata": {},
   "outputs": [
    {
     "data": {
      "text/plain": [
       "(1.0, 0.0)"
      ]
     },
     "execution_count": 45,
     "metadata": {},
     "output_type": "execute_result"
    }
   ],
   "source": [
    "y_score = test_probs[:, 1]\n",
    "max(y_score), min(y_score)\n",
    "# since it's KNN predict probability, it's either 1 or 0, by distance function"
   ]
  },
  {
   "cell_type": "code",
   "execution_count": 46,
   "metadata": {},
   "outputs": [],
   "source": [
    "knn_fpr, knn_tpr, threshold = roc_curve(y_test, y_score)\n",
    "knn_roc_auc = auc(knn_fpr, knn_tpr)"
   ]
  },
  {
   "cell_type": "code",
   "execution_count": 47,
   "metadata": {},
   "outputs": [
    {
     "name": "stdout",
     "output_type": "stream",
     "text": [
      "Area Under ROC Curve 0.9710421130269667\n"
     ]
    },
    {
     "data": {
      "image/png": "[encoded data removed]",
      "text/plain": [
       "<Figure size 432x288 with 1 Axes>"
      ]
     },
     "metadata": {
      "needs_background": "light"
     },
     "output_type": "display_data"
    }
   ],
   "source": [
    "sns.lineplot(x=knn_fpr, y=knn_tpr)\n",
    "print('Area Under ROC Curve', knn_roc_auc)"
   ]
  },
  {
   "cell_type": "code",
   "execution_count": null,
   "metadata": {},
   "outputs": [],
   "source": []
  },
  {
   "cell_type": "markdown",
   "metadata": {},
   "source": [
    "## Decision Tree Confusion Matrix"
   ]
  },
  {
   "cell_type": "code",
   "execution_count": 48,
   "metadata": {},
   "outputs": [
    {
     "data": {
      "text/html": [
       "<div>\n",
       "<style scoped>\n",
       "    .dataframe tbody tr th:only-of-type {\n",
       "        vertical-align: middle;\n",
       "    }\n",
       "\n",
       "    .dataframe tbody tr th {\n",
       "        vertical-align: top;\n",
       "    }\n",
       "\n",
       "    .dataframe thead tr th {\n",
       "        text-align: left;\n",
       "    }\n",
       "</style>\n",
       "<table border=\"1\" class=\"dataframe\">\n",
       "  <thead>\n",
       "    <tr>\n",
       "      <th></th>\n",
       "      <th></th>\n",
       "      <th colspan=\"2\" halign=\"left\">Predicted</th>\n",
       "    </tr>\n",
       "    <tr>\n",
       "      <th></th>\n",
       "      <th></th>\n",
       "      <th>healthy</th>\n",
       "      <th>unhealthy</th>\n",
       "    </tr>\n",
       "  </thead>\n",
       "  <tbody>\n",
       "    <tr>\n",
       "      <th rowspan=\"2\" valign=\"top\">Real</th>\n",
       "      <th>healthy</th>\n",
       "      <td>10040</td>\n",
       "      <td>452</td>\n",
       "    </tr>\n",
       "    <tr>\n",
       "      <th>unhealthy</th>\n",
       "      <td>455</td>\n",
       "      <td>3675</td>\n",
       "    </tr>\n",
       "  </tbody>\n",
       "</table>\n",
       "</div>"
      ],
      "text/plain": [
       "               Predicted          \n",
       "                 healthy unhealthy\n",
       "Real healthy       10040       452\n",
       "     unhealthy       455      3675"
      ]
     },
     "execution_count": 48,
     "metadata": {},
     "output_type": "execute_result"
    }
   ],
   "source": [
    "cf_matrix = confusion_matrix(y_true=y_test, y_pred=tree_prd)\n",
    "real_index = [['Real']*2, ranks]; pred_colum = [['Predicted']*2, ranks]\n",
    "pd.DataFrame(cf_matrix, columns=pred_colum, index=real_index)"
   ]
  },
  {
   "cell_type": "code",
   "execution_count": 49,
   "metadata": {},
   "outputs": [
    {
     "data": {
      "text/plain": [
       "(0.8904773443179065, 0.8898305084745762)"
      ]
     },
     "execution_count": 49,
     "metadata": {},
     "output_type": "execute_result"
    }
   ],
   "source": [
    "precision_score(y_test, tree_prd), recall_score(y_test, tree_prd)"
   ]
  },
  {
   "cell_type": "code",
   "execution_count": 50,
   "metadata": {},
   "outputs": [
    {
     "name": "stdout",
     "output_type": "stream",
     "text": [
      "              precision    recall  f1-score   support\n",
      "\n",
      "           0       0.96      0.96      0.96     10492\n",
      "           1       0.89      0.89      0.89      4130\n",
      "\n",
      "   micro avg       0.94      0.94      0.94     14622\n",
      "   macro avg       0.92      0.92      0.92     14622\n",
      "weighted avg       0.94      0.94      0.94     14622\n",
      "\n"
     ]
    }
   ],
   "source": [
    "print(classification_report(y_true=y_test, y_pred=tree_prd))"
   ]
  },
  {
   "cell_type": "markdown",
   "metadata": {},
   "source": [
    "### Decision Tree ROC AUC Curve"
   ]
  },
  {
   "cell_type": "code",
   "execution_count": 51,
   "metadata": {},
   "outputs": [
    {
     "data": {
      "text/plain": [
       "(14622, 2)"
      ]
     },
     "execution_count": 51,
     "metadata": {},
     "output_type": "execute_result"
    }
   ],
   "source": [
    "test_probs = tree.predict_proba(X_test)\n",
    "# test_probs = tree.predict_log_proba(X_test)\n",
    "test_probs.shape"
   ]
  },
  {
   "cell_type": "code",
   "execution_count": 52,
   "metadata": {},
   "outputs": [
    {
     "data": {
      "text/plain": [
       "(1.0, 0.0)"
      ]
     },
     "execution_count": 52,
     "metadata": {},
     "output_type": "execute_result"
    }
   ],
   "source": [
    "y_score = test_probs[:, 1]\n",
    "max(y_score), min(y_score)"
   ]
  },
  {
   "cell_type": "code",
   "execution_count": 53,
   "metadata": {},
   "outputs": [],
   "source": [
    "tree_fpr, tree_tpr, threshold = roc_curve(y_test, y_score)\n",
    "tree_roc_auc = auc(tree_fpr, tree_tpr)"
   ]
  },
  {
   "cell_type": "code",
   "execution_count": 54,
   "metadata": {},
   "outputs": [
    {
     "name": "stderr",
     "output_type": "stream",
     "text": [
      "C:\\Users\\davilaYuan\\Miniconda3\\envs\\sklearn\\lib\\site-packages\\scipy\\stats\\stats.py:1713: FutureWarning: Using a non-tuple sequence for multidimensional indexing is deprecated; use `arr[tuple(seq)]` instead of `arr[seq]`. In the future this will be interpreted as an array index, `arr[np.array(seq)]`, which will result either in an error or a different result.\n",
      "  return np.add.reduce(sorted[indexer] * weights, axis=axis) / sumval\n"
     ]
    },
    {
     "name": "stdout",
     "output_type": "stream",
     "text": [
      "Area Under ROC Curve 0.9250148389318186\n"
     ]
    },
    {
     "data": {
      "image/png": "[encoded data removed]",
      "text/plain": [
       "<Figure size 432x288 with 1 Axes>"
      ]
     },
     "metadata": {
      "needs_background": "light"
     },
     "output_type": "display_data"
    }
   ],
   "source": [
    "# plt.plot(fpr, tpr)\n",
    "sns.lineplot(tree_fpr, tree_tpr)\n",
    "plt.xlim([0, 1]); plt.ylim([0, 1])\n",
    "print('Area Under ROC Curve', tree_roc_auc)"
   ]
  },
  {
   "cell_type": "code",
   "execution_count": 55,
   "metadata": {},
   "outputs": [],
   "source": [
    "sns.set()"
   ]
  },
  {
   "cell_type": "code",
   "execution_count": 56,
   "metadata": {},
   "outputs": [
    {
     "data": {
      "image/png": "[encoded data removed]",
      "text/plain": [
       "<Figure size 576x576 with 1 Axes>"
      ]
     },
     "metadata": {},
     "output_type": "display_data"
    }
   ],
   "source": [
    "plt.figure(figsize=(8, 8))\n",
    "plt.plot(lr_fpr, lr_tpr, lw=3, label='AUC ROC (Logistic Regression) = %0.2f' % lr_roc_auc)\n",
    "plt.plot(knn_fpr, knn_tpr, lw=3, label='AUC ROC (Nearest Neighbor) = %0.2f' % knn_roc_auc)\n",
    "plt.plot(tree_fpr, tree_tpr, lw=3, label='AUC ROC (Decision Tree) = %0.2f' % tree_roc_auc)\n",
    "plt.plot([0, 1], [0, 1], '--', lw=4)\n",
    "\n",
    "plt.legend(loc='lower right', fontsize=14)\n",
    "plt.xlim(0, 1)\n",
    "plt.ylim(0, 1)\n",
    "plt.title('AUC ROC of 3 Models', fontdict={'fontsize': 18})\n",
    "plt.xlabel('False Positive Rate')\n",
    "plt.ylabel('True Positive Rate')\n",
    "plt.savefig('fig11_aucroc.png', bbox_inches='tight', dpi=300)\n",
    "\n",
    "plt.show()"
   ]
  },
  {
   "cell_type": "code",
   "execution_count": null,
   "metadata": {},
   "outputs": [],
   "source": []
  },
  {
   "cell_type": "code",
   "execution_count": 275,
   "metadata": {},
   "outputs": [],
   "source": [
    "to_use_knn = ['energy_100g', 'fat_100g', 'sugars_100g', 'fiber_100g', 'proteins_100g', 'salt_100g']"
   ]
  },
  {
   "cell_type": "code",
   "execution_count": 276,
   "metadata": {},
   "outputs": [
    {
     "data": {
      "text/plain": [
       "(413579, 6)"
      ]
     },
     "execution_count": 276,
     "metadata": {},
     "output_type": "execute_result"
    }
   ],
   "source": [
    "df3 = df[df.nutrition_grade_fr.isna()]\n",
    "df3 = df3[to_use_knn]\n",
    "df3.reset_index(inplace=True, drop=True)\n",
    "df3.fiber_100g.fillna(0, inplace=True)\n",
    "df3.shape"
   ]
  },
  {
   "cell_type": "code",
   "execution_count": 278,
   "metadata": {},
   "outputs": [
    {
     "data": {
      "text/plain": [
       "(413579, 6)"
      ]
     },
     "execution_count": 278,
     "metadata": {},
     "output_type": "execute_result"
    }
   ],
   "source": [
    "new_data = scaler.transform(df3)\n",
    "new_data.shape"
   ]
  },
  {
   "cell_type": "code",
   "execution_count": 279,
   "metadata": {},
   "outputs": [],
   "source": [
    "df3_pred = knn.predict(new_data)"
   ]
  },
  {
   "cell_type": "code",
   "execution_count": 281,
   "metadata": {},
   "outputs": [
    {
     "data": {
      "text/plain": [
       "array([310352, 103227], dtype=int64)"
      ]
     },
     "execution_count": 281,
     "metadata": {},
     "output_type": "execute_result"
    }
   ],
   "source": [
    "np.bincount(df3_pred)"
   ]
  },
  {
   "cell_type": "markdown",
   "metadata": {},
   "source": [
    "## Estimate Calorie of Alcohol\n",
    "\n"
   ]
  },
  {
   "cell_type": "code",
   "execution_count": 298,
   "metadata": {},
   "outputs": [
    {
     "data": {
      "text/plain": [
       "(6592, 12)"
      ]
     },
     "execution_count": 298,
     "metadata": {},
     "output_type": "execute_result"
    }
   ],
   "source": [
    "df_al = pd.read_csv(os.path.join(data_path, 'openfoodfacts_alcohol.gz'), \\\n",
    "                 dtype=data_type, compression='gzip')\n",
    "df_al.shape"
   ]
  },
  {
   "cell_type": "code",
   "execution_count": 301,
   "metadata": {},
   "outputs": [
    {
     "name": "stdout",
     "output_type": "stream",
     "text": [
      "<class 'pandas.core.frame.DataFrame'>\n",
      "RangeIndex: 6592 entries, 0 to 6591\n",
      "Data columns (total 12 columns):\n",
      "code                  6592 non-null object\n",
      "quantity              5882 non-null object\n",
      "categories_tags       6483 non-null object\n",
      "energy_100g           781 non-null float64\n",
      "fat_100g              639 non-null float64\n",
      "fiber_100g            259 non-null float64\n",
      "carbohydrates_100g    671 non-null float64\n",
      "proteins_100g         655 non-null float64\n",
      "salt_100g             586 non-null float64\n",
      "sodium_100g           586 non-null float64\n",
      "sugars_100g           629 non-null float64\n",
      "alcohol_100g          4659 non-null float64\n",
      "dtypes: float64(9), object(3)\n",
      "memory usage: 618.1+ KB\n"
     ]
    }
   ],
   "source": [
    "df_al.info()"
   ]
  },
  {
   "cell_type": "code",
   "execution_count": 302,
   "metadata": {},
   "outputs": [
    {
     "data": {
      "text/html": [
       "<div>\n",
       "<style scoped>\n",
       "    .dataframe tbody tr th:only-of-type {\n",
       "        vertical-align: middle;\n",
       "    }\n",
       "\n",
       "    .dataframe tbody tr th {\n",
       "        vertical-align: top;\n",
       "    }\n",
       "\n",
       "    .dataframe thead th {\n",
       "        text-align: right;\n",
       "    }\n",
       "</style>\n",
       "<table border=\"1\" class=\"dataframe\">\n",
       "  <thead>\n",
       "    <tr style=\"text-align: right;\">\n",
       "      <th></th>\n",
       "      <th>code</th>\n",
       "      <th>quantity</th>\n",
       "      <th>categories_tags</th>\n",
       "      <th>energy_100g</th>\n",
       "      <th>fat_100g</th>\n",
       "      <th>fiber_100g</th>\n",
       "      <th>carbohydrates_100g</th>\n",
       "      <th>proteins_100g</th>\n",
       "      <th>salt_100g</th>\n",
       "      <th>sodium_100g</th>\n",
       "      <th>sugars_100g</th>\n",
       "      <th>alcohol_100g</th>\n",
       "    </tr>\n",
       "  </thead>\n",
       "  <tbody>\n",
       "    <tr>\n",
       "      <th>0</th>\n",
       "      <td>3257981230651</td>\n",
       "      <td>70 cl</td>\n",
       "      <td>en:beverages,en:alcoholic-beverages,en:liqueur...</td>\n",
       "      <td>NaN</td>\n",
       "      <td>NaN</td>\n",
       "      <td>NaN</td>\n",
       "      <td>NaN</td>\n",
       "      <td>NaN</td>\n",
       "      <td>NaN</td>\n",
       "      <td>NaN</td>\n",
       "      <td>NaN</td>\n",
       "      <td>21.0</td>\n",
       "    </tr>\n",
       "    <tr>\n",
       "      <th>1</th>\n",
       "      <td>87120332</td>\n",
       "      <td>50 cl e</td>\n",
       "      <td>en:beverages,en:alcoholic-beverages,en:beers,e...</td>\n",
       "      <td>173.0</td>\n",
       "      <td>0.0</td>\n",
       "      <td>NaN</td>\n",
       "      <td>3.1</td>\n",
       "      <td>0.0</td>\n",
       "      <td>0.01</td>\n",
       "      <td>0.003937</td>\n",
       "      <td>0.0</td>\n",
       "      <td>5.0</td>\n",
       "    </tr>\n",
       "    <tr>\n",
       "      <th>2</th>\n",
       "      <td>8001666753059</td>\n",
       "      <td>75cl</td>\n",
       "      <td>en:beverages,en:alcoholic-beverages,en:wines,e...</td>\n",
       "      <td>NaN</td>\n",
       "      <td>NaN</td>\n",
       "      <td>NaN</td>\n",
       "      <td>NaN</td>\n",
       "      <td>NaN</td>\n",
       "      <td>NaN</td>\n",
       "      <td>NaN</td>\n",
       "      <td>NaN</td>\n",
       "      <td>12.0</td>\n",
       "    </tr>\n",
       "    <tr>\n",
       "      <th>3</th>\n",
       "      <td>3185370000038</td>\n",
       "      <td>1500 ml</td>\n",
       "      <td>en:beverages,en:alcoholic-beverages,en:wines,e...</td>\n",
       "      <td>356.0</td>\n",
       "      <td>0.0</td>\n",
       "      <td>0.0</td>\n",
       "      <td>2.8</td>\n",
       "      <td>0.3</td>\n",
       "      <td>0.00</td>\n",
       "      <td>0.000000</td>\n",
       "      <td>1.4</td>\n",
       "      <td>12.0</td>\n",
       "    </tr>\n",
       "    <tr>\n",
       "      <th>4</th>\n",
       "      <td>3185370000397</td>\n",
       "      <td>750 ml</td>\n",
       "      <td>en:beverages,en:alcoholic-beverages,en:wines,e...</td>\n",
       "      <td>NaN</td>\n",
       "      <td>NaN</td>\n",
       "      <td>NaN</td>\n",
       "      <td>NaN</td>\n",
       "      <td>NaN</td>\n",
       "      <td>NaN</td>\n",
       "      <td>NaN</td>\n",
       "      <td>NaN</td>\n",
       "      <td>NaN</td>\n",
       "    </tr>\n",
       "  </tbody>\n",
       "</table>\n",
       "</div>"
      ],
      "text/plain": [
       "            code quantity                                    categories_tags  \\\n",
       "0  3257981230651    70 cl  en:beverages,en:alcoholic-beverages,en:liqueur...   \n",
       "1       87120332  50 cl e  en:beverages,en:alcoholic-beverages,en:beers,e...   \n",
       "2  8001666753059     75cl  en:beverages,en:alcoholic-beverages,en:wines,e...   \n",
       "3  3185370000038  1500 ml  en:beverages,en:alcoholic-beverages,en:wines,e...   \n",
       "4  3185370000397   750 ml  en:beverages,en:alcoholic-beverages,en:wines,e...   \n",
       "\n",
       "   energy_100g  fat_100g  fiber_100g  carbohydrates_100g  proteins_100g  \\\n",
       "0          NaN       NaN         NaN                 NaN            NaN   \n",
       "1        173.0       0.0         NaN                 3.1            0.0   \n",
       "2          NaN       NaN         NaN                 NaN            NaN   \n",
       "3        356.0       0.0         0.0                 2.8            0.3   \n",
       "4          NaN       NaN         NaN                 NaN            NaN   \n",
       "\n",
       "   salt_100g  sodium_100g  sugars_100g  alcohol_100g  \n",
       "0        NaN          NaN          NaN          21.0  \n",
       "1       0.01     0.003937          0.0           5.0  \n",
       "2        NaN          NaN          NaN          12.0  \n",
       "3       0.00     0.000000          1.4          12.0  \n",
       "4        NaN          NaN          NaN           NaN  "
      ]
     },
     "execution_count": 302,
     "metadata": {},
     "output_type": "execute_result"
    }
   ],
   "source": [
    "df_al.head()"
   ]
  },
  {
   "cell_type": "code",
   "execution_count": 309,
   "metadata": {},
   "outputs": [
    {
     "data": {
      "text/html": [
       "<div>\n",
       "<style scoped>\n",
       "    .dataframe tbody tr th:only-of-type {\n",
       "        vertical-align: middle;\n",
       "    }\n",
       "\n",
       "    .dataframe tbody tr th {\n",
       "        vertical-align: top;\n",
       "    }\n",
       "\n",
       "    .dataframe thead th {\n",
       "        text-align: right;\n",
       "    }\n",
       "</style>\n",
       "<table border=\"1\" class=\"dataframe\">\n",
       "  <thead>\n",
       "    <tr style=\"text-align: right;\">\n",
       "      <th></th>\n",
       "      <th>code</th>\n",
       "      <th>quantity</th>\n",
       "      <th>categories_tags</th>\n",
       "      <th>energy_100g</th>\n",
       "      <th>fat_100g</th>\n",
       "      <th>fiber_100g</th>\n",
       "      <th>carbohydrates_100g</th>\n",
       "      <th>proteins_100g</th>\n",
       "      <th>salt_100g</th>\n",
       "      <th>sodium_100g</th>\n",
       "      <th>sugars_100g</th>\n",
       "      <th>alcohol_100g</th>\n",
       "    </tr>\n",
       "  </thead>\n",
       "  <tbody>\n",
       "    <tr>\n",
       "      <th>3</th>\n",
       "      <td>3185370000038</td>\n",
       "      <td>1500 ml</td>\n",
       "      <td>en:beverages,en:alcoholic-beverages,en:wines,e...</td>\n",
       "      <td>356.0</td>\n",
       "      <td>0.00</td>\n",
       "      <td>0.0</td>\n",
       "      <td>2.80</td>\n",
       "      <td>0.30</td>\n",
       "      <td>0.000000</td>\n",
       "      <td>0.000000</td>\n",
       "      <td>1.40</td>\n",
       "      <td>12.0</td>\n",
       "    </tr>\n",
       "    <tr>\n",
       "      <th>7</th>\n",
       "      <td>3185370045169</td>\n",
       "      <td>750 ml</td>\n",
       "      <td>en:beverages,en:alcoholic-beverages,en:wines,e...</td>\n",
       "      <td>356.0</td>\n",
       "      <td>0.00</td>\n",
       "      <td>0.0</td>\n",
       "      <td>2.80</td>\n",
       "      <td>0.30</td>\n",
       "      <td>0.000000</td>\n",
       "      <td>0.000000</td>\n",
       "      <td>1.40</td>\n",
       "      <td>12.0</td>\n",
       "    </tr>\n",
       "    <tr>\n",
       "      <th>17</th>\n",
       "      <td>3185370479339</td>\n",
       "      <td>2 bouteilles (1.5 L)</td>\n",
       "      <td>en:beverages,en:alcoholic-beverages,en:wines,e...</td>\n",
       "      <td>356.0</td>\n",
       "      <td>0.00</td>\n",
       "      <td>0.0</td>\n",
       "      <td>2.80</td>\n",
       "      <td>0.30</td>\n",
       "      <td>0.000000</td>\n",
       "      <td>0.000000</td>\n",
       "      <td>1.40</td>\n",
       "      <td>12.0</td>\n",
       "    </tr>\n",
       "    <tr>\n",
       "      <th>26</th>\n",
       "      <td>5900343003148</td>\n",
       "      <td>70 cl</td>\n",
       "      <td>en:beverages,en:alcoholic-beverages,en:hard-li...</td>\n",
       "      <td>4.0</td>\n",
       "      <td>1.00</td>\n",
       "      <td>NaN</td>\n",
       "      <td>1.00</td>\n",
       "      <td>100.00</td>\n",
       "      <td>0.000000</td>\n",
       "      <td>0.000000</td>\n",
       "      <td>1.00</td>\n",
       "      <td>40.0</td>\n",
       "    </tr>\n",
       "    <tr>\n",
       "      <th>289</th>\n",
       "      <td>4067700013859</td>\n",
       "      <td>0.7 l</td>\n",
       "      <td>en:beverages,en:alcoholic-beverages</td>\n",
       "      <td>4.0</td>\n",
       "      <td>1.00</td>\n",
       "      <td>NaN</td>\n",
       "      <td>40.00</td>\n",
       "      <td>1.00</td>\n",
       "      <td>0.000000</td>\n",
       "      <td>0.000000</td>\n",
       "      <td>1.00</td>\n",
       "      <td>35.0</td>\n",
       "    </tr>\n",
       "    <tr>\n",
       "      <th>292</th>\n",
       "      <td>40677040</td>\n",
       "      <td>0,04 l</td>\n",
       "      <td>en:beverages,en:alcoholic-beverages,en:liqueurs</td>\n",
       "      <td>4.0</td>\n",
       "      <td>1.00</td>\n",
       "      <td>NaN</td>\n",
       "      <td>1.00</td>\n",
       "      <td>1.00</td>\n",
       "      <td>NaN</td>\n",
       "      <td>NaN</td>\n",
       "      <td>1.00</td>\n",
       "      <td>35.0</td>\n",
       "    </tr>\n",
       "    <tr>\n",
       "      <th>316</th>\n",
       "      <td>4850088001828</td>\n",
       "      <td>0,2 л</td>\n",
       "      <td>NaN</td>\n",
       "      <td>954.0</td>\n",
       "      <td>NaN</td>\n",
       "      <td>NaN</td>\n",
       "      <td>0.90</td>\n",
       "      <td>NaN</td>\n",
       "      <td>NaN</td>\n",
       "      <td>NaN</td>\n",
       "      <td>NaN</td>\n",
       "      <td>40.0</td>\n",
       "    </tr>\n",
       "    <tr>\n",
       "      <th>378</th>\n",
       "      <td>8002230130504</td>\n",
       "      <td>70 cl</td>\n",
       "      <td>en:beverages,en:alcoholic-beverages,en:liqueurs</td>\n",
       "      <td>4.0</td>\n",
       "      <td>1.00</td>\n",
       "      <td>NaN</td>\n",
       "      <td>1.00</td>\n",
       "      <td>1.00</td>\n",
       "      <td>0.000000</td>\n",
       "      <td>0.000000</td>\n",
       "      <td>1.00</td>\n",
       "      <td>15.0</td>\n",
       "    </tr>\n",
       "    <tr>\n",
       "      <th>379</th>\n",
       "      <td>8002230130702</td>\n",
       "      <td>1 l</td>\n",
       "      <td>en:beverages,en:alcoholic-beverages,en:liqueurs</td>\n",
       "      <td>0.0</td>\n",
       "      <td>0.00</td>\n",
       "      <td>0.0</td>\n",
       "      <td>0.00</td>\n",
       "      <td>0.00</td>\n",
       "      <td>0.000000</td>\n",
       "      <td>0.000000</td>\n",
       "      <td>0.00</td>\n",
       "      <td>15.0</td>\n",
       "    </tr>\n",
       "    <tr>\n",
       "      <th>380</th>\n",
       "      <td>2000000011741</td>\n",
       "      <td>50cl</td>\n",
       "      <td>en:beverages,en:alcoholic-beverages,en:wines</td>\n",
       "      <td>636.0</td>\n",
       "      <td>0.00</td>\n",
       "      <td>0.0</td>\n",
       "      <td>11.70</td>\n",
       "      <td>0.20</td>\n",
       "      <td>2.286000</td>\n",
       "      <td>0.900000</td>\n",
       "      <td>1.10</td>\n",
       "      <td>15.6</td>\n",
       "    </tr>\n",
       "    <tr>\n",
       "      <th>500</th>\n",
       "      <td>3269210252969</td>\n",
       "      <td>75 cl</td>\n",
       "      <td>en:beverages,en:alcoholic-beverages,en:wines,e...</td>\n",
       "      <td>280.0</td>\n",
       "      <td>1.40</td>\n",
       "      <td>NaN</td>\n",
       "      <td>1.40</td>\n",
       "      <td>0.20</td>\n",
       "      <td>0.000000</td>\n",
       "      <td>0.000000</td>\n",
       "      <td>0.38</td>\n",
       "      <td>12.5</td>\n",
       "    </tr>\n",
       "    <tr>\n",
       "      <th>590</th>\n",
       "      <td>5902738884530</td>\n",
       "      <td>70 cl</td>\n",
       "      <td>en:beverages,en:alcoholic-beverages,en:hard-li...</td>\n",
       "      <td>4.0</td>\n",
       "      <td>1.00</td>\n",
       "      <td>NaN</td>\n",
       "      <td>1.00</td>\n",
       "      <td>1.00</td>\n",
       "      <td>1.010000</td>\n",
       "      <td>0.397638</td>\n",
       "      <td>1.00</td>\n",
       "      <td>37.5</td>\n",
       "    </tr>\n",
       "    <tr>\n",
       "      <th>599</th>\n",
       "      <td>3099873045864</td>\n",
       "      <td>70 cl</td>\n",
       "      <td>en:beverages,en:alcoholic-beverages,en:hard-li...</td>\n",
       "      <td>326.0</td>\n",
       "      <td>0.00</td>\n",
       "      <td>0.0</td>\n",
       "      <td>0.00</td>\n",
       "      <td>0.00</td>\n",
       "      <td>0.000000</td>\n",
       "      <td>0.000000</td>\n",
       "      <td>0.00</td>\n",
       "      <td>40.0</td>\n",
       "    </tr>\n",
       "    <tr>\n",
       "      <th>813</th>\n",
       "      <td>5410218002218</td>\n",
       "      <td>50 cl</td>\n",
       "      <td>en:beverages,en:alcoholic-beverages,en:beers,e...</td>\n",
       "      <td>375.0</td>\n",
       "      <td>NaN</td>\n",
       "      <td>NaN</td>\n",
       "      <td>NaN</td>\n",
       "      <td>NaN</td>\n",
       "      <td>NaN</td>\n",
       "      <td>NaN</td>\n",
       "      <td>NaN</td>\n",
       "      <td>14.0</td>\n",
       "    </tr>\n",
       "    <tr>\n",
       "      <th>882</th>\n",
       "      <td>3011932000829</td>\n",
       "      <td>1 l</td>\n",
       "      <td>en:beverages,en:alcoholic-beverages,en:wines,e...</td>\n",
       "      <td>0.0</td>\n",
       "      <td>0.00</td>\n",
       "      <td>0.0</td>\n",
       "      <td>0.00</td>\n",
       "      <td>0.00</td>\n",
       "      <td>0.000000</td>\n",
       "      <td>0.000000</td>\n",
       "      <td>0.00</td>\n",
       "      <td>14.4</td>\n",
       "    </tr>\n",
       "    <tr>\n",
       "      <th>921</th>\n",
       "      <td>3012992172006</td>\n",
       "      <td>70 cl</td>\n",
       "      <td>en:beverages,en:alcoholic-beverages,en:liqueurs</td>\n",
       "      <td>628.0</td>\n",
       "      <td>6.49</td>\n",
       "      <td>NaN</td>\n",
       "      <td>6.49</td>\n",
       "      <td>6.00</td>\n",
       "      <td>0.000000</td>\n",
       "      <td>0.000000</td>\n",
       "      <td>1.78</td>\n",
       "      <td>16.0</td>\n",
       "    </tr>\n",
       "    <tr>\n",
       "      <th>950</th>\n",
       "      <td>3417960030287</td>\n",
       "      <td>50 ml</td>\n",
       "      <td>en:plant-based-foods-and-beverages,en:beverage...</td>\n",
       "      <td>0.0</td>\n",
       "      <td>0.00</td>\n",
       "      <td>0.0</td>\n",
       "      <td>0.00</td>\n",
       "      <td>0.00</td>\n",
       "      <td>0.000000</td>\n",
       "      <td>0.000000</td>\n",
       "      <td>0.00</td>\n",
       "      <td>20.0</td>\n",
       "    </tr>\n",
       "    <tr>\n",
       "      <th>989</th>\n",
       "      <td>2000000049820</td>\n",
       "      <td>2 l, 250 g, 1 kg, 25 cl, 6 fl oz, 1 pound</td>\n",
       "      <td>en:seafood,en:fishes,en:sardines</td>\n",
       "      <td>12.0</td>\n",
       "      <td>12.00</td>\n",
       "      <td>12.0</td>\n",
       "      <td>12.00</td>\n",
       "      <td>12.00</td>\n",
       "      <td>11.999979</td>\n",
       "      <td>4.724401</td>\n",
       "      <td>12.00</td>\n",
       "      <td>12.0</td>\n",
       "    </tr>\n",
       "    <tr>\n",
       "      <th>1021</th>\n",
       "      <td>3014400016360</td>\n",
       "      <td>2 l</td>\n",
       "      <td>en:beverages,en:alcoholic-beverages,fr:pastis</td>\n",
       "      <td>1046.0</td>\n",
       "      <td>0.00</td>\n",
       "      <td>0.0</td>\n",
       "      <td>5.08</td>\n",
       "      <td>0.00</td>\n",
       "      <td>5.080000</td>\n",
       "      <td>2.000000</td>\n",
       "      <td>4.61</td>\n",
       "      <td>45.0</td>\n",
       "    </tr>\n",
       "    <tr>\n",
       "      <th>1054</th>\n",
       "      <td>3016570001030</td>\n",
       "      <td>750 ml</td>\n",
       "      <td>en:beverages,en:alcoholic-beverages,en:wines,e...</td>\n",
       "      <td>356.0</td>\n",
       "      <td>0.00</td>\n",
       "      <td>0.0</td>\n",
       "      <td>2.80</td>\n",
       "      <td>0.30</td>\n",
       "      <td>0.000000</td>\n",
       "      <td>0.000000</td>\n",
       "      <td>1.40</td>\n",
       "      <td>12.5</td>\n",
       "    </tr>\n",
       "    <tr>\n",
       "      <th>1055</th>\n",
       "      <td>3016570001054</td>\n",
       "      <td>750 ml</td>\n",
       "      <td>en:beverages,en:alcoholic-beverages,en:wines,e...</td>\n",
       "      <td>356.0</td>\n",
       "      <td>0.00</td>\n",
       "      <td>0.0</td>\n",
       "      <td>2.80</td>\n",
       "      <td>0.30</td>\n",
       "      <td>0.000000</td>\n",
       "      <td>0.000000</td>\n",
       "      <td>1.40</td>\n",
       "      <td>12.5</td>\n",
       "    </tr>\n",
       "    <tr>\n",
       "      <th>1086</th>\n",
       "      <td>0087000201156</td>\n",
       "      <td>1.75 L</td>\n",
       "      <td>en:beverages,en:alcoholic-beverages</td>\n",
       "      <td>0.0</td>\n",
       "      <td>0.00</td>\n",
       "      <td>0.0</td>\n",
       "      <td>0.00</td>\n",
       "      <td>0.00</td>\n",
       "      <td>0.000000</td>\n",
       "      <td>0.000000</td>\n",
       "      <td>0.00</td>\n",
       "      <td>35.0</td>\n",
       "    </tr>\n",
       "    <tr>\n",
       "      <th>1142</th>\n",
       "      <td>5060215331059</td>\n",
       "      <td>75cl</td>\n",
       "      <td>en:beverages,en:alcoholic-beverages,en:wines,e...</td>\n",
       "      <td>0.0</td>\n",
       "      <td>0.00</td>\n",
       "      <td>0.0</td>\n",
       "      <td>NaN</td>\n",
       "      <td>0.00</td>\n",
       "      <td>NaN</td>\n",
       "      <td>NaN</td>\n",
       "      <td>0.00</td>\n",
       "      <td>12.5</td>\n",
       "    </tr>\n",
       "    <tr>\n",
       "      <th>1273</th>\n",
       "      <td>8410036009090</td>\n",
       "      <td>750ml</td>\n",
       "      <td>en:beverages,en:alcoholic-beverages,en:wines,e...</td>\n",
       "      <td>310.0</td>\n",
       "      <td>0.00</td>\n",
       "      <td>NaN</td>\n",
       "      <td>3.00</td>\n",
       "      <td>0.00</td>\n",
       "      <td>0.000000</td>\n",
       "      <td>0.000000</td>\n",
       "      <td>1.00</td>\n",
       "      <td>12.0</td>\n",
       "    </tr>\n",
       "    <tr>\n",
       "      <th>1327</th>\n",
       "      <td>3352370002823</td>\n",
       "      <td>750 ml</td>\n",
       "      <td>en:beverages,en:alcoholic-beverages,en:wines,e...</td>\n",
       "      <td>356.0</td>\n",
       "      <td>0.00</td>\n",
       "      <td>0.0</td>\n",
       "      <td>2.80</td>\n",
       "      <td>0.30</td>\n",
       "      <td>0.000000</td>\n",
       "      <td>0.000000</td>\n",
       "      <td>1.40</td>\n",
       "      <td>12.5</td>\n",
       "    </tr>\n",
       "    <tr>\n",
       "      <th>1437</th>\n",
       "      <td>3107460001404</td>\n",
       "      <td>1 l</td>\n",
       "      <td>en:beverages,en:alcoholic-beverages,en:hard-li...</td>\n",
       "      <td>42.0</td>\n",
       "      <td>NaN</td>\n",
       "      <td>10.0</td>\n",
       "      <td>NaN</td>\n",
       "      <td>50.00</td>\n",
       "      <td>0.100000</td>\n",
       "      <td>0.039370</td>\n",
       "      <td>0.10</td>\n",
       "      <td>40.0</td>\n",
       "    </tr>\n",
       "    <tr>\n",
       "      <th>1466</th>\n",
       "      <td>3107872000606</td>\n",
       "      <td>100 cl</td>\n",
       "      <td>en:beverages,en:alcoholic-beverages,en:hard-li...</td>\n",
       "      <td>925.0</td>\n",
       "      <td>1.00</td>\n",
       "      <td>NaN</td>\n",
       "      <td>1.00</td>\n",
       "      <td>25.00</td>\n",
       "      <td>0.000000</td>\n",
       "      <td>0.000000</td>\n",
       "      <td>1.00</td>\n",
       "      <td>40.0</td>\n",
       "    </tr>\n",
       "    <tr>\n",
       "      <th>1478</th>\n",
       "      <td>3107874906166</td>\n",
       "      <td>0.75 l</td>\n",
       "      <td>en:beverages,en:alcoholic-beverages,en:wines,e...</td>\n",
       "      <td>326.0</td>\n",
       "      <td>0.00</td>\n",
       "      <td>NaN</td>\n",
       "      <td>3.00</td>\n",
       "      <td>0.20</td>\n",
       "      <td>NaN</td>\n",
       "      <td>NaN</td>\n",
       "      <td>1.80</td>\n",
       "      <td>10.5</td>\n",
       "    </tr>\n",
       "    <tr>\n",
       "      <th>1541</th>\n",
       "      <td>3018333001134</td>\n",
       "      <td>75 cl</td>\n",
       "      <td>en:beverages,en:alcoholic-beverages,en:wines,e...</td>\n",
       "      <td>356.0</td>\n",
       "      <td>0.00</td>\n",
       "      <td>0.0</td>\n",
       "      <td>2.80</td>\n",
       "      <td>0.30</td>\n",
       "      <td>0.000000</td>\n",
       "      <td>0.000000</td>\n",
       "      <td>1.40</td>\n",
       "      <td>12.0</td>\n",
       "    </tr>\n",
       "    <tr>\n",
       "      <th>1763</th>\n",
       "      <td>3270190126720</td>\n",
       "      <td>750 ml</td>\n",
       "      <td>en:beverages,en:alcoholic-beverages,en:wines,e...</td>\n",
       "      <td>310.0</td>\n",
       "      <td>2.36</td>\n",
       "      <td>NaN</td>\n",
       "      <td>2.36</td>\n",
       "      <td>0.10</td>\n",
       "      <td>0.000000</td>\n",
       "      <td>0.000000</td>\n",
       "      <td>0.65</td>\n",
       "      <td>11.5</td>\n",
       "    </tr>\n",
       "    <tr>\n",
       "      <th>...</th>\n",
       "      <td>...</td>\n",
       "      <td>...</td>\n",
       "      <td>...</td>\n",
       "      <td>...</td>\n",
       "      <td>...</td>\n",
       "      <td>...</td>\n",
       "      <td>...</td>\n",
       "      <td>...</td>\n",
       "      <td>...</td>\n",
       "      <td>...</td>\n",
       "      <td>...</td>\n",
       "      <td>...</td>\n",
       "    </tr>\n",
       "    <tr>\n",
       "      <th>5194</th>\n",
       "      <td>3264066214291</td>\n",
       "      <td>75 cl</td>\n",
       "      <td>en:beverages,en:alcoholic-beverages,en:wines,e...</td>\n",
       "      <td>5.0</td>\n",
       "      <td>NaN</td>\n",
       "      <td>NaN</td>\n",
       "      <td>NaN</td>\n",
       "      <td>NaN</td>\n",
       "      <td>NaN</td>\n",
       "      <td>NaN</td>\n",
       "      <td>NaN</td>\n",
       "      <td>12.5</td>\n",
       "    </tr>\n",
       "    <tr>\n",
       "      <th>5203</th>\n",
       "      <td>7054928070860</td>\n",
       "      <td>70cl</td>\n",
       "      <td>en:white-rhum</td>\n",
       "      <td>858.0</td>\n",
       "      <td>NaN</td>\n",
       "      <td>NaN</td>\n",
       "      <td>NaN</td>\n",
       "      <td>NaN</td>\n",
       "      <td>NaN</td>\n",
       "      <td>NaN</td>\n",
       "      <td>NaN</td>\n",
       "      <td>37.5</td>\n",
       "    </tr>\n",
       "    <tr>\n",
       "      <th>5360</th>\n",
       "      <td>3394215741160</td>\n",
       "      <td>1 l</td>\n",
       "      <td>en:beverages,en:alcoholic-beverages,fr:pastis</td>\n",
       "      <td>4.0</td>\n",
       "      <td>1.75</td>\n",
       "      <td>NaN</td>\n",
       "      <td>1.82</td>\n",
       "      <td>1.24</td>\n",
       "      <td>0.000000</td>\n",
       "      <td>0.000000</td>\n",
       "      <td>1.67</td>\n",
       "      <td>45.0</td>\n",
       "    </tr>\n",
       "    <tr>\n",
       "      <th>5372</th>\n",
       "      <td>0080432402931</td>\n",
       "      <td>70 cl</td>\n",
       "      <td>en:beverages,en:alcoholic-beverages,en:hard-li...</td>\n",
       "      <td>586.0</td>\n",
       "      <td>1.00</td>\n",
       "      <td>NaN</td>\n",
       "      <td>1.00</td>\n",
       "      <td>1.00</td>\n",
       "      <td>0.000000</td>\n",
       "      <td>0.000000</td>\n",
       "      <td>1.00</td>\n",
       "      <td>40.0</td>\n",
       "    </tr>\n",
       "    <tr>\n",
       "      <th>5399</th>\n",
       "      <td>4600587015631</td>\n",
       "      <td>0.1 l</td>\n",
       "      <td>en:beverages,en:alcoholic-beverages,en:hard-li...</td>\n",
       "      <td>960.0</td>\n",
       "      <td>NaN</td>\n",
       "      <td>NaN</td>\n",
       "      <td>NaN</td>\n",
       "      <td>NaN</td>\n",
       "      <td>NaN</td>\n",
       "      <td>NaN</td>\n",
       "      <td>NaN</td>\n",
       "      <td>40.0</td>\n",
       "    </tr>\n",
       "    <tr>\n",
       "      <th>5417</th>\n",
       "      <td>3283770565246</td>\n",
       "      <td>70 cl</td>\n",
       "      <td>en:beverages,en:alcoholic-beverages,en:hard-li...</td>\n",
       "      <td>209.0</td>\n",
       "      <td>0.10</td>\n",
       "      <td>NaN</td>\n",
       "      <td>0.10</td>\n",
       "      <td>20.00</td>\n",
       "      <td>NaN</td>\n",
       "      <td>NaN</td>\n",
       "      <td>0.10</td>\n",
       "      <td>40.0</td>\n",
       "    </tr>\n",
       "    <tr>\n",
       "      <th>5435</th>\n",
       "      <td>8000500153970</td>\n",
       "      <td>42 g</td>\n",
       "      <td>en:sugary-snacks,en:confectioneries,en:chocola...</td>\n",
       "      <td>1902.0</td>\n",
       "      <td>20.30</td>\n",
       "      <td>NaN</td>\n",
       "      <td>52.80</td>\n",
       "      <td>3.00</td>\n",
       "      <td>0.005000</td>\n",
       "      <td>0.001969</td>\n",
       "      <td>48.30</td>\n",
       "      <td>13.0</td>\n",
       "    </tr>\n",
       "    <tr>\n",
       "      <th>5437</th>\n",
       "      <td>5051277849033</td>\n",
       "      <td>75 cl</td>\n",
       "      <td>en:beverages,en:alcoholic-beverages,en:wines,e...</td>\n",
       "      <td>321.0</td>\n",
       "      <td>NaN</td>\n",
       "      <td>NaN</td>\n",
       "      <td>NaN</td>\n",
       "      <td>NaN</td>\n",
       "      <td>NaN</td>\n",
       "      <td>NaN</td>\n",
       "      <td>NaN</td>\n",
       "      <td>13.5</td>\n",
       "    </tr>\n",
       "    <tr>\n",
       "      <th>5443</th>\n",
       "      <td>3245414819849</td>\n",
       "      <td>75 cl</td>\n",
       "      <td>en:beverages,en:alcoholic-beverages,en:wines,e...</td>\n",
       "      <td>8.0</td>\n",
       "      <td>9.58</td>\n",
       "      <td>21.0</td>\n",
       "      <td>3.99</td>\n",
       "      <td>3.10</td>\n",
       "      <td>1.000000</td>\n",
       "      <td>0.393701</td>\n",
       "      <td>1.09</td>\n",
       "      <td>12.5</td>\n",
       "    </tr>\n",
       "    <tr>\n",
       "      <th>5446</th>\n",
       "      <td>3394700017015</td>\n",
       "      <td>100 cl</td>\n",
       "      <td>en:beverages,en:alcoholic-beverages,en:hard-li...</td>\n",
       "      <td>21.0</td>\n",
       "      <td>2.00</td>\n",
       "      <td>NaN</td>\n",
       "      <td>12.00</td>\n",
       "      <td>20.00</td>\n",
       "      <td>0.000000</td>\n",
       "      <td>0.000000</td>\n",
       "      <td>1.00</td>\n",
       "      <td>45.0</td>\n",
       "    </tr>\n",
       "    <tr>\n",
       "      <th>5485</th>\n",
       "      <td>4601033005121</td>\n",
       "      <td>NaN</td>\n",
       "      <td>en:beverages,en:alcoholic-beverages,en:hard-li...</td>\n",
       "      <td>930.0</td>\n",
       "      <td>NaN</td>\n",
       "      <td>NaN</td>\n",
       "      <td>NaN</td>\n",
       "      <td>NaN</td>\n",
       "      <td>NaN</td>\n",
       "      <td>NaN</td>\n",
       "      <td>NaN</td>\n",
       "      <td>40.0</td>\n",
       "    </tr>\n",
       "    <tr>\n",
       "      <th>5486</th>\n",
       "      <td>4601033006111</td>\n",
       "      <td>0,1 л</td>\n",
       "      <td>en:beverages,en:alcoholic-beverages,en:hard-li...</td>\n",
       "      <td>930.0</td>\n",
       "      <td>NaN</td>\n",
       "      <td>NaN</td>\n",
       "      <td>0.20</td>\n",
       "      <td>NaN</td>\n",
       "      <td>NaN</td>\n",
       "      <td>NaN</td>\n",
       "      <td>NaN</td>\n",
       "      <td>40.0</td>\n",
       "    </tr>\n",
       "    <tr>\n",
       "      <th>5487</th>\n",
       "      <td>4601033006128</td>\n",
       "      <td>0,25 л</td>\n",
       "      <td>en:beverages,en:alcoholic-beverages,en:hard-li...</td>\n",
       "      <td>930.0</td>\n",
       "      <td>0.00</td>\n",
       "      <td>NaN</td>\n",
       "      <td>0.20</td>\n",
       "      <td>0.00</td>\n",
       "      <td>NaN</td>\n",
       "      <td>NaN</td>\n",
       "      <td>NaN</td>\n",
       "      <td>40.0</td>\n",
       "    </tr>\n",
       "    <tr>\n",
       "      <th>5490</th>\n",
       "      <td>4601033149696</td>\n",
       "      <td>0.5 l</td>\n",
       "      <td>en:beverages,en:alcoholic-beverages,en:hard-li...</td>\n",
       "      <td>930.0</td>\n",
       "      <td>NaN</td>\n",
       "      <td>NaN</td>\n",
       "      <td>NaN</td>\n",
       "      <td>NaN</td>\n",
       "      <td>NaN</td>\n",
       "      <td>NaN</td>\n",
       "      <td>NaN</td>\n",
       "      <td>40.0</td>\n",
       "    </tr>\n",
       "    <tr>\n",
       "      <th>5498</th>\n",
       "      <td>4601126222237</td>\n",
       "      <td>0,5 л</td>\n",
       "      <td>en:beverages,en:alcoholic-beverages,en:hard-li...</td>\n",
       "      <td>930.0</td>\n",
       "      <td>NaN</td>\n",
       "      <td>NaN</td>\n",
       "      <td>NaN</td>\n",
       "      <td>NaN</td>\n",
       "      <td>NaN</td>\n",
       "      <td>NaN</td>\n",
       "      <td>NaN</td>\n",
       "      <td>40.0</td>\n",
       "    </tr>\n",
       "    <tr>\n",
       "      <th>5519</th>\n",
       "      <td>4601351007807</td>\n",
       "      <td>1 l</td>\n",
       "      <td>en:beverages,en:alcoholic-beverages,ru:напитки...</td>\n",
       "      <td>300.0</td>\n",
       "      <td>NaN</td>\n",
       "      <td>NaN</td>\n",
       "      <td>4.00</td>\n",
       "      <td>NaN</td>\n",
       "      <td>NaN</td>\n",
       "      <td>NaN</td>\n",
       "      <td>4.00</td>\n",
       "      <td>10.5</td>\n",
       "    </tr>\n",
       "    <tr>\n",
       "      <th>5549</th>\n",
       "      <td>4601775003478</td>\n",
       "      <td>0,5 л</td>\n",
       "      <td>en:beverages,en:alcoholic-beverages,en:hard-li...</td>\n",
       "      <td>930.0</td>\n",
       "      <td>NaN</td>\n",
       "      <td>NaN</td>\n",
       "      <td>NaN</td>\n",
       "      <td>NaN</td>\n",
       "      <td>NaN</td>\n",
       "      <td>NaN</td>\n",
       "      <td>NaN</td>\n",
       "      <td>40.0</td>\n",
       "    </tr>\n",
       "    <tr>\n",
       "      <th>5557</th>\n",
       "      <td>4601823004679</td>\n",
       "      <td>0,5 л</td>\n",
       "      <td>en:beverages,en:alcoholic-beverages,ru:настойк...</td>\n",
       "      <td>900.0</td>\n",
       "      <td>0.00</td>\n",
       "      <td>NaN</td>\n",
       "      <td>1.00</td>\n",
       "      <td>0.00</td>\n",
       "      <td>NaN</td>\n",
       "      <td>NaN</td>\n",
       "      <td>NaN</td>\n",
       "      <td>36.6</td>\n",
       "    </tr>\n",
       "    <tr>\n",
       "      <th>5558</th>\n",
       "      <td>4601823005195</td>\n",
       "      <td>0,25 л</td>\n",
       "      <td>en:beverages,en:alcoholic-beverages,en:hard-li...</td>\n",
       "      <td>930.0</td>\n",
       "      <td>0.00</td>\n",
       "      <td>NaN</td>\n",
       "      <td>0.20</td>\n",
       "      <td>0.00</td>\n",
       "      <td>NaN</td>\n",
       "      <td>NaN</td>\n",
       "      <td>NaN</td>\n",
       "      <td>40.0</td>\n",
       "    </tr>\n",
       "    <tr>\n",
       "      <th>5612</th>\n",
       "      <td>4603400000043</td>\n",
       "      <td>0,70 л</td>\n",
       "      <td>en:beverages,en:alcoholic-beverages,en:hard-li...</td>\n",
       "      <td>928.0</td>\n",
       "      <td>NaN</td>\n",
       "      <td>NaN</td>\n",
       "      <td>NaN</td>\n",
       "      <td>NaN</td>\n",
       "      <td>NaN</td>\n",
       "      <td>NaN</td>\n",
       "      <td>NaN</td>\n",
       "      <td>40.0</td>\n",
       "    </tr>\n",
       "    <tr>\n",
       "      <th>5667</th>\n",
       "      <td>4000281592504</td>\n",
       "      <td>200 g</td>\n",
       "      <td>en:sugary-snacks,en:chocolates</td>\n",
       "      <td>1893.0</td>\n",
       "      <td>18.00</td>\n",
       "      <td>NaN</td>\n",
       "      <td>59.00</td>\n",
       "      <td>2.70</td>\n",
       "      <td>0.030000</td>\n",
       "      <td>0.011811</td>\n",
       "      <td>50.00</td>\n",
       "      <td>16.0</td>\n",
       "    </tr>\n",
       "    <tr>\n",
       "      <th>5762</th>\n",
       "      <td>3180290028612</td>\n",
       "      <td>50 cl</td>\n",
       "      <td>en:beverages,en:alcoholic-beverages,en:liqueurs</td>\n",
       "      <td>418.0</td>\n",
       "      <td>0.00</td>\n",
       "      <td>NaN</td>\n",
       "      <td>50.00</td>\n",
       "      <td>0.00</td>\n",
       "      <td>NaN</td>\n",
       "      <td>NaN</td>\n",
       "      <td>50.00</td>\n",
       "      <td>16.0</td>\n",
       "    </tr>\n",
       "    <tr>\n",
       "      <th>5772</th>\n",
       "      <td>3287480000035</td>\n",
       "      <td>1 l</td>\n",
       "      <td>en:beverages,en:alcoholic-beverages,en:hard-li...</td>\n",
       "      <td>1318.0</td>\n",
       "      <td>0.00</td>\n",
       "      <td>0.0</td>\n",
       "      <td>0.00</td>\n",
       "      <td>0.00</td>\n",
       "      <td>0.000000</td>\n",
       "      <td>0.000000</td>\n",
       "      <td>0.00</td>\n",
       "      <td>55.0</td>\n",
       "    </tr>\n",
       "    <tr>\n",
       "      <th>5872</th>\n",
       "      <td>4607113511452</td>\n",
       "      <td>0.5 l</td>\n",
       "      <td>NaN</td>\n",
       "      <td>950.0</td>\n",
       "      <td>NaN</td>\n",
       "      <td>NaN</td>\n",
       "      <td>NaN</td>\n",
       "      <td>NaN</td>\n",
       "      <td>NaN</td>\n",
       "      <td>NaN</td>\n",
       "      <td>NaN</td>\n",
       "      <td>40.0</td>\n",
       "    </tr>\n",
       "    <tr>\n",
       "      <th>5879</th>\n",
       "      <td>4607145130751</td>\n",
       "      <td>0.5 l</td>\n",
       "      <td>en:beverages,en:alcoholic-beverages,en:hard-li...</td>\n",
       "      <td>937.0</td>\n",
       "      <td>NaN</td>\n",
       "      <td>NaN</td>\n",
       "      <td>NaN</td>\n",
       "      <td>NaN</td>\n",
       "      <td>NaN</td>\n",
       "      <td>NaN</td>\n",
       "      <td>NaN</td>\n",
       "      <td>40.0</td>\n",
       "    </tr>\n",
       "    <tr>\n",
       "      <th>5937</th>\n",
       "      <td>4044782321775</td>\n",
       "      <td>1</td>\n",
       "      <td>NaN</td>\n",
       "      <td>1368.0</td>\n",
       "      <td>8.50</td>\n",
       "      <td>NaN</td>\n",
       "      <td>23.00</td>\n",
       "      <td>40.00</td>\n",
       "      <td>NaN</td>\n",
       "      <td>NaN</td>\n",
       "      <td>2.60</td>\n",
       "      <td>19.0</td>\n",
       "    </tr>\n",
       "    <tr>\n",
       "      <th>5949</th>\n",
       "      <td>4620008991108</td>\n",
       "      <td>0,5 л</td>\n",
       "      <td>en:beverages,en:alcoholic-beverages,en:hard-li...</td>\n",
       "      <td>930.0</td>\n",
       "      <td>NaN</td>\n",
       "      <td>NaN</td>\n",
       "      <td>NaN</td>\n",
       "      <td>NaN</td>\n",
       "      <td>NaN</td>\n",
       "      <td>NaN</td>\n",
       "      <td>NaN</td>\n",
       "      <td>40.0</td>\n",
       "    </tr>\n",
       "    <tr>\n",
       "      <th>6024</th>\n",
       "      <td>4640010203648</td>\n",
       "      <td>0.5 l</td>\n",
       "      <td>NaN</td>\n",
       "      <td>950.0</td>\n",
       "      <td>NaN</td>\n",
       "      <td>NaN</td>\n",
       "      <td>NaN</td>\n",
       "      <td>NaN</td>\n",
       "      <td>NaN</td>\n",
       "      <td>NaN</td>\n",
       "      <td>NaN</td>\n",
       "      <td>40.0</td>\n",
       "    </tr>\n",
       "    <tr>\n",
       "      <th>6290</th>\n",
       "      <td>5054775910359</td>\n",
       "      <td>75 cl</td>\n",
       "      <td>en:beverages,en:alcoholic-beverages,en:wines,e...</td>\n",
       "      <td>292.0</td>\n",
       "      <td>NaN</td>\n",
       "      <td>NaN</td>\n",
       "      <td>NaN</td>\n",
       "      <td>NaN</td>\n",
       "      <td>NaN</td>\n",
       "      <td>NaN</td>\n",
       "      <td>NaN</td>\n",
       "      <td>11.0</td>\n",
       "    </tr>\n",
       "    <tr>\n",
       "      <th>6327</th>\n",
       "      <td>8033737280096</td>\n",
       "      <td>750 ml</td>\n",
       "      <td>en:beverages,en:alcoholic-beverages,en:wines,e...</td>\n",
       "      <td>305.0</td>\n",
       "      <td>NaN</td>\n",
       "      <td>NaN</td>\n",
       "      <td>NaN</td>\n",
       "      <td>NaN</td>\n",
       "      <td>NaN</td>\n",
       "      <td>NaN</td>\n",
       "      <td>NaN</td>\n",
       "      <td>13.0</td>\n",
       "    </tr>\n",
       "  </tbody>\n",
       "</table>\n",
       "<p>141 rows × 12 columns</p>\n",
       "</div>"
      ],
      "text/plain": [
       "               code                                   quantity  \\\n",
       "3     3185370000038                                    1500 ml   \n",
       "7     3185370045169                                     750 ml   \n",
       "17    3185370479339                       2 bouteilles (1.5 L)   \n",
       "26    5900343003148                                      70 cl   \n",
       "289   4067700013859                                      0.7 l   \n",
       "292        40677040                                     0,04 l   \n",
       "316   4850088001828                                      0,2 л   \n",
       "378   8002230130504                                      70 cl   \n",
       "379   8002230130702                                        1 l   \n",
       "380   2000000011741                                       50cl   \n",
       "500   3269210252969                                      75 cl   \n",
       "590   5902738884530                                      70 cl   \n",
       "599   3099873045864                                      70 cl   \n",
       "813   5410218002218                                      50 cl   \n",
       "882   3011932000829                                        1 l   \n",
       "921   3012992172006                                      70 cl   \n",
       "950   3417960030287                                      50 ml   \n",
       "989   2000000049820  2 l, 250 g, 1 kg, 25 cl, 6 fl oz, 1 pound   \n",
       "1021  3014400016360                                        2 l   \n",
       "1054  3016570001030                                     750 ml   \n",
       "1055  3016570001054                                     750 ml   \n",
       "1086  0087000201156                                     1.75 L   \n",
       "1142  5060215331059                                       75cl   \n",
       "1273  8410036009090                                      750ml   \n",
       "1327  3352370002823                                     750 ml   \n",
       "1437  3107460001404                                        1 l   \n",
       "1466  3107872000606                                     100 cl   \n",
       "1478  3107874906166                                     0.75 l   \n",
       "1541  3018333001134                                      75 cl   \n",
       "1763  3270190126720                                     750 ml   \n",
       "...             ...                                        ...   \n",
       "5194  3264066214291                                      75 cl   \n",
       "5203  7054928070860                                       70cl   \n",
       "5360  3394215741160                                        1 l   \n",
       "5372  0080432402931                                      70 cl   \n",
       "5399  4600587015631                                      0.1 l   \n",
       "5417  3283770565246                                      70 cl   \n",
       "5435  8000500153970                                       42 g   \n",
       "5437  5051277849033                                      75 cl   \n",
       "5443  3245414819849                                      75 cl   \n",
       "5446  3394700017015                                     100 cl   \n",
       "5485  4601033005121                                        NaN   \n",
       "5486  4601033006111                                      0,1 л   \n",
       "5487  4601033006128                                     0,25 л   \n",
       "5490  4601033149696                                      0.5 l   \n",
       "5498  4601126222237                                      0,5 л   \n",
       "5519  4601351007807                                        1 l   \n",
       "5549  4601775003478                                      0,5 л   \n",
       "5557  4601823004679                                      0,5 л   \n",
       "5558  4601823005195                                     0,25 л   \n",
       "5612  4603400000043                                     0,70 л   \n",
       "5667  4000281592504                                      200 g   \n",
       "5762  3180290028612                                      50 cl   \n",
       "5772  3287480000035                                        1 l   \n",
       "5872  4607113511452                                      0.5 l   \n",
       "5879  4607145130751                                      0.5 l   \n",
       "5937  4044782321775                                          1   \n",
       "5949  4620008991108                                      0,5 л   \n",
       "6024  4640010203648                                      0.5 l   \n",
       "6290  5054775910359                                      75 cl   \n",
       "6327  8033737280096                                     750 ml   \n",
       "\n",
       "                                        categories_tags  energy_100g  \\\n",
       "3     en:beverages,en:alcoholic-beverages,en:wines,e...        356.0   \n",
       "7     en:beverages,en:alcoholic-beverages,en:wines,e...        356.0   \n",
       "17    en:beverages,en:alcoholic-beverages,en:wines,e...        356.0   \n",
       "26    en:beverages,en:alcoholic-beverages,en:hard-li...          4.0   \n",
       "289                 en:beverages,en:alcoholic-beverages          4.0   \n",
       "292     en:beverages,en:alcoholic-beverages,en:liqueurs          4.0   \n",
       "316                                                 NaN        954.0   \n",
       "378     en:beverages,en:alcoholic-beverages,en:liqueurs          4.0   \n",
       "379     en:beverages,en:alcoholic-beverages,en:liqueurs          0.0   \n",
       "380        en:beverages,en:alcoholic-beverages,en:wines        636.0   \n",
       "500   en:beverages,en:alcoholic-beverages,en:wines,e...        280.0   \n",
       "590   en:beverages,en:alcoholic-beverages,en:hard-li...          4.0   \n",
       "599   en:beverages,en:alcoholic-beverages,en:hard-li...        326.0   \n",
       "813   en:beverages,en:alcoholic-beverages,en:beers,e...        375.0   \n",
       "882   en:beverages,en:alcoholic-beverages,en:wines,e...          0.0   \n",
       "921     en:beverages,en:alcoholic-beverages,en:liqueurs        628.0   \n",
       "950   en:plant-based-foods-and-beverages,en:beverage...          0.0   \n",
       "989                    en:seafood,en:fishes,en:sardines         12.0   \n",
       "1021      en:beverages,en:alcoholic-beverages,fr:pastis       1046.0   \n",
       "1054  en:beverages,en:alcoholic-beverages,en:wines,e...        356.0   \n",
       "1055  en:beverages,en:alcoholic-beverages,en:wines,e...        356.0   \n",
       "1086                en:beverages,en:alcoholic-beverages          0.0   \n",
       "1142  en:beverages,en:alcoholic-beverages,en:wines,e...          0.0   \n",
       "1273  en:beverages,en:alcoholic-beverages,en:wines,e...        310.0   \n",
       "1327  en:beverages,en:alcoholic-beverages,en:wines,e...        356.0   \n",
       "1437  en:beverages,en:alcoholic-beverages,en:hard-li...         42.0   \n",
       "1466  en:beverages,en:alcoholic-beverages,en:hard-li...        925.0   \n",
       "1478  en:beverages,en:alcoholic-beverages,en:wines,e...        326.0   \n",
       "1541  en:beverages,en:alcoholic-beverages,en:wines,e...        356.0   \n",
       "1763  en:beverages,en:alcoholic-beverages,en:wines,e...        310.0   \n",
       "...                                                 ...          ...   \n",
       "5194  en:beverages,en:alcoholic-beverages,en:wines,e...          5.0   \n",
       "5203                                      en:white-rhum        858.0   \n",
       "5360      en:beverages,en:alcoholic-beverages,fr:pastis          4.0   \n",
       "5372  en:beverages,en:alcoholic-beverages,en:hard-li...        586.0   \n",
       "5399  en:beverages,en:alcoholic-beverages,en:hard-li...        960.0   \n",
       "5417  en:beverages,en:alcoholic-beverages,en:hard-li...        209.0   \n",
       "5435  en:sugary-snacks,en:confectioneries,en:chocola...       1902.0   \n",
       "5437  en:beverages,en:alcoholic-beverages,en:wines,e...        321.0   \n",
       "5443  en:beverages,en:alcoholic-beverages,en:wines,e...          8.0   \n",
       "5446  en:beverages,en:alcoholic-beverages,en:hard-li...         21.0   \n",
       "5485  en:beverages,en:alcoholic-beverages,en:hard-li...        930.0   \n",
       "5486  en:beverages,en:alcoholic-beverages,en:hard-li...        930.0   \n",
       "5487  en:beverages,en:alcoholic-beverages,en:hard-li...        930.0   \n",
       "5490  en:beverages,en:alcoholic-beverages,en:hard-li...        930.0   \n",
       "5498  en:beverages,en:alcoholic-beverages,en:hard-li...        930.0   \n",
       "5519  en:beverages,en:alcoholic-beverages,ru:напитки...        300.0   \n",
       "5549  en:beverages,en:alcoholic-beverages,en:hard-li...        930.0   \n",
       "5557  en:beverages,en:alcoholic-beverages,ru:настойк...        900.0   \n",
       "5558  en:beverages,en:alcoholic-beverages,en:hard-li...        930.0   \n",
       "5612  en:beverages,en:alcoholic-beverages,en:hard-li...        928.0   \n",
       "5667                     en:sugary-snacks,en:chocolates       1893.0   \n",
       "5762    en:beverages,en:alcoholic-beverages,en:liqueurs        418.0   \n",
       "5772  en:beverages,en:alcoholic-beverages,en:hard-li...       1318.0   \n",
       "5872                                                NaN        950.0   \n",
       "5879  en:beverages,en:alcoholic-beverages,en:hard-li...        937.0   \n",
       "5937                                                NaN       1368.0   \n",
       "5949  en:beverages,en:alcoholic-beverages,en:hard-li...        930.0   \n",
       "6024                                                NaN        950.0   \n",
       "6290  en:beverages,en:alcoholic-beverages,en:wines,e...        292.0   \n",
       "6327  en:beverages,en:alcoholic-beverages,en:wines,e...        305.0   \n",
       "\n",
       "      fat_100g  fiber_100g  carbohydrates_100g  proteins_100g  salt_100g  \\\n",
       "3         0.00         0.0                2.80           0.30   0.000000   \n",
       "7         0.00         0.0                2.80           0.30   0.000000   \n",
       "17        0.00         0.0                2.80           0.30   0.000000   \n",
       "26        1.00         NaN                1.00         100.00   0.000000   \n",
       "289       1.00         NaN               40.00           1.00   0.000000   \n",
       "292       1.00         NaN                1.00           1.00        NaN   \n",
       "316        NaN         NaN                0.90            NaN        NaN   \n",
       "378       1.00         NaN                1.00           1.00   0.000000   \n",
       "379       0.00         0.0                0.00           0.00   0.000000   \n",
       "380       0.00         0.0               11.70           0.20   2.286000   \n",
       "500       1.40         NaN                1.40           0.20   0.000000   \n",
       "590       1.00         NaN                1.00           1.00   1.010000   \n",
       "599       0.00         0.0                0.00           0.00   0.000000   \n",
       "813        NaN         NaN                 NaN            NaN        NaN   \n",
       "882       0.00         0.0                0.00           0.00   0.000000   \n",
       "921       6.49         NaN                6.49           6.00   0.000000   \n",
       "950       0.00         0.0                0.00           0.00   0.000000   \n",
       "989      12.00        12.0               12.00          12.00  11.999979   \n",
       "1021      0.00         0.0                5.08           0.00   5.080000   \n",
       "1054      0.00         0.0                2.80           0.30   0.000000   \n",
       "1055      0.00         0.0                2.80           0.30   0.000000   \n",
       "1086      0.00         0.0                0.00           0.00   0.000000   \n",
       "1142      0.00         0.0                 NaN           0.00        NaN   \n",
       "1273      0.00         NaN                3.00           0.00   0.000000   \n",
       "1327      0.00         0.0                2.80           0.30   0.000000   \n",
       "1437       NaN        10.0                 NaN          50.00   0.100000   \n",
       "1466      1.00         NaN                1.00          25.00   0.000000   \n",
       "1478      0.00         NaN                3.00           0.20        NaN   \n",
       "1541      0.00         0.0                2.80           0.30   0.000000   \n",
       "1763      2.36         NaN                2.36           0.10   0.000000   \n",
       "...        ...         ...                 ...            ...        ...   \n",
       "5194       NaN         NaN                 NaN            NaN        NaN   \n",
       "5203       NaN         NaN                 NaN            NaN        NaN   \n",
       "5360      1.75         NaN                1.82           1.24   0.000000   \n",
       "5372      1.00         NaN                1.00           1.00   0.000000   \n",
       "5399       NaN         NaN                 NaN            NaN        NaN   \n",
       "5417      0.10         NaN                0.10          20.00        NaN   \n",
       "5435     20.30         NaN               52.80           3.00   0.005000   \n",
       "5437       NaN         NaN                 NaN            NaN        NaN   \n",
       "5443      9.58        21.0                3.99           3.10   1.000000   \n",
       "5446      2.00         NaN               12.00          20.00   0.000000   \n",
       "5485       NaN         NaN                 NaN            NaN        NaN   \n",
       "5486       NaN         NaN                0.20            NaN        NaN   \n",
       "5487      0.00         NaN                0.20           0.00        NaN   \n",
       "5490       NaN         NaN                 NaN            NaN        NaN   \n",
       "5498       NaN         NaN                 NaN            NaN        NaN   \n",
       "5519       NaN         NaN                4.00            NaN        NaN   \n",
       "5549       NaN         NaN                 NaN            NaN        NaN   \n",
       "5557      0.00         NaN                1.00           0.00        NaN   \n",
       "5558      0.00         NaN                0.20           0.00        NaN   \n",
       "5612       NaN         NaN                 NaN            NaN        NaN   \n",
       "5667     18.00         NaN               59.00           2.70   0.030000   \n",
       "5762      0.00         NaN               50.00           0.00        NaN   \n",
       "5772      0.00         0.0                0.00           0.00   0.000000   \n",
       "5872       NaN         NaN                 NaN            NaN        NaN   \n",
       "5879       NaN         NaN                 NaN            NaN        NaN   \n",
       "5937      8.50         NaN               23.00          40.00        NaN   \n",
       "5949       NaN         NaN                 NaN            NaN        NaN   \n",
       "6024       NaN         NaN                 NaN            NaN        NaN   \n",
       "6290       NaN         NaN                 NaN            NaN        NaN   \n",
       "6327       NaN         NaN                 NaN            NaN        NaN   \n",
       "\n",
       "      sodium_100g  sugars_100g  alcohol_100g  \n",
       "3        0.000000         1.40          12.0  \n",
       "7        0.000000         1.40          12.0  \n",
       "17       0.000000         1.40          12.0  \n",
       "26       0.000000         1.00          40.0  \n",
       "289      0.000000         1.00          35.0  \n",
       "292           NaN         1.00          35.0  \n",
       "316           NaN          NaN          40.0  \n",
       "378      0.000000         1.00          15.0  \n",
       "379      0.000000         0.00          15.0  \n",
       "380      0.900000         1.10          15.6  \n",
       "500      0.000000         0.38          12.5  \n",
       "590      0.397638         1.00          37.5  \n",
       "599      0.000000         0.00          40.0  \n",
       "813           NaN          NaN          14.0  \n",
       "882      0.000000         0.00          14.4  \n",
       "921      0.000000         1.78          16.0  \n",
       "950      0.000000         0.00          20.0  \n",
       "989      4.724401        12.00          12.0  \n",
       "1021     2.000000         4.61          45.0  \n",
       "1054     0.000000         1.40          12.5  \n",
       "1055     0.000000         1.40          12.5  \n",
       "1086     0.000000         0.00          35.0  \n",
       "1142          NaN         0.00          12.5  \n",
       "1273     0.000000         1.00          12.0  \n",
       "1327     0.000000         1.40          12.5  \n",
       "1437     0.039370         0.10          40.0  \n",
       "1466     0.000000         1.00          40.0  \n",
       "1478          NaN         1.80          10.5  \n",
       "1541     0.000000         1.40          12.0  \n",
       "1763     0.000000         0.65          11.5  \n",
       "...           ...          ...           ...  \n",
       "5194          NaN          NaN          12.5  \n",
       "5203          NaN          NaN          37.5  \n",
       "5360     0.000000         1.67          45.0  \n",
       "5372     0.000000         1.00          40.0  \n",
       "5399          NaN          NaN          40.0  \n",
       "5417          NaN         0.10          40.0  \n",
       "5435     0.001969        48.30          13.0  \n",
       "5437          NaN          NaN          13.5  \n",
       "5443     0.393701         1.09          12.5  \n",
       "5446     0.000000         1.00          45.0  \n",
       "5485          NaN          NaN          40.0  \n",
       "5486          NaN          NaN          40.0  \n",
       "5487          NaN          NaN          40.0  \n",
       "5490          NaN          NaN          40.0  \n",
       "5498          NaN          NaN          40.0  \n",
       "5519          NaN         4.00          10.5  \n",
       "5549          NaN          NaN          40.0  \n",
       "5557          NaN          NaN          36.6  \n",
       "5558          NaN          NaN          40.0  \n",
       "5612          NaN          NaN          40.0  \n",
       "5667     0.011811        50.00          16.0  \n",
       "5762          NaN        50.00          16.0  \n",
       "5772     0.000000         0.00          55.0  \n",
       "5872          NaN          NaN          40.0  \n",
       "5879          NaN          NaN          40.0  \n",
       "5937          NaN         2.60          19.0  \n",
       "5949          NaN          NaN          40.0  \n",
       "6024          NaN          NaN          40.0  \n",
       "6290          NaN          NaN          11.0  \n",
       "6327          NaN          NaN          13.0  \n",
       "\n",
       "[141 rows x 12 columns]"
      ]
     },
     "execution_count": 309,
     "metadata": {},
     "output_type": "execute_result"
    }
   ],
   "source": [
    "df_al[df_al.alcohol_100g.notna() & df_al.energy_100g.notna() & (df_al.alcohol_100g > 10)  ]"
   ]
  },
  {
   "cell_type": "code",
   "execution_count": null,
   "metadata": {},
   "outputs": [],
   "source": []
  },
  {
   "cell_type": "code",
   "execution_count": null,
   "metadata": {},
   "outputs": [],
   "source": []
  },
  {
   "cell_type": "code",
   "execution_count": null,
   "metadata": {},
   "outputs": [],
   "source": []
  }
 ],
 "metadata": {
  "kernelspec": {
   "display_name": "Py3 (sklearn)",
   "language": "python",
   "name": "sklearn"
  },
  "language_info": {
   "codemirror_mode": {
    "name": "ipython",
    "version": 3
   },
   "file_extension": ".py",
   "mimetype": "text/x-python",
   "name": "python",
   "nbconvert_exporter": "python",
   "pygments_lexer": "ipython3",
   "version": "3.6.7"
  }
 },
 "nbformat": 4,
 "nbformat_minor": 2
}
