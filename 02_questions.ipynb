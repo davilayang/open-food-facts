{
 "cells": [
  {
   "cell_type": "code",
   "execution_count": 2,
   "metadata": {},
   "outputs": [],
   "source": [
    "import os\n",
    "import pandas as pd\n",
    "import numpy as np\n",
    "import matplotlib.pyplot as plt\n",
    "import seaborn as sns\n",
    "\n",
    "from collections import Counter"
   ]
  },
  {
   "cell_type": "code",
   "execution_count": 3,
   "metadata": {},
   "outputs": [],
   "source": [
    "sns.set()\n",
    "# sns.set(style=\"darkgrid\")"
   ]
  },
  {
   "cell_type": "code",
   "execution_count": 4,
   "metadata": {},
   "outputs": [
    {
     "data": {
      "text/plain": [
       "(559935, 25)"
      ]
     },
     "execution_count": 4,
     "metadata": {},
     "output_type": "execute_result"
    }
   ],
   "source": [
    "data_path = 'D:\\DATA\\PracticeData'\n",
    "data_type = {'code': 'object', 'nutrition_grade_fr': 'category'}\n",
    "\n",
    "df = pd.read_csv(os.path.join(data_path, 'openfoodfacts_processed.gz'), \\\n",
    "                 dtype=data_type, compression='gzip')\n",
    "df.shape"
   ]
  },
  {
   "cell_type": "raw",
   "metadata": {},
   "source": [
    "# function to extract individual country from each tag\n",
    "countries = []\n",
    "for cs in df.countries_tags:\n",
    "    if not pd.isnull(cs):\n",
    "        countries.extend([country[3:] for country in cs.split(',')])\n",
    "len(countries)"
   ]
  },
  {
   "cell_type": "raw",
   "metadata": {},
   "source": [
    "counter = Counter(countries)\n",
    "counter.most_common(10)"
   ]
  },
  {
   "cell_type": "code",
   "execution_count": 5,
   "metadata": {},
   "outputs": [
    {
     "data": {
      "text/plain": [
       "array(['code', 'product_name', 'labels_tags', 'countries_tags',\n",
       "       'categories_tags', 'additives_n', 'additives_tags', 'energy_100g',\n",
       "       'fat_100g', 'fiber_100g', 'proteins_100g', 'sugars_100g',\n",
       "       'sodium_100g', 'salt_100g', 'alcohol_100g', 'caffeine_100g',\n",
       "       'cocoa_100g', 'energy-from-fat_100g', 'saturated-fat_100g',\n",
       "       'trans-fat_100g', 'cholesterol_100g', 'carbohydrates_100g',\n",
       "       'nutrition-score-fr_100g', 'nutrition-score-uk_100g',\n",
       "       'nutrition_grade_fr'], dtype=object)"
      ]
     },
     "execution_count": 5,
     "metadata": {},
     "output_type": "execute_result"
    }
   ],
   "source": [
    "df.columns.values"
   ]
  },
  {
   "cell_type": "code",
   "execution_count": 6,
   "metadata": {},
   "outputs": [
    {
     "data": {
      "text/plain": [
       "(146356, 25)"
      ]
     },
     "execution_count": 6,
     "metadata": {},
     "output_type": "execute_result"
    }
   ],
   "source": [
    "# for having grades\n",
    "df2 = df[df.nutrition_grade_fr.notna()]\n",
    "df2.reset_index(inplace=True, drop=True)\n",
    "df2.shape"
   ]
  },
  {
   "cell_type": "code",
   "execution_count": 7,
   "metadata": {},
   "outputs": [],
   "source": [
    "# get the index with a string in the cell of a column\n",
    "def get_category(string, column, dataframe): \n",
    "    idx_list = []\n",
    "    for idx, row in dataframe.iterrows():\n",
    "        if row[column] is not np.nan and string in row[column]:\n",
    "            idx_list.append(idx)\n",
    "    return idx_list"
   ]
  },
  {
   "cell_type": "code",
   "execution_count": null,
   "metadata": {},
   "outputs": [],
   "source": []
  },
  {
   "cell_type": "code",
   "execution_count": null,
   "metadata": {},
   "outputs": [],
   "source": []
  },
  {
   "cell_type": "code",
   "execution_count": null,
   "metadata": {},
   "outputs": [],
   "source": []
  },
  {
   "cell_type": "markdown",
   "metadata": {},
   "source": [
    "## Are Sugary Snacks always unhealthy? What is the healthiest in this category?\n",
    "Sub-categories:   \n",
    "Bars, Biscuits and cakes, Chocolates, Confectioneries, Popcorn, Viennoiseries"
   ]
  },
  {
   "cell_type": "code",
   "execution_count": 7,
   "metadata": {},
   "outputs": [],
   "source": [
    "sugary_snacks = get_category('en:sugary-snacks', 'categories_tags', df2)"
   ]
  },
  {
   "cell_type": "code",
   "execution_count": 8,
   "metadata": {},
   "outputs": [],
   "source": [
    "df_ss = df2.iloc[sugary_snacks, :]"
   ]
  },
  {
   "cell_type": "code",
   "execution_count": 9,
   "metadata": {},
   "outputs": [
    {
     "data": {
      "text/plain": [
       "(24809, 13)"
      ]
     },
     "execution_count": 9,
     "metadata": {},
     "output_type": "execute_result"
    }
   ],
   "source": [
    "df_ss = df_ss[['code', 'categories_tags', 'energy_100g', 'fat_100g', 'fiber_100g', \\\n",
    "       'proteins_100g', 'salt_100g', 'sodium_100g', 'sugars_100g', 'cocoa_100g', \\\n",
    "       'nutrition_grade_fr', 'nutrition-score-fr_100g', 'nutrition-score-uk_100g']]\n",
    "df_ss.reset_index(inplace=True, drop=True)\n",
    "df_ss.shape"
   ]
  },
  {
   "cell_type": "code",
   "execution_count": 10,
   "metadata": {},
   "outputs": [],
   "source": [
    "ss_sub = set(['en:bars', 'en:biscuits-and-cakes', 'en:chocolates', \\\n",
    "          'en:confectioneries', 'en:popcorn', 'en:viennoiseries'])"
   ]
  },
  {
   "cell_type": "code",
   "execution_count": 11,
   "metadata": {},
   "outputs": [],
   "source": [
    "def create_sub(row):\n",
    "    cats = list(ss_sub.intersection(set(row.split(','))))\n",
    "    if len(cats) != 0: return cats[0]\n",
    "    else: return np.nan"
   ]
  },
  {
   "cell_type": "code",
   "execution_count": 12,
   "metadata": {},
   "outputs": [],
   "source": [
    "df_ss['sub_category'] = df_ss.categories_tags.apply(create_sub)\n",
    "df_ss.sub_category = df_ss.sub_category.astype('category')\n",
    "df_ss = df_ss.drop('categories_tags', axis=1)"
   ]
  },
  {
   "cell_type": "code",
   "execution_count": 13,
   "metadata": {},
   "outputs": [],
   "source": [
    "# drop rows that have NaN for: sub_category, energy_100g, fat_100g\n",
    "df_ss = df_ss[df_ss.sub_category.notnull() & df_ss.energy_100g.notnull() & df_ss.fat_100g.notnull()]\n",
    "# fill NaN in fiber_100g with 0, i.e. this sweet has no fiber content\n",
    "df_ss.fiber_100g = df_ss.fiber_100g.fillna(0)"
   ]
  },
  {
   "cell_type": "code",
   "execution_count": 14,
   "metadata": {},
   "outputs": [],
   "source": [
    "tmp = df_ss[['code', 'sub_category', 'nutrition_grade_fr']].groupby(by=['sub_category', 'nutrition_grade_fr']).count()\n",
    "tmp['percentage'] = None"
   ]
  },
  {
   "cell_type": "code",
   "execution_count": 15,
   "metadata": {},
   "outputs": [],
   "source": [
    "for idx in tmp.index.levels[0].values: \n",
    "    tmp.loc[idx, 'percentage'] = (tmp.loc[idx, 'code'] / sum(tmp.loc[idx, 'code'])).values * 100"
   ]
  },
  {
   "cell_type": "code",
   "execution_count": 16,
   "metadata": {},
   "outputs": [],
   "source": [
    "total = tmp.loc[pd.IndexSlice[:, :], 'code'].values.sum()\n",
    "sugary_all = []\n",
    "for idx2 in tmp.index.levels[1].values:\n",
    "    sugary_all.append(tmp.loc[pd.IndexSlice[:, idx2], 'code'].values.sum() / total  * 100)"
   ]
  },
  {
   "cell_type": "code",
   "execution_count": 17,
   "metadata": {},
   "outputs": [],
   "source": [
    "sugary_all = pd.Series(data=sugary_all, index =['a', 'b', 'c', 'd', 'e'])\n",
    "# sugary_all"
   ]
  },
  {
   "cell_type": "code",
   "execution_count": 18,
   "metadata": {},
   "outputs": [
    {
     "data": {
      "text/html": [
       "<div>\n",
       "<style scoped>\n",
       "    .dataframe tbody tr th:only-of-type {\n",
       "        vertical-align: middle;\n",
       "    }\n",
       "\n",
       "    .dataframe tbody tr th {\n",
       "        vertical-align: top;\n",
       "    }\n",
       "\n",
       "    .dataframe thead tr th {\n",
       "        text-align: left;\n",
       "    }\n",
       "\n",
       "    .dataframe thead tr:last-of-type th {\n",
       "        text-align: right;\n",
       "    }\n",
       "</style>\n",
       "<table border=\"1\" class=\"dataframe\">\n",
       "  <thead>\n",
       "    <tr>\n",
       "      <th></th>\n",
       "      <th colspan=\"5\" halign=\"left\">percentage</th>\n",
       "    </tr>\n",
       "    <tr>\n",
       "      <th>nutrition_grade_fr</th>\n",
       "      <th>a</th>\n",
       "      <th>b</th>\n",
       "      <th>c</th>\n",
       "      <th>d</th>\n",
       "      <th>e</th>\n",
       "    </tr>\n",
       "    <tr>\n",
       "      <th>sub_category</th>\n",
       "      <th></th>\n",
       "      <th></th>\n",
       "      <th></th>\n",
       "      <th></th>\n",
       "      <th></th>\n",
       "    </tr>\n",
       "  </thead>\n",
       "  <tbody>\n",
       "    <tr>\n",
       "      <th>en:bars</th>\n",
       "      <td>1.39958</td>\n",
       "      <td>1.60952</td>\n",
       "      <td>17.7047</td>\n",
       "      <td>32.6802</td>\n",
       "      <td>46.606</td>\n",
       "    </tr>\n",
       "    <tr>\n",
       "      <th>en:biscuits-and-cakes</th>\n",
       "      <td>0.55591</td>\n",
       "      <td>0.792855</td>\n",
       "      <td>6.1788</td>\n",
       "      <td>36.3164</td>\n",
       "      <td>56.156</td>\n",
       "    </tr>\n",
       "    <tr>\n",
       "      <th>en:chocolates</th>\n",
       "      <td>0.0711997</td>\n",
       "      <td>0.729797</td>\n",
       "      <td>0.907796</td>\n",
       "      <td>13.6169</td>\n",
       "      <td>84.6743</td>\n",
       "    </tr>\n",
       "    <tr>\n",
       "      <th>en:confectioneries</th>\n",
       "      <td>0.726232</td>\n",
       "      <td>7.96655</td>\n",
       "      <td>8.4287</td>\n",
       "      <td>47.6012</td>\n",
       "      <td>35.2773</td>\n",
       "    </tr>\n",
       "    <tr>\n",
       "      <th>en:popcorn</th>\n",
       "      <td>4.07407</td>\n",
       "      <td>1.11111</td>\n",
       "      <td>15.9259</td>\n",
       "      <td>55.1852</td>\n",
       "      <td>23.7037</td>\n",
       "    </tr>\n",
       "    <tr>\n",
       "      <th>en:viennoiseries</th>\n",
       "      <td>0.18622</td>\n",
       "      <td>0.310366</td>\n",
       "      <td>5.40037</td>\n",
       "      <td>55.121</td>\n",
       "      <td>38.982</td>\n",
       "    </tr>\n",
       "  </tbody>\n",
       "</table>\n",
       "</div>"
      ],
      "text/plain": [
       "                      percentage                                      \n",
       "nutrition_grade_fr             a         b         c        d        e\n",
       "sub_category                                                          \n",
       "en:bars                  1.39958   1.60952   17.7047  32.6802   46.606\n",
       "en:biscuits-and-cakes    0.55591  0.792855    6.1788  36.3164   56.156\n",
       "en:chocolates          0.0711997  0.729797  0.907796  13.6169  84.6743\n",
       "en:confectioneries      0.726232   7.96655    8.4287  47.6012  35.2773\n",
       "en:popcorn               4.07407   1.11111   15.9259  55.1852  23.7037\n",
       "en:viennoiseries         0.18622  0.310366   5.40037   55.121   38.982"
      ]
     },
     "execution_count": 18,
     "metadata": {},
     "output_type": "execute_result"
    }
   ],
   "source": [
    "tmp.drop('code', axis=1).unstack()"
   ]
  },
  {
   "cell_type": "markdown",
   "metadata": {},
   "source": [
    "#### Cocoa content of chocolatese in each rank"
   ]
  },
  {
   "cell_type": "code",
   "execution_count": 19,
   "metadata": {},
   "outputs": [
    {
     "data": {
      "text/html": [
       "<div>\n",
       "<style scoped>\n",
       "    .dataframe tbody tr th:only-of-type {\n",
       "        vertical-align: middle;\n",
       "    }\n",
       "\n",
       "    .dataframe tbody tr th {\n",
       "        vertical-align: top;\n",
       "    }\n",
       "\n",
       "    .dataframe thead th {\n",
       "        text-align: right;\n",
       "    }\n",
       "</style>\n",
       "<table border=\"1\" class=\"dataframe\">\n",
       "  <thead>\n",
       "    <tr style=\"text-align: right;\">\n",
       "      <th></th>\n",
       "      <th>code</th>\n",
       "      <th>energy_100g</th>\n",
       "      <th>fat_100g</th>\n",
       "      <th>fiber_100g</th>\n",
       "      <th>proteins_100g</th>\n",
       "      <th>salt_100g</th>\n",
       "      <th>sodium_100g</th>\n",
       "      <th>sugars_100g</th>\n",
       "      <th>cocoa_100g</th>\n",
       "      <th>nutrition_grade_fr</th>\n",
       "      <th>nutrition-score-fr_100g</th>\n",
       "      <th>nutrition-score-uk_100g</th>\n",
       "      <th>sub_category</th>\n",
       "    </tr>\n",
       "  </thead>\n",
       "  <tbody>\n",
       "    <tr>\n",
       "      <th>50</th>\n",
       "      <td>00071185</td>\n",
       "      <td>517</td>\n",
       "      <td>29.3</td>\n",
       "      <td>0.0</td>\n",
       "      <td>6.1</td>\n",
       "      <td>0.18</td>\n",
       "      <td>0.070866</td>\n",
       "      <td>56.1</td>\n",
       "      <td>30.0</td>\n",
       "      <td>e</td>\n",
       "      <td>26.0</td>\n",
       "      <td>26.0</td>\n",
       "      <td>en:chocolates</td>\n",
       "    </tr>\n",
       "    <tr>\n",
       "      <th>67</th>\n",
       "      <td>00101530</td>\n",
       "      <td>583</td>\n",
       "      <td>45.1</td>\n",
       "      <td>0.0</td>\n",
       "      <td>10.3</td>\n",
       "      <td>0.01</td>\n",
       "      <td>0.003937</td>\n",
       "      <td>24.0</td>\n",
       "      <td>78.0</td>\n",
       "      <td>e</td>\n",
       "      <td>22.0</td>\n",
       "      <td>22.0</td>\n",
       "      <td>en:chocolates</td>\n",
       "    </tr>\n",
       "    <tr>\n",
       "      <th>68</th>\n",
       "      <td>00101639</td>\n",
       "      <td>569</td>\n",
       "      <td>40.4</td>\n",
       "      <td>9.9</td>\n",
       "      <td>8.4</td>\n",
       "      <td>0.10</td>\n",
       "      <td>0.039370</td>\n",
       "      <td>31.8</td>\n",
       "      <td>71.0</td>\n",
       "      <td>e</td>\n",
       "      <td>19.0</td>\n",
       "      <td>19.0</td>\n",
       "      <td>en:chocolates</td>\n",
       "    </tr>\n",
       "    <tr>\n",
       "      <th>104</th>\n",
       "      <td>00119740</td>\n",
       "      <td>268</td>\n",
       "      <td>6.6</td>\n",
       "      <td>1.5</td>\n",
       "      <td>6.7</td>\n",
       "      <td>0.78</td>\n",
       "      <td>0.307087</td>\n",
       "      <td>23.4</td>\n",
       "      <td>24.0</td>\n",
       "      <td>e</td>\n",
       "      <td>22.0</td>\n",
       "      <td>10.0</td>\n",
       "      <td>en:chocolates</td>\n",
       "    </tr>\n",
       "    <tr>\n",
       "      <th>106</th>\n",
       "      <td>00123051</td>\n",
       "      <td>597</td>\n",
       "      <td>46.7</td>\n",
       "      <td>0.0</td>\n",
       "      <td>9.3</td>\n",
       "      <td>0.01</td>\n",
       "      <td>0.003937</td>\n",
       "      <td>25.2</td>\n",
       "      <td>75.0</td>\n",
       "      <td>e</td>\n",
       "      <td>22.0</td>\n",
       "      <td>22.0</td>\n",
       "      <td>en:chocolates</td>\n",
       "    </tr>\n",
       "  </tbody>\n",
       "</table>\n",
       "</div>"
      ],
      "text/plain": [
       "         code  energy_100g  fat_100g  fiber_100g  proteins_100g  salt_100g  \\\n",
       "50   00071185          517      29.3         0.0            6.1       0.18   \n",
       "67   00101530          583      45.1         0.0           10.3       0.01   \n",
       "68   00101639          569      40.4         9.9            8.4       0.10   \n",
       "104  00119740          268       6.6         1.5            6.7       0.78   \n",
       "106  00123051          597      46.7         0.0            9.3       0.01   \n",
       "\n",
       "     sodium_100g  sugars_100g  cocoa_100g nutrition_grade_fr  \\\n",
       "50      0.070866         56.1        30.0                  e   \n",
       "67      0.003937         24.0        78.0                  e   \n",
       "68      0.039370         31.8        71.0                  e   \n",
       "104     0.307087         23.4        24.0                  e   \n",
       "106     0.003937         25.2        75.0                  e   \n",
       "\n",
       "     nutrition-score-fr_100g  nutrition-score-uk_100g   sub_category  \n",
       "50                      26.0                     26.0  en:chocolates  \n",
       "67                      22.0                     22.0  en:chocolates  \n",
       "68                      19.0                     19.0  en:chocolates  \n",
       "104                     22.0                     10.0  en:chocolates  \n",
       "106                     22.0                     22.0  en:chocolates  "
      ]
     },
     "execution_count": 19,
     "metadata": {},
     "output_type": "execute_result"
    }
   ],
   "source": [
    "df_cc = df_ss[(df_ss.cocoa_100g.notnull()) & (df_ss.sub_category == 'en:chocolates')]\n",
    "df_cc.head()"
   ]
  },
  {
   "cell_type": "raw",
   "metadata": {},
   "source": [
    "plt.figure(figsize=(14, 7))\n",
    "sns.boxenplot(x='nutrition_grade_fr', y='cocoa_100g', data=df_cc)\n",
    "plt.rcParams['axes.axisbelow'] = True\n",
    "plt.title('Cocoa content on each Nutri-Score rank', fontdict={'fontsize': 18})\n",
    "plt.grid(True)\n",
    "# plt.savefig('cocoa2.png', bbox_inches='tight', dpi=300)\n",
    "plt.show()"
   ]
  },
  {
   "cell_type": "code",
   "execution_count": null,
   "metadata": {},
   "outputs": [],
   "source": []
  },
  {
   "cell_type": "code",
   "execution_count": null,
   "metadata": {},
   "outputs": [],
   "source": []
  },
  {
   "cell_type": "code",
   "execution_count": null,
   "metadata": {},
   "outputs": [],
   "source": []
  },
  {
   "cell_type": "markdown",
   "metadata": {},
   "source": [
    "## What are the percentage of cocoa content in all chocolates? What's their calorie count? \n",
    "Does higher cocoa chocolate has less calorie? Or less sugar? \n",
    "1. from the dataframe df_ss, get data having cocoa and is of chocoloates sub-category\n",
    "2. plot the cocoa content by histogram and density distribution\n",
    "3. fit a regression model, to predict the cocoa content of a chocolate\n",
    "    + try to fit with the major contents: energy, fat, sugar, fiber, protein, salt\n",
    "    + try different algorithm, or use more features\n",
    "    + https://stackoverflow.com/questions/47577168/how-can-i-increase-the-accuracy-of-my-linear-regression-modelmachine-learning"
   ]
  },
  {
   "cell_type": "code",
   "execution_count": 20,
   "metadata": {},
   "outputs": [],
   "source": [
    "df_cc = df_ss[(df_ss.cocoa_100g.notnull()) & (df_ss.sub_category == 'en:chocolates')]"
   ]
  },
  {
   "cell_type": "code",
   "execution_count": 21,
   "metadata": {},
   "outputs": [
    {
     "data": {
      "text/html": [
       "<div>\n",
       "<style scoped>\n",
       "    .dataframe tbody tr th:only-of-type {\n",
       "        vertical-align: middle;\n",
       "    }\n",
       "\n",
       "    .dataframe tbody tr th {\n",
       "        vertical-align: top;\n",
       "    }\n",
       "\n",
       "    .dataframe thead th {\n",
       "        text-align: right;\n",
       "    }\n",
       "</style>\n",
       "<table border=\"1\" class=\"dataframe\">\n",
       "  <thead>\n",
       "    <tr style=\"text-align: right;\">\n",
       "      <th></th>\n",
       "      <th>code</th>\n",
       "      <th>energy_100g</th>\n",
       "      <th>fat_100g</th>\n",
       "      <th>fiber_100g</th>\n",
       "      <th>proteins_100g</th>\n",
       "      <th>salt_100g</th>\n",
       "      <th>sodium_100g</th>\n",
       "      <th>sugars_100g</th>\n",
       "      <th>cocoa_100g</th>\n",
       "      <th>nutrition_grade_fr</th>\n",
       "      <th>nutrition-score-fr_100g</th>\n",
       "      <th>nutrition-score-uk_100g</th>\n",
       "      <th>sub_category</th>\n",
       "    </tr>\n",
       "  </thead>\n",
       "  <tbody>\n",
       "    <tr>\n",
       "      <th>50</th>\n",
       "      <td>00071185</td>\n",
       "      <td>517</td>\n",
       "      <td>29.3</td>\n",
       "      <td>0.0</td>\n",
       "      <td>6.1</td>\n",
       "      <td>0.18</td>\n",
       "      <td>0.070866</td>\n",
       "      <td>56.1</td>\n",
       "      <td>30.0</td>\n",
       "      <td>e</td>\n",
       "      <td>26.0</td>\n",
       "      <td>26.0</td>\n",
       "      <td>en:chocolates</td>\n",
       "    </tr>\n",
       "    <tr>\n",
       "      <th>67</th>\n",
       "      <td>00101530</td>\n",
       "      <td>583</td>\n",
       "      <td>45.1</td>\n",
       "      <td>0.0</td>\n",
       "      <td>10.3</td>\n",
       "      <td>0.01</td>\n",
       "      <td>0.003937</td>\n",
       "      <td>24.0</td>\n",
       "      <td>78.0</td>\n",
       "      <td>e</td>\n",
       "      <td>22.0</td>\n",
       "      <td>22.0</td>\n",
       "      <td>en:chocolates</td>\n",
       "    </tr>\n",
       "    <tr>\n",
       "      <th>68</th>\n",
       "      <td>00101639</td>\n",
       "      <td>569</td>\n",
       "      <td>40.4</td>\n",
       "      <td>9.9</td>\n",
       "      <td>8.4</td>\n",
       "      <td>0.10</td>\n",
       "      <td>0.039370</td>\n",
       "      <td>31.8</td>\n",
       "      <td>71.0</td>\n",
       "      <td>e</td>\n",
       "      <td>19.0</td>\n",
       "      <td>19.0</td>\n",
       "      <td>en:chocolates</td>\n",
       "    </tr>\n",
       "    <tr>\n",
       "      <th>104</th>\n",
       "      <td>00119740</td>\n",
       "      <td>268</td>\n",
       "      <td>6.6</td>\n",
       "      <td>1.5</td>\n",
       "      <td>6.7</td>\n",
       "      <td>0.78</td>\n",
       "      <td>0.307087</td>\n",
       "      <td>23.4</td>\n",
       "      <td>24.0</td>\n",
       "      <td>e</td>\n",
       "      <td>22.0</td>\n",
       "      <td>10.0</td>\n",
       "      <td>en:chocolates</td>\n",
       "    </tr>\n",
       "    <tr>\n",
       "      <th>106</th>\n",
       "      <td>00123051</td>\n",
       "      <td>597</td>\n",
       "      <td>46.7</td>\n",
       "      <td>0.0</td>\n",
       "      <td>9.3</td>\n",
       "      <td>0.01</td>\n",
       "      <td>0.003937</td>\n",
       "      <td>25.2</td>\n",
       "      <td>75.0</td>\n",
       "      <td>e</td>\n",
       "      <td>22.0</td>\n",
       "      <td>22.0</td>\n",
       "      <td>en:chocolates</td>\n",
       "    </tr>\n",
       "  </tbody>\n",
       "</table>\n",
       "</div>"
      ],
      "text/plain": [
       "         code  energy_100g  fat_100g  fiber_100g  proteins_100g  salt_100g  \\\n",
       "50   00071185          517      29.3         0.0            6.1       0.18   \n",
       "67   00101530          583      45.1         0.0           10.3       0.01   \n",
       "68   00101639          569      40.4         9.9            8.4       0.10   \n",
       "104  00119740          268       6.6         1.5            6.7       0.78   \n",
       "106  00123051          597      46.7         0.0            9.3       0.01   \n",
       "\n",
       "     sodium_100g  sugars_100g  cocoa_100g nutrition_grade_fr  \\\n",
       "50      0.070866         56.1        30.0                  e   \n",
       "67      0.003937         24.0        78.0                  e   \n",
       "68      0.039370         31.8        71.0                  e   \n",
       "104     0.307087         23.4        24.0                  e   \n",
       "106     0.003937         25.2        75.0                  e   \n",
       "\n",
       "     nutrition-score-fr_100g  nutrition-score-uk_100g   sub_category  \n",
       "50                      26.0                     26.0  en:chocolates  \n",
       "67                      22.0                     22.0  en:chocolates  \n",
       "68                      19.0                     19.0  en:chocolates  \n",
       "104                     22.0                     10.0  en:chocolates  \n",
       "106                     22.0                     22.0  en:chocolates  "
      ]
     },
     "execution_count": 21,
     "metadata": {},
     "output_type": "execute_result"
    }
   ],
   "source": [
    "df_cc.head()"
   ]
  },
  {
   "cell_type": "code",
   "execution_count": 22,
   "metadata": {},
   "outputs": [
    {
     "name": "stderr",
     "output_type": "stream",
     "text": [
      "C:\\Users\\davilaYuan\\Miniconda3\\envs\\sklearn\\lib\\site-packages\\scipy\\stats\\stats.py:1713: FutureWarning: Using a non-tuple sequence for multidimensional indexing is deprecated; use `arr[tuple(seq)]` instead of `arr[seq]`. In the future this will be interpreted as an array index, `arr[np.array(seq)]`, which will result either in an error or a different result.\n",
      "  return np.add.reduce(sorted[indexer] * weights, axis=axis) / sumval\n"
     ]
    },
    {
     "data": {
      "image/png": "[encoded data removed]",
      "text/plain": [
       "<Figure size 1008x504 with 1 Axes>"
      ]
     },
     "metadata": {},
     "output_type": "display_data"
    }
   ],
   "source": [
    "plt.figure(figsize=(14, 7))\n",
    "sns.distplot(df_cc.cocoa_100g, bins=50, kde=True)\n",
    "plt.xlim(0, 100); plt.xticks(range(0, 100, 10))\n",
    "plt.grid(True)\n",
    "plt.title('Cocoa content in Chocolates', fontdict={'fontsize': 18})\n",
    "plt.xlabel('Cocoa (per 100g Chocolate)')\n",
    "# plt.savefig('cocoa.png', bbox_inches='tight', dpi=300)\n",
    "\n",
    "plt.show()\n",
    "# looks like bimodal, primary at 30% or 70%"
   ]
  },
  {
   "cell_type": "code",
   "execution_count": null,
   "metadata": {},
   "outputs": [],
   "source": []
  },
  {
   "cell_type": "code",
   "execution_count": null,
   "metadata": {},
   "outputs": [],
   "source": []
  },
  {
   "cell_type": "code",
   "execution_count": null,
   "metadata": {},
   "outputs": [],
   "source": []
  },
  {
   "cell_type": "markdown",
   "metadata": {},
   "source": [
    "## Additives of Ice Creams\n",
    "does ice cream flavor correlates with its calorie? energie? cannot do that, since flavor is not recorded clearly"
   ]
  },
  {
   "cell_type": "code",
   "execution_count": 23,
   "metadata": {},
   "outputs": [],
   "source": [
    "frozen = get_category('en:frozen-foods', 'categories_tags', df2)"
   ]
  },
  {
   "cell_type": "code",
   "execution_count": 24,
   "metadata": {},
   "outputs": [],
   "source": [
    "df_ff = df2.iloc[frozen, :]\n",
    "df_ff.reset_index(inplace=True, drop=True)"
   ]
  },
  {
   "cell_type": "code",
   "execution_count": 25,
   "metadata": {},
   "outputs": [],
   "source": [
    "ice_sor = get_category('en:ice-creams-and-sorbets', 'categories_tags', df_ff)"
   ]
  },
  {
   "cell_type": "code",
   "execution_count": 26,
   "metadata": {},
   "outputs": [],
   "source": [
    "df_ice = df_ff.iloc[ice_sor, :]\n",
    "df_ice.reset_index(inplace=True, drop=True)"
   ]
  },
  {
   "cell_type": "code",
   "execution_count": 27,
   "metadata": {},
   "outputs": [],
   "source": [
    "df_ice = df_ice[['code','energy_100g', 'fat_100g', 'fiber_100g', 'proteins_100g', 'salt_100g', \\\n",
    "               'sodium_100g', 'sugars_100g', 'additives_n', 'additives_tags', 'labels_tags', \\\n",
    "               'nutrition_grade_fr']]"
   ]
  },
  {
   "cell_type": "code",
   "execution_count": 28,
   "metadata": {},
   "outputs": [
    {
     "data": {
      "text/html": [
       "<div>\n",
       "<style scoped>\n",
       "    .dataframe tbody tr th:only-of-type {\n",
       "        vertical-align: middle;\n",
       "    }\n",
       "\n",
       "    .dataframe tbody tr th {\n",
       "        vertical-align: top;\n",
       "    }\n",
       "\n",
       "    .dataframe thead th {\n",
       "        text-align: right;\n",
       "    }\n",
       "</style>\n",
       "<table border=\"1\" class=\"dataframe\">\n",
       "  <thead>\n",
       "    <tr style=\"text-align: right;\">\n",
       "      <th></th>\n",
       "      <th>code</th>\n",
       "      <th>energy_100g</th>\n",
       "      <th>fat_100g</th>\n",
       "      <th>fiber_100g</th>\n",
       "      <th>proteins_100g</th>\n",
       "      <th>salt_100g</th>\n",
       "      <th>sodium_100g</th>\n",
       "      <th>sugars_100g</th>\n",
       "      <th>additives_n</th>\n",
       "      <th>additives_tags</th>\n",
       "      <th>labels_tags</th>\n",
       "      <th>nutrition_grade_fr</th>\n",
       "    </tr>\n",
       "  </thead>\n",
       "  <tbody>\n",
       "    <tr>\n",
       "      <th>0</th>\n",
       "      <td>0011110017734</td>\n",
       "      <td>284</td>\n",
       "      <td>10.81</td>\n",
       "      <td>1.4</td>\n",
       "      <td>4.05</td>\n",
       "      <td>0.51562</td>\n",
       "      <td>0.203</td>\n",
       "      <td>21.62</td>\n",
       "      <td>7.0</td>\n",
       "      <td>en:e407,en:e410,en:e412,en:e433,en:e466,en:e47...</td>\n",
       "      <td>NaN</td>\n",
       "      <td>d</td>\n",
       "    </tr>\n",
       "    <tr>\n",
       "      <th>1</th>\n",
       "      <td>0011110022950</td>\n",
       "      <td>286</td>\n",
       "      <td>9.52</td>\n",
       "      <td>1.6</td>\n",
       "      <td>4.76</td>\n",
       "      <td>0.56388</td>\n",
       "      <td>0.222</td>\n",
       "      <td>22.22</td>\n",
       "      <td>9.0</td>\n",
       "      <td>en:e102,en:e133,en:e407,en:e410,en:e412,en:e43...</td>\n",
       "      <td>NaN</td>\n",
       "      <td>d</td>\n",
       "    </tr>\n",
       "    <tr>\n",
       "      <th>2</th>\n",
       "      <td>0011110576606</td>\n",
       "      <td>270</td>\n",
       "      <td>9.52</td>\n",
       "      <td>1.6</td>\n",
       "      <td>4.76</td>\n",
       "      <td>0.60452</td>\n",
       "      <td>0.238</td>\n",
       "      <td>20.63</td>\n",
       "      <td>7.0</td>\n",
       "      <td>en:e407,en:e410,en:e412,en:e433,en:e466,en:e47...</td>\n",
       "      <td>NaN</td>\n",
       "      <td>d</td>\n",
       "    </tr>\n",
       "    <tr>\n",
       "      <th>3</th>\n",
       "      <td>0011110578693</td>\n",
       "      <td>266</td>\n",
       "      <td>9.38</td>\n",
       "      <td>1.6</td>\n",
       "      <td>4.69</td>\n",
       "      <td>0.59436</td>\n",
       "      <td>0.234</td>\n",
       "      <td>21.88</td>\n",
       "      <td>6.0</td>\n",
       "      <td>en:e407,en:e410,en:e412,en:e433,en:e466,en:e471</td>\n",
       "      <td>NaN</td>\n",
       "      <td>d</td>\n",
       "    </tr>\n",
       "    <tr>\n",
       "      <th>4</th>\n",
       "      <td>0011150589031</td>\n",
       "      <td>267</td>\n",
       "      <td>8.33</td>\n",
       "      <td>0.0</td>\n",
       "      <td>5.00</td>\n",
       "      <td>0.57150</td>\n",
       "      <td>0.225</td>\n",
       "      <td>21.67</td>\n",
       "      <td>8.0</td>\n",
       "      <td>en:e150a,en:e160b,en:e322,en:e322i,en:e407,en:...</td>\n",
       "      <td>NaN</td>\n",
       "      <td>d</td>\n",
       "    </tr>\n",
       "  </tbody>\n",
       "</table>\n",
       "</div>"
      ],
      "text/plain": [
       "            code  energy_100g  fat_100g  fiber_100g  proteins_100g  salt_100g  \\\n",
       "0  0011110017734          284     10.81         1.4           4.05    0.51562   \n",
       "1  0011110022950          286      9.52         1.6           4.76    0.56388   \n",
       "2  0011110576606          270      9.52         1.6           4.76    0.60452   \n",
       "3  0011110578693          266      9.38         1.6           4.69    0.59436   \n",
       "4  0011150589031          267      8.33         0.0           5.00    0.57150   \n",
       "\n",
       "   sodium_100g  sugars_100g  additives_n  \\\n",
       "0        0.203        21.62          7.0   \n",
       "1        0.222        22.22          9.0   \n",
       "2        0.238        20.63          7.0   \n",
       "3        0.234        21.88          6.0   \n",
       "4        0.225        21.67          8.0   \n",
       "\n",
       "                                      additives_tags labels_tags  \\\n",
       "0  en:e407,en:e410,en:e412,en:e433,en:e466,en:e47...         NaN   \n",
       "1  en:e102,en:e133,en:e407,en:e410,en:e412,en:e43...         NaN   \n",
       "2  en:e407,en:e410,en:e412,en:e433,en:e466,en:e47...         NaN   \n",
       "3    en:e407,en:e410,en:e412,en:e433,en:e466,en:e471         NaN   \n",
       "4  en:e150a,en:e160b,en:e322,en:e322i,en:e407,en:...         NaN   \n",
       "\n",
       "  nutrition_grade_fr  \n",
       "0                  d  \n",
       "1                  d  \n",
       "2                  d  \n",
       "3                  d  \n",
       "4                  d  "
      ]
     },
     "execution_count": 28,
     "metadata": {},
     "output_type": "execute_result"
    }
   ],
   "source": [
    "df_ice.head()"
   ]
  },
  {
   "cell_type": "code",
   "execution_count": null,
   "metadata": {},
   "outputs": [],
   "source": []
  },
  {
   "cell_type": "code",
   "execution_count": null,
   "metadata": {},
   "outputs": [],
   "source": []
  },
  {
   "cell_type": "code",
   "execution_count": null,
   "metadata": {},
   "outputs": [],
   "source": []
  },
  {
   "cell_type": "markdown",
   "metadata": {},
   "source": [
    "## Are food high in fiber healthy?\n",
    "+ correlation between fiber content and score/category\n",
    "+ modeling with just fiber content? "
   ]
  },
  {
   "cell_type": "code",
   "execution_count": 8,
   "metadata": {},
   "outputs": [],
   "source": [
    "df_hm = df2[df2.fiber_100g.notna() & df2['nutrition-score-fr_100g']]\n",
    "df_hm.reset_index(inplace=True, drop=True)"
   ]
  },
  {
   "cell_type": "code",
   "execution_count": 9,
   "metadata": {},
   "outputs": [],
   "source": [
    "df_hm = df_hm[['energy_100g', 'fat_100g','proteins_100g', 'salt_100g', 'fiber_100g',  \\\n",
    "               'sodium_100g', 'sugars_100g', 'nutrition-score-fr_100g', 'nutrition_grade_fr']]"
   ]
  },
  {
   "cell_type": "raw",
   "metadata": {},
   "source": [
    "# take value with less than 500 energy\n",
    "tmp = df_hm[df_hm.energy_100g < 300][['fiber_100g', 'energy_100g', 'proteins_100g', 'salt_100g', 'sugars_100g','nutrition_grade_fr']]\n",
    "tmp.shape"
   ]
  },
  {
   "cell_type": "code",
   "execution_count": 10,
   "metadata": {},
   "outputs": [
    {
     "data": {
      "text/plain": [
       "(72611, 6)"
      ]
     },
     "execution_count": 10,
     "metadata": {},
     "output_type": "execute_result"
    }
   ],
   "source": [
    "tmp = df_hm[['energy_100g', 'sugars_100g', 'proteins_100g', 'salt_100g',  'fiber_100g', 'nutrition_grade_fr']]\n",
    "tmp.shape"
   ]
  },
  {
   "cell_type": "code",
   "execution_count": 11,
   "metadata": {},
   "outputs": [
    {
     "data": {
      "text/html": [
       "<div>\n",
       "<style scoped>\n",
       "    .dataframe tbody tr th:only-of-type {\n",
       "        vertical-align: middle;\n",
       "    }\n",
       "\n",
       "    .dataframe tbody tr th {\n",
       "        vertical-align: top;\n",
       "    }\n",
       "\n",
       "    .dataframe thead th {\n",
       "        text-align: right;\n",
       "    }\n",
       "</style>\n",
       "<table border=\"1\" class=\"dataframe\">\n",
       "  <thead>\n",
       "    <tr style=\"text-align: right;\">\n",
       "      <th></th>\n",
       "      <th>energy_100g</th>\n",
       "      <th>sugars_100g</th>\n",
       "      <th>proteins_100g</th>\n",
       "      <th>salt_100g</th>\n",
       "      <th>fiber_100g</th>\n",
       "      <th>nutrition_grade_fr_a</th>\n",
       "      <th>nutrition_grade_fr_b</th>\n",
       "      <th>nutrition_grade_fr_c</th>\n",
       "      <th>nutrition_grade_fr_d</th>\n",
       "      <th>nutrition_grade_fr_e</th>\n",
       "    </tr>\n",
       "  </thead>\n",
       "  <tbody>\n",
       "    <tr>\n",
       "      <th>energy_100g</th>\n",
       "      <td>1.000000</td>\n",
       "      <td>0.283890</td>\n",
       "      <td>0.259880</td>\n",
       "      <td>-0.045370</td>\n",
       "      <td>0.222466</td>\n",
       "      <td>-0.230561</td>\n",
       "      <td>-0.233399</td>\n",
       "      <td>-0.103652</td>\n",
       "      <td>0.270051</td>\n",
       "      <td>0.234978</td>\n",
       "    </tr>\n",
       "    <tr>\n",
       "      <th>sugars_100g</th>\n",
       "      <td>0.283890</td>\n",
       "      <td>1.000000</td>\n",
       "      <td>-0.200878</td>\n",
       "      <td>-0.077850</td>\n",
       "      <td>0.020362</td>\n",
       "      <td>-0.266340</td>\n",
       "      <td>-0.143319</td>\n",
       "      <td>-0.062679</td>\n",
       "      <td>0.134680</td>\n",
       "      <td>0.310627</td>\n",
       "    </tr>\n",
       "    <tr>\n",
       "      <th>proteins_100g</th>\n",
       "      <td>0.259880</td>\n",
       "      <td>-0.200878</td>\n",
       "      <td>1.000000</td>\n",
       "      <td>0.038962</td>\n",
       "      <td>0.231974</td>\n",
       "      <td>0.066943</td>\n",
       "      <td>-0.067079</td>\n",
       "      <td>-0.031809</td>\n",
       "      <td>0.086044</td>\n",
       "      <td>-0.080688</td>\n",
       "    </tr>\n",
       "    <tr>\n",
       "      <th>salt_100g</th>\n",
       "      <td>-0.045370</td>\n",
       "      <td>-0.077850</td>\n",
       "      <td>0.038962</td>\n",
       "      <td>1.000000</td>\n",
       "      <td>-0.014551</td>\n",
       "      <td>-0.082251</td>\n",
       "      <td>-0.033162</td>\n",
       "      <td>0.071801</td>\n",
       "      <td>0.043566</td>\n",
       "      <td>-0.014095</td>\n",
       "    </tr>\n",
       "    <tr>\n",
       "      <th>fiber_100g</th>\n",
       "      <td>0.222466</td>\n",
       "      <td>0.020362</td>\n",
       "      <td>0.231974</td>\n",
       "      <td>-0.014551</td>\n",
       "      <td>1.000000</td>\n",
       "      <td>0.211685</td>\n",
       "      <td>-0.076867</td>\n",
       "      <td>0.001530</td>\n",
       "      <td>-0.055292</td>\n",
       "      <td>-0.100833</td>\n",
       "    </tr>\n",
       "  </tbody>\n",
       "</table>\n",
       "</div>"
      ],
      "text/plain": [
       "               energy_100g  sugars_100g  proteins_100g  salt_100g  fiber_100g  \\\n",
       "energy_100g       1.000000     0.283890       0.259880  -0.045370    0.222466   \n",
       "sugars_100g       0.283890     1.000000      -0.200878  -0.077850    0.020362   \n",
       "proteins_100g     0.259880    -0.200878       1.000000   0.038962    0.231974   \n",
       "salt_100g        -0.045370    -0.077850       0.038962   1.000000   -0.014551   \n",
       "fiber_100g        0.222466     0.020362       0.231974  -0.014551    1.000000   \n",
       "\n",
       "               nutrition_grade_fr_a  nutrition_grade_fr_b  \\\n",
       "energy_100g               -0.230561             -0.233399   \n",
       "sugars_100g               -0.266340             -0.143319   \n",
       "proteins_100g              0.066943             -0.067079   \n",
       "salt_100g                 -0.082251             -0.033162   \n",
       "fiber_100g                 0.211685             -0.076867   \n",
       "\n",
       "               nutrition_grade_fr_c  nutrition_grade_fr_d  \\\n",
       "energy_100g               -0.103652              0.270051   \n",
       "sugars_100g               -0.062679              0.134680   \n",
       "proteins_100g             -0.031809              0.086044   \n",
       "salt_100g                  0.071801              0.043566   \n",
       "fiber_100g                 0.001530             -0.055292   \n",
       "\n",
       "               nutrition_grade_fr_e  \n",
       "energy_100g                0.234978  \n",
       "sugars_100g                0.310627  \n",
       "proteins_100g             -0.080688  \n",
       "salt_100g                 -0.014095  \n",
       "fiber_100g                -0.100833  "
      ]
     },
     "execution_count": 11,
     "metadata": {},
     "output_type": "execute_result"
    }
   ],
   "source": [
    "pd.get_dummies(tmp).corr().head()"
   ]
  },
  {
   "cell_type": "code",
   "execution_count": 12,
   "metadata": {},
   "outputs": [
    {
     "data": {
      "image/png": "[encoded data removed]",
      "text/plain": [
       "<Figure size 1008x576 with 2 Axes>"
      ]
     },
     "metadata": {},
     "output_type": "display_data"
    }
   ],
   "source": [
    "# take value with less than 500 energy\n",
    "plt.figure(figsize=(14, 8))\n",
    "sns.heatmap(pd.get_dummies(tmp).corr(), xticklabels=3,  annot=True, vmin=-1.0, vmax=1.0)\n",
    "plt.title('Correlation between Main Nutrients & Nutri-Score', fontdict={'fontsize': 18})\n",
    "# plt.savefig('fig06_correlations.png', bbox_inches='tight', dpi=300)\n",
    "plt.show()"
   ]
  },
  {
   "cell_type": "code",
   "execution_count": null,
   "metadata": {},
   "outputs": [],
   "source": []
  },
  {
   "cell_type": "code",
   "execution_count": null,
   "metadata": {},
   "outputs": [],
   "source": []
  },
  {
   "cell_type": "code",
   "execution_count": null,
   "metadata": {},
   "outputs": [],
   "source": []
  },
  {
   "cell_type": "markdown",
   "metadata": {},
   "source": [
    "## Report the correlation between nutrients"
   ]
  },
  {
   "cell_type": "code",
   "execution_count": 34,
   "metadata": {},
   "outputs": [],
   "source": [
    "df_corr = df2[['energy_100g', 'fat_100g', 'sugars_100g', 'proteins_100g', \\\n",
    "               'salt_100g', 'sodium_100g', 'fiber_100g', ]]"
   ]
  },
  {
   "cell_type": "code",
   "execution_count": 35,
   "metadata": {},
   "outputs": [
    {
     "data": {
      "text/html": [
       "<div>\n",
       "<style scoped>\n",
       "    .dataframe tbody tr th:only-of-type {\n",
       "        vertical-align: middle;\n",
       "    }\n",
       "\n",
       "    .dataframe tbody tr th {\n",
       "        vertical-align: top;\n",
       "    }\n",
       "\n",
       "    .dataframe thead th {\n",
       "        text-align: right;\n",
       "    }\n",
       "</style>\n",
       "<table border=\"1\" class=\"dataframe\">\n",
       "  <thead>\n",
       "    <tr style=\"text-align: right;\">\n",
       "      <th></th>\n",
       "      <th>energy_100g</th>\n",
       "      <th>fat_100g</th>\n",
       "      <th>sugars_100g</th>\n",
       "      <th>proteins_100g</th>\n",
       "      <th>salt_100g</th>\n",
       "      <th>sodium_100g</th>\n",
       "      <th>fiber_100g</th>\n",
       "    </tr>\n",
       "  </thead>\n",
       "  <tbody>\n",
       "    <tr>\n",
       "      <th>count</th>\n",
       "      <td>146356.000000</td>\n",
       "      <td>146356.000000</td>\n",
       "      <td>146356.000000</td>\n",
       "      <td>146356.000000</td>\n",
       "      <td>146356.000000</td>\n",
       "      <td>146356.000000</td>\n",
       "      <td>76901.000000</td>\n",
       "    </tr>\n",
       "    <tr>\n",
       "      <th>mean</th>\n",
       "      <td>268.940433</td>\n",
       "      <td>14.295713</td>\n",
       "      <td>13.516588</td>\n",
       "      <td>7.334595</td>\n",
       "      <td>1.085180</td>\n",
       "      <td>0.427234</td>\n",
       "      <td>2.736315</td>\n",
       "    </tr>\n",
       "    <tr>\n",
       "      <th>std</th>\n",
       "      <td>198.617614</td>\n",
       "      <td>18.774106</td>\n",
       "      <td>18.818759</td>\n",
       "      <td>7.883725</td>\n",
       "      <td>4.503782</td>\n",
       "      <td>1.773114</td>\n",
       "      <td>4.479292</td>\n",
       "    </tr>\n",
       "    <tr>\n",
       "      <th>min</th>\n",
       "      <td>0.000000</td>\n",
       "      <td>0.000000</td>\n",
       "      <td>0.000000</td>\n",
       "      <td>0.000000</td>\n",
       "      <td>0.000000</td>\n",
       "      <td>0.000000</td>\n",
       "      <td>0.000000</td>\n",
       "    </tr>\n",
       "    <tr>\n",
       "      <th>25%</th>\n",
       "      <td>95.000000</td>\n",
       "      <td>0.900000</td>\n",
       "      <td>1.000000</td>\n",
       "      <td>1.200000</td>\n",
       "      <td>0.050000</td>\n",
       "      <td>0.019685</td>\n",
       "      <td>0.010000</td>\n",
       "    </tr>\n",
       "    <tr>\n",
       "      <th>50%</th>\n",
       "      <td>245.000000</td>\n",
       "      <td>6.900000</td>\n",
       "      <td>4.400000</td>\n",
       "      <td>5.500000</td>\n",
       "      <td>0.410000</td>\n",
       "      <td>0.161417</td>\n",
       "      <td>1.500000</td>\n",
       "    </tr>\n",
       "    <tr>\n",
       "      <th>75%</th>\n",
       "      <td>400.000000</td>\n",
       "      <td>22.000000</td>\n",
       "      <td>19.000000</td>\n",
       "      <td>10.000000</td>\n",
       "      <td>1.200000</td>\n",
       "      <td>0.472441</td>\n",
       "      <td>3.500000</td>\n",
       "    </tr>\n",
       "    <tr>\n",
       "      <th>max</th>\n",
       "      <td>2385.000000</td>\n",
       "      <td>100.000000</td>\n",
       "      <td>100.000000</td>\n",
       "      <td>100.000000</td>\n",
       "      <td>100.000000</td>\n",
       "      <td>39.400000</td>\n",
       "      <td>100.000000</td>\n",
       "    </tr>\n",
       "  </tbody>\n",
       "</table>\n",
       "</div>"
      ],
      "text/plain": [
       "         energy_100g       fat_100g    sugars_100g  proteins_100g  \\\n",
       "count  146356.000000  146356.000000  146356.000000  146356.000000   \n",
       "mean      268.940433      14.295713      13.516588       7.334595   \n",
       "std       198.617614      18.774106      18.818759       7.883725   \n",
       "min         0.000000       0.000000       0.000000       0.000000   \n",
       "25%        95.000000       0.900000       1.000000       1.200000   \n",
       "50%       245.000000       6.900000       4.400000       5.500000   \n",
       "75%       400.000000      22.000000      19.000000      10.000000   \n",
       "max      2385.000000     100.000000     100.000000     100.000000   \n",
       "\n",
       "           salt_100g    sodium_100g    fiber_100g  \n",
       "count  146356.000000  146356.000000  76901.000000  \n",
       "mean        1.085180       0.427234      2.736315  \n",
       "std         4.503782       1.773114      4.479292  \n",
       "min         0.000000       0.000000      0.000000  \n",
       "25%         0.050000       0.019685      0.010000  \n",
       "50%         0.410000       0.161417      1.500000  \n",
       "75%         1.200000       0.472441      3.500000  \n",
       "max       100.000000      39.400000    100.000000  "
      ]
     },
     "execution_count": 35,
     "metadata": {},
     "output_type": "execute_result"
    }
   ],
   "source": [
    "df_corr.describe()"
   ]
  },
  {
   "cell_type": "code",
   "execution_count": 36,
   "metadata": {},
   "outputs": [
    {
     "data": {
      "image/png": "[encoded data removed]",
      "text/plain": [
       "<Figure size 864x432 with 2 Axes>"
      ]
     },
     "metadata": {},
     "output_type": "display_data"
    }
   ],
   "source": [
    "plt.figure(figsize=(12, 6))\n",
    "# sns.heatmap(tmp.corr())\n",
    "sns.heatmap(df_corr.corr())\n",
    "plt.show()"
   ]
  },
  {
   "cell_type": "code",
   "execution_count": null,
   "metadata": {},
   "outputs": [],
   "source": []
  },
  {
   "cell_type": "code",
   "execution_count": null,
   "metadata": {},
   "outputs": [],
   "source": []
  },
  {
   "cell_type": "code",
   "execution_count": null,
   "metadata": {},
   "outputs": [],
   "source": []
  },
  {
   "cell_type": "markdown",
   "metadata": {},
   "source": [
    "## Are products with 'organic' labels necessary healthy?\n",
    "+ in labels_tags, search for en:organic or en:eu-organic\n",
    "+ more like organic is always associated with fresh foods, therefore less processed\n",
    "+ do organic foods has additives?"
   ]
  },
  {
   "cell_type": "code",
   "execution_count": 13,
   "metadata": {},
   "outputs": [
    {
     "data": {
      "text/plain": [
       "(68789, 25)"
      ]
     },
     "execution_count": 13,
     "metadata": {},
     "output_type": "execute_result"
    }
   ],
   "source": [
    "df_org = df2[df2.labels_tags.notna()]\n",
    "df_org.reset_index(inplace=True, drop=True)\n",
    "df_org.shape"
   ]
  },
  {
   "cell_type": "code",
   "execution_count": 14,
   "metadata": {},
   "outputs": [],
   "source": [
    "org1 = get_category('en:organic', 'labels_tags', df_org)"
   ]
  },
  {
   "cell_type": "code",
   "execution_count": 15,
   "metadata": {},
   "outputs": [],
   "source": [
    "org2 = get_category('en:eu-organic', 'labels_tags', df_org)"
   ]
  },
  {
   "cell_type": "code",
   "execution_count": 16,
   "metadata": {},
   "outputs": [
    {
     "data": {
      "text/plain": [
       "19505"
      ]
     },
     "execution_count": 16,
     "metadata": {},
     "output_type": "execute_result"
    }
   ],
   "source": [
    "org = list(set(org1).union(set(org2)))\n",
    "len(org)"
   ]
  },
  {
   "cell_type": "code",
   "execution_count": 17,
   "metadata": {},
   "outputs": [],
   "source": [
    "df_org = df_org.iloc[org, :][['additives_n', 'energy_100g', \\\n",
    "                              'proteins_100g', 'salt_100g', 'fiber_100g', \\\n",
    "                              'sugars_100g','nutrition_grade_fr']]"
   ]
  },
  {
   "cell_type": "code",
   "execution_count": 18,
   "metadata": {},
   "outputs": [],
   "source": [
    "df_org.additives_n = df_org.additives_n.fillna(0)\n",
    "df_org.fiber_100g = df_org.fiber_100g.fillna(0)"
   ]
  },
  {
   "cell_type": "code",
   "execution_count": 19,
   "metadata": {},
   "outputs": [],
   "source": [
    "df_org = df_org[df_org.sugars_100g.notna()]"
   ]
  },
  {
   "cell_type": "code",
   "execution_count": 20,
   "metadata": {},
   "outputs": [],
   "source": [
    "tmp = df2[['additives_n', 'energy_100g', 'proteins_100g', 'salt_100g', \\\n",
    "           'fiber_100g', 'sugars_100g']]\n",
    "tmp = tmp[tmp.additives_n.notna()]\n",
    "tmp.fiber_100g.fillna(0, inplace=True)"
   ]
  },
  {
   "cell_type": "code",
   "execution_count": 21,
   "metadata": {},
   "outputs": [
    {
     "name": "stdout",
     "output_type": "stream",
     "text": [
      "<class 'pandas.core.frame.DataFrame'>\n",
      "Int64Index: 122042 entries, 3 to 146354\n",
      "Data columns (total 6 columns):\n",
      "additives_n      122042 non-null float64\n",
      "energy_100g      122042 non-null int64\n",
      "proteins_100g    122042 non-null float64\n",
      "salt_100g        122042 non-null float64\n",
      "fiber_100g       122042 non-null float64\n",
      "sugars_100g      122042 non-null float64\n",
      "dtypes: float64(5), int64(1)\n",
      "memory usage: 6.5 MB\n"
     ]
    }
   ],
   "source": [
    "tmp.info()"
   ]
  },
  {
   "cell_type": "code",
   "execution_count": 22,
   "metadata": {},
   "outputs": [
    {
     "name": "stdout",
     "output_type": "stream",
     "text": [
      "(19505, 7)\n"
     ]
    },
    {
     "data": {
      "text/html": [
       "<div>\n",
       "<style scoped>\n",
       "    .dataframe tbody tr th:only-of-type {\n",
       "        vertical-align: middle;\n",
       "    }\n",
       "\n",
       "    .dataframe tbody tr th {\n",
       "        vertical-align: top;\n",
       "    }\n",
       "\n",
       "    .dataframe thead th {\n",
       "        text-align: right;\n",
       "    }\n",
       "</style>\n",
       "<table border=\"1\" class=\"dataframe\">\n",
       "  <thead>\n",
       "    <tr style=\"text-align: right;\">\n",
       "      <th></th>\n",
       "      <th>additives_n</th>\n",
       "      <th>energy_100g</th>\n",
       "      <th>proteins_100g</th>\n",
       "      <th>salt_100g</th>\n",
       "      <th>fiber_100g</th>\n",
       "      <th>sugars_100g</th>\n",
       "      <th>kind</th>\n",
       "    </tr>\n",
       "  </thead>\n",
       "  <tbody>\n",
       "    <tr>\n",
       "      <th>0</th>\n",
       "      <td>1.0</td>\n",
       "      <td>16</td>\n",
       "      <td>0.7</td>\n",
       "      <td>1.016</td>\n",
       "      <td>0.7</td>\n",
       "      <td>2.40</td>\n",
       "      <td>organic</td>\n",
       "    </tr>\n",
       "    <tr>\n",
       "      <th>1</th>\n",
       "      <td>0.0</td>\n",
       "      <td>43</td>\n",
       "      <td>0.1</td>\n",
       "      <td>0.000</td>\n",
       "      <td>0.1</td>\n",
       "      <td>10.40</td>\n",
       "      <td>organic</td>\n",
       "    </tr>\n",
       "    <tr>\n",
       "      <th>2</th>\n",
       "      <td>0.0</td>\n",
       "      <td>378</td>\n",
       "      <td>8.0</td>\n",
       "      <td>0.480</td>\n",
       "      <td>4.8</td>\n",
       "      <td>3.15</td>\n",
       "      <td>organic</td>\n",
       "    </tr>\n",
       "    <tr>\n",
       "      <th>3</th>\n",
       "      <td>1.0</td>\n",
       "      <td>178</td>\n",
       "      <td>0.9</td>\n",
       "      <td>0.000</td>\n",
       "      <td>0.6</td>\n",
       "      <td>38.70</td>\n",
       "      <td>organic</td>\n",
       "    </tr>\n",
       "    <tr>\n",
       "      <th>4</th>\n",
       "      <td>2.0</td>\n",
       "      <td>181</td>\n",
       "      <td>0.9</td>\n",
       "      <td>0.000</td>\n",
       "      <td>0.6</td>\n",
       "      <td>38.70</td>\n",
       "      <td>organic</td>\n",
       "    </tr>\n",
       "  </tbody>\n",
       "</table>\n",
       "</div>"
      ],
      "text/plain": [
       "   additives_n  energy_100g  proteins_100g  salt_100g  fiber_100g  \\\n",
       "0          1.0           16            0.7      1.016         0.7   \n",
       "1          0.0           43            0.1      0.000         0.1   \n",
       "2          0.0          378            8.0      0.480         4.8   \n",
       "3          1.0          178            0.9      0.000         0.6   \n",
       "4          2.0          181            0.9      0.000         0.6   \n",
       "\n",
       "   sugars_100g     kind  \n",
       "0         2.40  organic  \n",
       "1        10.40  organic  \n",
       "2         3.15  organic  \n",
       "3        38.70  organic  \n",
       "4        38.70  organic  "
      ]
     },
     "execution_count": 22,
     "metadata": {},
     "output_type": "execute_result"
    }
   ],
   "source": [
    "temp = df_org.copy()\n",
    "temp.drop('nutrition_grade_fr', axis=1, inplace=True)\n",
    "temp.reset_index(inplace=True, drop=True)\n",
    "temp['kind'] = 'organic'\n",
    "print(temp.shape)\n",
    "temp.head()"
   ]
  },
  {
   "cell_type": "code",
   "execution_count": 23,
   "metadata": {},
   "outputs": [
    {
     "name": "stdout",
     "output_type": "stream",
     "text": [
      "(122042, 7)\n"
     ]
    },
    {
     "data": {
      "text/html": [
       "<div>\n",
       "<style scoped>\n",
       "    .dataframe tbody tr th:only-of-type {\n",
       "        vertical-align: middle;\n",
       "    }\n",
       "\n",
       "    .dataframe tbody tr th {\n",
       "        vertical-align: top;\n",
       "    }\n",
       "\n",
       "    .dataframe thead th {\n",
       "        text-align: right;\n",
       "    }\n",
       "</style>\n",
       "<table border=\"1\" class=\"dataframe\">\n",
       "  <thead>\n",
       "    <tr style=\"text-align: right;\">\n",
       "      <th></th>\n",
       "      <th>additives_n</th>\n",
       "      <th>energy_100g</th>\n",
       "      <th>proteins_100g</th>\n",
       "      <th>salt_100g</th>\n",
       "      <th>fiber_100g</th>\n",
       "      <th>sugars_100g</th>\n",
       "      <th>kind</th>\n",
       "    </tr>\n",
       "  </thead>\n",
       "  <tbody>\n",
       "    <tr>\n",
       "      <th>0</th>\n",
       "      <td>3.0</td>\n",
       "      <td>160</td>\n",
       "      <td>9.50</td>\n",
       "      <td>0.358</td>\n",
       "      <td>1.6</td>\n",
       "      <td>0.6</td>\n",
       "      <td>overall</td>\n",
       "    </tr>\n",
       "    <tr>\n",
       "      <th>1</th>\n",
       "      <td>2.0</td>\n",
       "      <td>108</td>\n",
       "      <td>6.80</td>\n",
       "      <td>0.700</td>\n",
       "      <td>0.5</td>\n",
       "      <td>0.5</td>\n",
       "      <td>overall</td>\n",
       "    </tr>\n",
       "    <tr>\n",
       "      <th>2</th>\n",
       "      <td>3.0</td>\n",
       "      <td>289</td>\n",
       "      <td>22.00</td>\n",
       "      <td>2.160</td>\n",
       "      <td>2.0</td>\n",
       "      <td>0.0</td>\n",
       "      <td>overall</td>\n",
       "    </tr>\n",
       "    <tr>\n",
       "      <th>3</th>\n",
       "      <td>4.0</td>\n",
       "      <td>467</td>\n",
       "      <td>6.80</td>\n",
       "      <td>0.500</td>\n",
       "      <td>0.1</td>\n",
       "      <td>69.8</td>\n",
       "      <td>overall</td>\n",
       "    </tr>\n",
       "    <tr>\n",
       "      <th>4</th>\n",
       "      <td>3.0</td>\n",
       "      <td>261</td>\n",
       "      <td>3.33</td>\n",
       "      <td>0.647</td>\n",
       "      <td>2.0</td>\n",
       "      <td>24.7</td>\n",
       "      <td>overall</td>\n",
       "    </tr>\n",
       "  </tbody>\n",
       "</table>\n",
       "</div>"
      ],
      "text/plain": [
       "   additives_n  energy_100g  proteins_100g  salt_100g  fiber_100g  \\\n",
       "0          3.0          160           9.50      0.358         1.6   \n",
       "1          2.0          108           6.80      0.700         0.5   \n",
       "2          3.0          289          22.00      2.160         2.0   \n",
       "3          4.0          467           6.80      0.500         0.1   \n",
       "4          3.0          261           3.33      0.647         2.0   \n",
       "\n",
       "   sugars_100g     kind  \n",
       "0          0.6  overall  \n",
       "1          0.5  overall  \n",
       "2          0.0  overall  \n",
       "3         69.8  overall  \n",
       "4         24.7  overall  "
      ]
     },
     "execution_count": 23,
     "metadata": {},
     "output_type": "execute_result"
    }
   ],
   "source": [
    "temp_all = tmp.copy()\n",
    "temp_all.reset_index(inplace=True, drop=True)\n",
    "temp_all['kind'] = 'overall'\n",
    "print(temp_all.shape)\n",
    "temp_all.head()"
   ]
  },
  {
   "cell_type": "code",
   "execution_count": 24,
   "metadata": {},
   "outputs": [
    {
     "data": {
      "text/plain": [
       "(141547, 7)"
      ]
     },
     "execution_count": 24,
     "metadata": {},
     "output_type": "execute_result"
    }
   ],
   "source": [
    "melted = pd.concat([temp, temp_all])\n",
    "melted.kind = melted.kind.astype('category')\n",
    "melted.shape"
   ]
  },
  {
   "cell_type": "code",
   "execution_count": 25,
   "metadata": {},
   "outputs": [
    {
     "name": "stdout",
     "output_type": "stream",
     "text": [
      "<class 'pandas.core.frame.DataFrame'>\n",
      "Int64Index: 141547 entries, 0 to 122041\n",
      "Data columns (total 7 columns):\n",
      "additives_n      141547 non-null float64\n",
      "energy_100g      141547 non-null int64\n",
      "proteins_100g    141547 non-null float64\n",
      "salt_100g        141547 non-null float64\n",
      "fiber_100g       141547 non-null float64\n",
      "sugars_100g      141547 non-null float64\n",
      "kind             141547 non-null category\n",
      "dtypes: category(1), float64(5), int64(1)\n",
      "memory usage: 7.7 MB\n"
     ]
    }
   ],
   "source": [
    "melted.info()"
   ]
  },
  {
   "cell_type": "code",
   "execution_count": 26,
   "metadata": {},
   "outputs": [],
   "source": [
    "plot_cols = ['additives_n', 'energy_100g', 'proteins_100g', 'salt_100g', 'fiber_100g', 'sugars_100g']"
   ]
  },
  {
   "cell_type": "code",
   "execution_count": 27,
   "metadata": {},
   "outputs": [
    {
     "data": {
      "image/png": "[encoded data removed]",
      "text/plain": [
       "<Figure size 1008x504 with 6 Axes>"
      ]
     },
     "metadata": {},
     "output_type": "display_data"
    }
   ],
   "source": [
    "fig, axes = plt.subplots(nrows=2, ncols=3, figsize=(14, 7), sharey=True)\n",
    "\n",
    "sns.boxplot(y='kind',x='additives_n', data=melted, showfliers=False, \\\n",
    "            ax=axes[0, 0], palette=['limegreen', 'slategrey'], width=0.65)\n",
    "axes[0, 0].set_xlabel('Number of Additives', fontdict={'fontsize': 14})\n",
    "# axes[0, 0].set_yticks(['Organic', 'Overall']) \n",
    "# print(axes[0, 0].set_yticklabels(['Organic', 'Overall']))\n",
    "axes[0, 0].set_yticklabels(['Organic', 'Overall'], fontsize=14)\n",
    "\n",
    "sns.boxplot(y='kind',x='energy_100g', data=melted, showfliers=False, \\\n",
    "            ax=axes[0, 1], palette=['limegreen', 'slategrey'], width=0.65)\n",
    "axes[0, 1].set_xlabel('Energy (kcal, per 100g)', fontdict={'fontsize': 14})\n",
    "\n",
    "sns.boxplot(y='kind',x='proteins_100g', data=melted, showfliers=False, \\\n",
    "            ax=axes[0, 2], palette=['limegreen', 'slategrey'], width=0.65)\n",
    "axes[0, 2].set_xlabel('Proteins (g, per 100g)', fontdict={'fontsize': 14})\n",
    "\n",
    "sns.boxplot(y='kind',x='salt_100g', data=melted, showfliers=False, \\\n",
    "            ax=axes[1, 0], palette=['limegreen', 'slategrey'], width=0.65)\n",
    "axes[1, 0].set_xlabel('Salt (g, per 100g)', fontdict={'fontsize': 14})\n",
    "axes[1, 0].set_yticklabels(['Organic', 'Overall'], fontsize=14)\n",
    "\n",
    "sns.boxplot(y='kind',x='fiber_100g', data=melted, showfliers=False, \\\n",
    "            ax=axes[1, 1], palette=['limegreen', 'slategrey'], width=0.65)\n",
    "axes[1, 1].set_xlabel('Fiber (g, per 100g)', fontdict={'fontsize': 14})\n",
    "\n",
    "sns.boxplot(y='kind',x='sugars_100g', data=melted, showfliers=False, \\\n",
    "            ax=axes[1, 2], palette=['limegreen', 'slategrey'], width=0.65)\n",
    "axes[1, 2].set_xlabel('Sugars (g, per 100g)', fontdict={'fontsize': 14})\n",
    "\n",
    "fig.suptitle('Comparison between Organic and Overall Products', fontsize=20) \n",
    "# plt.legend(loc='best', fontsize=14)\n",
    "fig.tight_layout() #plt.tight_layout()\n",
    "fig.subplots_adjust(top=0.93)\n",
    "\n",
    "handles, labels = axes[1, 2].get_legend_handles_labels()\n",
    "# fig.legend(['Organic', 'Overall'])\n",
    "fig.legend(handles, labels, loc='upper center')\n",
    "\n",
    "# plt.savefig('fig09_organic2.png', bbox_inches='tight', dpi=300)\n",
    "\n",
    "plt.show()"
   ]
  },
  {
   "cell_type": "code",
   "execution_count": null,
   "metadata": {},
   "outputs": [],
   "source": []
  },
  {
   "cell_type": "code",
   "execution_count": 28,
   "metadata": {},
   "outputs": [],
   "source": [
    "tmp = df2[['code', 'nutrition_grade_fr']].groupby(by='nutrition_grade_fr').count().reset_index()\n",
    "tmp['overall'] = tmp.code.apply(lambda x: x / tmp.code.sum())\n",
    "# tmp\n",
    "\n",
    "tmp2 = df_org[['additives_n', 'nutrition_grade_fr']].groupby(by='nutrition_grade_fr').count().reset_index()\n",
    "tmp2['organic'] = tmp2.additives_n.apply(lambda x: x / tmp2.additives_n.sum())\n",
    "# tmp2"
   ]
  },
  {
   "cell_type": "code",
   "execution_count": 29,
   "metadata": {},
   "outputs": [],
   "source": [
    "df = pd.merge(tmp.drop('code', axis=1), tmp2.drop('additives_n', axis=1))\n",
    "tmp = pd.melt(df, id_vars='nutrition_grade_fr', var_name='category', value_name='rank_percentage')"
   ]
  },
  {
   "cell_type": "code",
   "execution_count": 31,
   "metadata": {},
   "outputs": [
    {
     "data": {
      "image/png": "[encoded data removed]",
      "text/plain": [
       "<Figure size 1008x504 with 1 Axes>"
      ]
     },
     "metadata": {},
     "output_type": "display_data"
    }
   ],
   "source": [
    "plt.figure(figsize=(14, 7))\n",
    "sns.barplot(x=\"nutrition_grade_fr\", y=\"rank_percentage\", hue=\"category\", data=tmp, palette=['slategrey', 'limegreen'])\n",
    "plt.xlabel('Nutri-Score Ranks', fontdict={'fontsize': 14})\n",
    "plt.ylabel('Ranks Percentage', fontdict={'fontsize': 14})\n",
    "plt.xticks(fontsize=14)\n",
    "plt.title('Comparison of Nutri-Score between Organic and Overall products', fontdict={'fontsize': 18})\n",
    "plt.legend(loc='best', fontsize=14)\n",
    "# plt.savefig('fig08_organic1.png', bbox_inches='tight', dpi=300)\n",
    "plt.show()"
   ]
  },
  {
   "cell_type": "raw",
   "metadata": {},
   "source": [
    "# plt.figure(figsize=(14, 7)) # for some reason, this doesn't work with catplot\n",
    "# sns.factorplot(x='nutrition_grade_fr', y='rank_percentage', hue='category', data=tmp, kind='bar')\n",
    "# sns.catplot(x='nutrition_grade_fr', y='rank_percentage', col='category', data=tmp, kind='bar')\n",
    "sns.catplot(x='nutrition_grade_fr', y='rank_percentage', hue='category', data=tmp, kind='bar')\n",
    "\n",
    "plt.title('Comparison between Organic and Overall products', fontdict={'fontsize': 18})\n",
    "plt.gcf().set_size_inches(12, 6) # work with catplot\n",
    "plt.show()"
   ]
  },
  {
   "cell_type": "code",
   "execution_count": null,
   "metadata": {},
   "outputs": [],
   "source": []
  }
 ],
 "metadata": {
  "kernelspec": {
   "display_name": "Py3 (sklearn)",
   "language": "python",
   "name": "sklearn"
  },
  "language_info": {
   "codemirror_mode": {
    "name": "ipython",
    "version": 3
   },
   "file_extension": ".py",
   "mimetype": "text/x-python",
   "name": "python",
   "nbconvert_exporter": "python",
   "pygments_lexer": "ipython3",
   "version": "3.6.7"
  }
 },
 "nbformat": 4,
 "nbformat_minor": 2
}
