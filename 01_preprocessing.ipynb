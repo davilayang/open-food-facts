{
 "cells": [
  {
   "cell_type": "markdown",
   "metadata": {},
   "source": [
    "## Data Preprocessing\n",
    "1. subset the data on having scores/grades  \n",
    "    + nutrition_grade_fr\n",
    "2. detect outliers with clustering or plots\n",
    "    + remove the outliers\n",
    "3. plot boxplot for dataset demo\n",
    "    + plot on part of the attributes, not everything"
   ]
  },
  {
   "cell_type": "code",
   "execution_count": 17,
   "metadata": {},
   "outputs": [],
   "source": [
    "import os\n",
    "import numpy as np\n",
    "import pandas as pd\n",
    "import matplotlib.pyplot as plt\n",
    "import seaborn as sns"
   ]
  },
  {
   "cell_type": "code",
   "execution_count": 18,
   "metadata": {},
   "outputs": [],
   "source": [
    "sns.set()"
   ]
  },
  {
   "cell_type": "code",
   "execution_count": 19,
   "metadata": {},
   "outputs": [],
   "source": [
    "data_path = 'D:\\DATA\\PracticeData'"
   ]
  },
  {
   "cell_type": "code",
   "execution_count": 20,
   "metadata": {},
   "outputs": [
    {
     "data": {
      "text/plain": [
       "(710013, 173)"
      ]
     },
     "execution_count": 20,
     "metadata": {},
     "output_type": "execute_result"
    }
   ],
   "source": [
    "df = pd.read_csv(os.path.join(data_path, 'openfoodfacts.zip'), \\\n",
    "                 dtype={'code': 'object'}, compression='zip', sep='\\t')\n",
    "df.shape"
   ]
  },
  {
   "cell_type": "code",
   "execution_count": 21,
   "metadata": {},
   "outputs": [
    {
     "data": {
      "text/plain": [
       "(710013, 168)"
      ]
     },
     "execution_count": 21,
     "metadata": {},
     "output_type": "execute_result"
    }
   ],
   "source": [
    "# drop the columns \n",
    "not_needed_cols = ['creator', 'created_t', 'created_datetime', 'last_modified_t', 'last_modified_datetime']\n",
    "df = df.drop(not_needed_cols, axis=1)\n",
    "df.shape"
   ]
  },
  {
   "cell_type": "markdown",
   "metadata": {},
   "source": [
    "Regular expression to match a line that doesn't contain a word?  \n",
    "https://stackoverflow.com/questions/406230/regular-expression-to-match-a-line-that-doesnt-contain-a-word"
   ]
  },
  {
   "cell_type": "code",
   "execution_count": 22,
   "metadata": {},
   "outputs": [
    {
     "data": {
      "text/plain": [
       "(710013, 161)"
      ]
     },
     "execution_count": 22,
     "metadata": {},
     "output_type": "execute_result"
    }
   ],
   "source": [
    "# filter for only the attributes NOT having 'url'\n",
    "# should be 7 to be removed!! ^((?!hede).)*$\n",
    "df = df.filter(regex=r'^((?!url).)*$', axis=1)\n",
    "df.shape"
   ]
  },
  {
   "cell_type": "code",
   "execution_count": 23,
   "metadata": {},
   "outputs": [
    {
     "data": {
      "text/plain": [
       "(710013, 128)"
      ]
     },
     "execution_count": 23,
     "metadata": {},
     "output_type": "execute_result"
    }
   ],
   "source": [
    "# filter for only the attributes NOT starting with -, i.e. remove all the 'acids' columns\n",
    "df = df.filter(regex=r'^[^-]', axis=1)\n",
    "\n",
    "# cols_acids = [col for col in df_na.index.values if 'acid' in col]\n",
    "# df.drop(cols_acids, axis=1)\n",
    "df.shape"
   ]
  },
  {
   "cell_type": "code",
   "execution_count": 24,
   "metadata": {},
   "outputs": [
    {
     "data": {
      "text/plain": [
       "(710013, 125)"
      ]
     },
     "execution_count": 24,
     "metadata": {},
     "output_type": "execute_result"
    }
   ],
   "source": [
    "# filter for only the attributes NOT having 'states'\n",
    "df = df.filter(regex=r'^((?!states).)*$', axis=1)\n",
    "df.shape"
   ]
  },
  {
   "cell_type": "code",
   "execution_count": 25,
   "metadata": {},
   "outputs": [
    {
     "data": {
      "text/plain": [
       "(710013, 119)"
      ]
     },
     "execution_count": 25,
     "metadata": {},
     "output_type": "execute_result"
    }
   ],
   "source": [
    "# filter for only the attributes NOT having 'palm_oil'\n",
    "df = df.filter(regex=r'^((?!palm_oil).)*$', axis=1)\n",
    "df.shape"
   ]
  },
  {
   "cell_type": "code",
   "execution_count": 26,
   "metadata": {},
   "outputs": [
    {
     "data": {
      "text/plain": [
       "array(['code', 'product_name', 'generic_name', 'quantity', 'packaging',\n",
       "       'packaging_tags', 'brands', 'brands_tags', 'categories',\n",
       "       'categories_tags', 'categories_en', 'origins', 'origins_tags',\n",
       "       'manufacturing_places', 'manufacturing_places_tags', 'labels',\n",
       "       'labels_tags', 'labels_en', 'emb_codes', 'emb_codes_tags',\n",
       "       'first_packaging_code_geo', 'cities', 'cities_tags',\n",
       "       'purchase_places', 'stores', 'countries', 'countries_tags',\n",
       "       'countries_en', 'ingredients_text', 'allergens', 'allergens_en',\n",
       "       'traces', 'traces_tags', 'traces_en', 'serving_size',\n",
       "       'serving_quantity', 'no_nutriments', 'additives_n', 'additives',\n",
       "       'additives_tags', 'additives_en', 'nutrition_grade_fr',\n",
       "       'nova_group', 'pnns_groups_1', 'pnns_groups_2', 'main_category',\n",
       "       'main_category_en', 'energy_100g', 'energy-from-fat_100g',\n",
       "       'fat_100g', 'saturated-fat_100g', 'monounsaturated-fat_100g',\n",
       "       'polyunsaturated-fat_100g', 'omega-3-fat_100g', 'omega-6-fat_100g',\n",
       "       'omega-9-fat_100g', 'trans-fat_100g', 'cholesterol_100g',\n",
       "       'carbohydrates_100g', 'sugars_100g', 'starch_100g', 'polyols_100g',\n",
       "       'fiber_100g', 'proteins_100g', 'casein_100g',\n",
       "       'serum-proteins_100g', 'nucleotides_100g', 'salt_100g',\n",
       "       'sodium_100g', 'alcohol_100g', 'vitamin-a_100g',\n",
       "       'beta-carotene_100g', 'vitamin-d_100g', 'vitamin-e_100g',\n",
       "       'vitamin-k_100g', 'vitamin-c_100g', 'vitamin-b1_100g',\n",
       "       'vitamin-b2_100g', 'vitamin-pp_100g', 'vitamin-b6_100g',\n",
       "       'vitamin-b9_100g', 'folates_100g', 'vitamin-b12_100g',\n",
       "       'biotin_100g', 'pantothenic-acid_100g', 'silica_100g',\n",
       "       'bicarbonate_100g', 'potassium_100g', 'chloride_100g',\n",
       "       'calcium_100g', 'phosphorus_100g', 'iron_100g', 'magnesium_100g',\n",
       "       'zinc_100g', 'copper_100g', 'manganese_100g', 'fluoride_100g',\n",
       "       'selenium_100g', 'chromium_100g', 'molybdenum_100g', 'iodine_100g',\n",
       "       'caffeine_100g', 'taurine_100g', 'ph_100g',\n",
       "       'fruits-vegetables-nuts_100g',\n",
       "       'fruits-vegetables-nuts-estimate_100g',\n",
       "       'collagen-meat-protein-ratio_100g', 'cocoa_100g',\n",
       "       'chlorophyl_100g', 'carbon-footprint_100g',\n",
       "       'nutrition-score-fr_100g', 'nutrition-score-uk_100g',\n",
       "       'glycemic-index_100g', 'water-hardness_100g', 'choline_100g',\n",
       "       'phylloquinone_100g', 'beta-glucan_100g', 'inositol_100g',\n",
       "       'carnitine_100g'], dtype=object)"
      ]
     },
     "execution_count": 26,
     "metadata": {},
     "output_type": "execute_result"
    }
   ],
   "source": [
    "df.columns.values"
   ]
  },
  {
   "cell_type": "code",
   "execution_count": 27,
   "metadata": {},
   "outputs": [],
   "source": [
    "# manually select attributes could be used\n",
    "possible_cols = ['code', 'product_name', 'labels_tags', 'countries_tags', 'categories_tags', \\\n",
    "                 'additives_n', 'additives_tags', \\\n",
    "                 'energy_100g', 'fat_100g', 'fiber_100g', 'proteins_100g', 'sugars_100g', \\\n",
    "                 'sodium_100g', 'salt_100g', 'alcohol_100g', 'caffeine_100g', 'cocoa_100g', \\\n",
    "                 'energy-from-fat_100g', 'saturated-fat_100g', 'trans-fat_100g', \\\n",
    "                 'cholesterol_100g', 'carbohydrates_100g', \\\n",
    "                 'nutrition-score-fr_100g', 'nutrition-score-uk_100g', 'nutrition_grade_fr']\n",
    "        \n",
    "others_trace_elements = ['monounsaturated-fat_100g', 'polyunsaturated-fat_100g', 'omega-3-fat_100g', \\\n",
    "                         'omega-6-fat_100g', 'omega-9-fat_100g', 'starch_100g', 'polyols_100g', 'beta-carotene_100g', \\\n",
    "                         'vitamin-a_100g', 'vitamin-b1_100g', 'vitamin-b2_100g', 'vitamin-b6_100g', \\\n",
    "                         'vitamin-b9_100g', 'vitamin-b12_100g','vitamin-c_100g', 'vitamin-d_100g', \\\n",
    "                         'vitamin-e_100g','vitamin-k_100g', 'vitamin-pp_100g', \\\n",
    "                         'casein_100g', 'serum-proteins_100g', 'nucleotides_100g', 'folates_100g', \\\n",
    "                         'biotin_100g', 'pantothenic-acid_100g', 'silica_100g', 'bicarbonate_100g', \\\n",
    "                         'potassium_100g', 'chloride_100g', 'calcium_100g', 'phosphorus_100g', \\\n",
    "                         'iron_100g', 'magnesium_100g', 'zinc_100g', 'copper_100g', 'manganese_100g', \\\n",
    "                         'fluoride_100g', 'selenium_100g', 'chromium_100g', 'molybdenum_100g', \\\n",
    "                         'iodine_100g', 'taurine_100g', 'ph_100g', 'fruits-vegetables-nuts_100g', \\\n",
    "                         'fruits-vegetables-nuts-estimate_100g', 'collagen-meat-protein-ratio_100g']"
   ]
  },
  {
   "cell_type": "code",
   "execution_count": 28,
   "metadata": {},
   "outputs": [
    {
     "data": {
      "text/plain": [
       "(710013, 25)"
      ]
     },
     "execution_count": 28,
     "metadata": {},
     "output_type": "execute_result"
    }
   ],
   "source": [
    "df2 = df[possible_cols]\n",
    "df2.shape"
   ]
  },
  {
   "cell_type": "code",
   "execution_count": null,
   "metadata": {},
   "outputs": [],
   "source": []
  },
  {
   "cell_type": "markdown",
   "metadata": {},
   "source": [
    "## Alcohol data"
   ]
  },
  {
   "cell_type": "code",
   "execution_count": 13,
   "metadata": {},
   "outputs": [],
   "source": [
    "# get the index with a string in the cell of a column\n",
    "def get_category(string, column, dataframe): \n",
    "    idx_list = []\n",
    "    for idx, row in dataframe.iterrows():\n",
    "        if row[column] is not np.nan and string in row[column]:\n",
    "            idx_list.append(idx)\n",
    "    return idx_list"
   ]
  },
  {
   "cell_type": "code",
   "execution_count": 14,
   "metadata": {},
   "outputs": [
    {
     "data": {
      "text/plain": [
       "6216"
      ]
     },
     "execution_count": 14,
     "metadata": {},
     "output_type": "execute_result"
    }
   ],
   "source": [
    "alcohol = get_category('en:alcoholic-beverages', 'categories_tags', df2)\n",
    "len(alcohol)\n",
    "# too few data, but the website has more?"
   ]
  },
  {
   "cell_type": "code",
   "execution_count": 15,
   "metadata": {},
   "outputs": [
    {
     "data": {
      "text/plain": [
       "(6216, 12)"
      ]
     },
     "execution_count": 15,
     "metadata": {},
     "output_type": "execute_result"
    }
   ],
   "source": [
    "df_al = df.iloc[alcohol, :]\n",
    "df_al = df_al[['code', 'quantity', 'categories_tags', 'energy_100g', 'fat_100g', 'fiber_100g', 'carbohydrates_100g', \\\n",
    "       'proteins_100g', 'salt_100g', 'sodium_100g', 'sugars_100g', 'alcohol_100g']]\n",
    "df_al.reset_index(inplace=True, drop=True)\n",
    "df_al.shape"
   ]
  },
  {
   "cell_type": "code",
   "execution_count": 16,
   "metadata": {},
   "outputs": [
    {
     "name": "stdout",
     "output_type": "stream",
     "text": [
      "<class 'pandas.core.frame.DataFrame'>\n",
      "RangeIndex: 6216 entries, 0 to 6215\n",
      "Data columns (total 12 columns):\n",
      "code                  6216 non-null object\n",
      "quantity              5542 non-null object\n",
      "categories_tags       6216 non-null object\n",
      "energy_100g           568 non-null float64\n",
      "fat_100g              437 non-null float64\n",
      "fiber_100g            159 non-null float64\n",
      "carbohydrates_100g    463 non-null float64\n",
      "proteins_100g         453 non-null float64\n",
      "salt_100g             389 non-null float64\n",
      "sodium_100g           389 non-null float64\n",
      "sugars_100g           430 non-null float64\n",
      "alcohol_100g          4283 non-null float64\n",
      "dtypes: float64(9), object(3)\n",
      "memory usage: 582.8+ KB\n"
     ]
    }
   ],
   "source": [
    "df_al.info()"
   ]
  },
  {
   "cell_type": "code",
   "execution_count": 71,
   "metadata": {},
   "outputs": [
    {
     "data": {
      "text/plain": [
       "(4653, 119)"
      ]
     },
     "execution_count": 71,
     "metadata": {},
     "output_type": "execute_result"
    }
   ],
   "source": [
    "# having alcohol in its ingredient\n",
    "tmp = df[(df.alcohol_100g.notna()) & (df.alcohol_100g > 0.0)]\n",
    "tmp.shape"
   ]
  },
  {
   "cell_type": "code",
   "execution_count": 72,
   "metadata": {},
   "outputs": [],
   "source": [
    "df_al = df.iloc[alcohol, :]"
   ]
  },
  {
   "cell_type": "code",
   "execution_count": 73,
   "metadata": {},
   "outputs": [
    {
     "data": {
      "text/plain": [
       "(6592, 12)"
      ]
     },
     "execution_count": 73,
     "metadata": {},
     "output_type": "execute_result"
    }
   ],
   "source": [
    "all_al = list(set(tmp.index.values).union(set(df_al.index.values)))\n",
    "df_al = df.iloc[all_al, :]\n",
    "df_al = df_al[['code', 'quantity', 'categories_tags', 'energy_100g', 'fat_100g', 'fiber_100g', 'carbohydrates_100g', \\\n",
    "       'proteins_100g', 'salt_100g', 'sodium_100g', 'sugars_100g', 'alcohol_100g']]\n",
    "df_al.reset_index(inplace=True, drop=True)\n",
    "df_al.shape"
   ]
  },
  {
   "cell_type": "code",
   "execution_count": 74,
   "metadata": {},
   "outputs": [],
   "source": [
    "df_al.to_csv(os.path.join(data_path, 'openfoodfacts_alcohol.gz'), compression='gzip', index=False)"
   ]
  },
  {
   "cell_type": "code",
   "execution_count": 53,
   "metadata": {},
   "outputs": [
    {
     "data": {
      "image/png": "[encoded data removed]",
      "text/plain": [
       "<Figure size 432x288 with 1 Axes>"
      ]
     },
     "metadata": {
      "needs_background": "light"
     },
     "output_type": "display_data"
    }
   ],
   "source": [
    "sns.scatterplot(x=tmp.alcohol_100g[tmp.alcohol_100g > 1], y=tmp.energy_100g[tmp.alcohol_100g > 1])\n",
    "plt.ylim(0, 1000)\n",
    "plt.show()"
   ]
  },
  {
   "cell_type": "code",
   "execution_count": null,
   "metadata": {},
   "outputs": [],
   "source": []
  },
  {
   "cell_type": "code",
   "execution_count": null,
   "metadata": {},
   "outputs": [],
   "source": []
  },
  {
   "cell_type": "code",
   "execution_count": null,
   "metadata": {},
   "outputs": [],
   "source": []
  },
  {
   "cell_type": "markdown",
   "metadata": {},
   "source": [
    "## Count the percentage of NA values"
   ]
  },
  {
   "cell_type": "code",
   "execution_count": 34,
   "metadata": {},
   "outputs": [],
   "source": [
    "def count_na_pct(column, dataframe):\n",
    "    return dataframe[column].isna().sum() / dataframe.shape[0] * 100 "
   ]
  },
  {
   "cell_type": "code",
   "execution_count": 35,
   "metadata": {},
   "outputs": [
    {
     "data": {
      "text/plain": [
       "25"
      ]
     },
     "execution_count": 35,
     "metadata": {},
     "output_type": "execute_result"
    }
   ],
   "source": [
    "tmp = [] \n",
    "for col in df2.columns:\n",
    "    na_pct = count_na_pct(col, df2)\n",
    "    tmp.append(na_pct)\n",
    "len(tmp) # 143 columns have NA higher than 50%"
   ]
  },
  {
   "cell_type": "code",
   "execution_count": 36,
   "metadata": {},
   "outputs": [],
   "source": [
    "df2_na = pd.DataFrame(data={'percentage': tmp}, index=df2.columns)\n",
    "df2_na.sort_values(by='percentage', ascending=False, inplace=True)"
   ]
  },
  {
   "cell_type": "code",
   "execution_count": 37,
   "metadata": {},
   "outputs": [
    {
     "data": {
      "text/html": [
       "<div>\n",
       "<style scoped>\n",
       "    .dataframe tbody tr th:only-of-type {\n",
       "        vertical-align: middle;\n",
       "    }\n",
       "\n",
       "    .dataframe tbody tr th {\n",
       "        vertical-align: top;\n",
       "    }\n",
       "\n",
       "    .dataframe thead th {\n",
       "        text-align: right;\n",
       "    }\n",
       "</style>\n",
       "<table border=\"1\" class=\"dataframe\">\n",
       "  <thead>\n",
       "    <tr style=\"text-align: right;\">\n",
       "      <th></th>\n",
       "      <th>caffeine_100g</th>\n",
       "      <th>energy-from-fat_100g</th>\n",
       "      <th>cocoa_100g</th>\n",
       "      <th>alcohol_100g</th>\n",
       "      <th>labels_tags</th>\n",
       "      <th>trans-fat_100g</th>\n",
       "      <th>cholesterol_100g</th>\n",
       "      <th>nutrition_grade_fr</th>\n",
       "      <th>nutrition-score-uk_100g</th>\n",
       "      <th>nutrition-score-fr_100g</th>\n",
       "    </tr>\n",
       "  </thead>\n",
       "  <tbody>\n",
       "    <tr>\n",
       "      <th>percentage</th>\n",
       "      <td>99.976057</td>\n",
       "      <td>99.871552</td>\n",
       "      <td>99.452404</td>\n",
       "      <td>98.862274</td>\n",
       "      <td>85.44745</td>\n",
       "      <td>79.726428</td>\n",
       "      <td>79.628824</td>\n",
       "      <td>79.047989</td>\n",
       "      <td>79.047989</td>\n",
       "      <td>79.047989</td>\n",
       "    </tr>\n",
       "  </tbody>\n",
       "</table>\n",
       "</div>"
      ],
      "text/plain": [
       "            caffeine_100g  energy-from-fat_100g  cocoa_100g  alcohol_100g  \\\n",
       "percentage      99.976057             99.871552   99.452404     98.862274   \n",
       "\n",
       "            labels_tags  trans-fat_100g  cholesterol_100g  nutrition_grade_fr  \\\n",
       "percentage     85.44745       79.726428         79.628824           79.047989   \n",
       "\n",
       "            nutrition-score-uk_100g  nutrition-score-fr_100g  \n",
       "percentage                79.047989                79.047989  "
      ]
     },
     "execution_count": 37,
     "metadata": {},
     "output_type": "execute_result"
    }
   ],
   "source": [
    "df2_na.head(10).transpose()"
   ]
  },
  {
   "cell_type": "code",
   "execution_count": 38,
   "metadata": {},
   "outputs": [
    {
     "data": {
      "text/html": [
       "<div>\n",
       "<style scoped>\n",
       "    .dataframe tbody tr th:only-of-type {\n",
       "        vertical-align: middle;\n",
       "    }\n",
       "\n",
       "    .dataframe tbody tr th {\n",
       "        vertical-align: top;\n",
       "    }\n",
       "\n",
       "    .dataframe thead th {\n",
       "        text-align: right;\n",
       "    }\n",
       "</style>\n",
       "<table border=\"1\" class=\"dataframe\">\n",
       "  <thead>\n",
       "    <tr style=\"text-align: right;\">\n",
       "      <th></th>\n",
       "      <th>sodium_100g</th>\n",
       "      <th>salt_100g</th>\n",
       "      <th>sugars_100g</th>\n",
       "      <th>carbohydrates_100g</th>\n",
       "      <th>fat_100g</th>\n",
       "      <th>proteins_100g</th>\n",
       "      <th>energy_100g</th>\n",
       "      <th>product_name</th>\n",
       "      <th>countries_tags</th>\n",
       "      <th>code</th>\n",
       "    </tr>\n",
       "  </thead>\n",
       "  <tbody>\n",
       "    <tr>\n",
       "      <th>percentage</th>\n",
       "      <td>18.054599</td>\n",
       "      <td>18.04967</td>\n",
       "      <td>17.338556</td>\n",
       "      <td>15.852949</td>\n",
       "      <td>15.816189</td>\n",
       "      <td>15.277044</td>\n",
       "      <td>15.068456</td>\n",
       "      <td>3.760495</td>\n",
       "      <td>0.082815</td>\n",
       "      <td>0.004789</td>\n",
       "    </tr>\n",
       "  </tbody>\n",
       "</table>\n",
       "</div>"
      ],
      "text/plain": [
       "            sodium_100g  salt_100g  sugars_100g  carbohydrates_100g  \\\n",
       "percentage    18.054599   18.04967    17.338556           15.852949   \n",
       "\n",
       "             fat_100g  proteins_100g  energy_100g  product_name  \\\n",
       "percentage  15.816189      15.277044    15.068456      3.760495   \n",
       "\n",
       "            countries_tags      code  \n",
       "percentage        0.082815  0.004789  "
      ]
     },
     "execution_count": 38,
     "metadata": {},
     "output_type": "execute_result"
    }
   ],
   "source": [
    "df2_na.tail(10).transpose()"
   ]
  },
  {
   "cell_type": "code",
   "execution_count": null,
   "metadata": {},
   "outputs": [],
   "source": []
  },
  {
   "cell_type": "markdown",
   "metadata": {},
   "source": [
    "## drop attributes that shouldn't have NA\n",
    "+ i.e. if the basic nutrients have NA, drop the data\n",
    "+ sodium_100g, salt_100g, sugars_100g, fat_100g, proteins_100g, energy_100g, product_name, code"
   ]
  },
  {
   "cell_type": "code",
   "execution_count": 39,
   "metadata": {},
   "outputs": [],
   "source": [
    "to_drop = ['sodium_100g', 'salt_100g', 'sugars_100g', 'fat_100g', 'proteins_100g', 'energy_100g', 'product_name', 'code']"
   ]
  },
  {
   "cell_type": "code",
   "execution_count": 40,
   "metadata": {},
   "outputs": [
    {
     "data": {
      "text/plain": [
       "560536"
      ]
     },
     "execution_count": 40,
     "metadata": {},
     "output_type": "execute_result"
    }
   ],
   "source": [
    "notna = set(df2.index.values)\n",
    "for col in to_drop: \n",
    "    notna.intersection_update(set(df2.index[df2[col].notna()]))\n",
    "len(notna)"
   ]
  },
  {
   "cell_type": "code",
   "execution_count": 41,
   "metadata": {},
   "outputs": [],
   "source": [
    "df3 = df2.iloc[list(notna), :]"
   ]
  },
  {
   "cell_type": "code",
   "execution_count": 42,
   "metadata": {},
   "outputs": [
    {
     "data": {
      "text/html": [
       "<div>\n",
       "<style scoped>\n",
       "    .dataframe tbody tr th:only-of-type {\n",
       "        vertical-align: middle;\n",
       "    }\n",
       "\n",
       "    .dataframe tbody tr th {\n",
       "        vertical-align: top;\n",
       "    }\n",
       "\n",
       "    .dataframe thead th {\n",
       "        text-align: right;\n",
       "    }\n",
       "</style>\n",
       "<table border=\"1\" class=\"dataframe\">\n",
       "  <thead>\n",
       "    <tr style=\"text-align: right;\">\n",
       "      <th></th>\n",
       "      <th>carbohydrates_100g</th>\n",
       "      <th>countries_tags</th>\n",
       "      <th>code</th>\n",
       "      <th>salt_100g</th>\n",
       "      <th>product_name</th>\n",
       "      <th>sugars_100g</th>\n",
       "      <th>proteins_100g</th>\n",
       "      <th>fat_100g</th>\n",
       "      <th>energy_100g</th>\n",
       "      <th>sodium_100g</th>\n",
       "    </tr>\n",
       "  </thead>\n",
       "  <tbody>\n",
       "    <tr>\n",
       "      <th>percentage</th>\n",
       "      <td>0.058872</td>\n",
       "      <td>0.019089</td>\n",
       "      <td>0.0</td>\n",
       "      <td>0.0</td>\n",
       "      <td>0.0</td>\n",
       "      <td>0.0</td>\n",
       "      <td>0.0</td>\n",
       "      <td>0.0</td>\n",
       "      <td>0.0</td>\n",
       "      <td>0.0</td>\n",
       "    </tr>\n",
       "  </tbody>\n",
       "</table>\n",
       "</div>"
      ],
      "text/plain": [
       "            carbohydrates_100g  countries_tags  code  salt_100g  product_name  \\\n",
       "percentage            0.058872        0.019089   0.0        0.0           0.0   \n",
       "\n",
       "            sugars_100g  proteins_100g  fat_100g  energy_100g  sodium_100g  \n",
       "percentage          0.0            0.0       0.0          0.0          0.0  "
      ]
     },
     "execution_count": 42,
     "metadata": {},
     "output_type": "execute_result"
    }
   ],
   "source": [
    "tmp = [] \n",
    "for col in df3.columns:\n",
    "    na_pct = count_na_pct(col, df3)\n",
    "    tmp.append(na_pct)\n",
    "\n",
    "df3_na = pd.DataFrame(data={'percentage': tmp}, index=df3.columns)\n",
    "df3_na.sort_values(by='percentage', ascending=False, inplace=True)\n",
    "\n",
    "df3_na.tail(10).transpose()"
   ]
  },
  {
   "cell_type": "code",
   "execution_count": 43,
   "metadata": {},
   "outputs": [
    {
     "data": {
      "text/plain": [
       "(560536, 25)"
      ]
     },
     "execution_count": 43,
     "metadata": {},
     "output_type": "execute_result"
    }
   ],
   "source": [
    "df3.shape"
   ]
  },
  {
   "cell_type": "code",
   "execution_count": 44,
   "metadata": {},
   "outputs": [],
   "source": [
    "import numpy as np \n",
    "from sklearn.cluster import KMeans"
   ]
  },
  {
   "cell_type": "code",
   "execution_count": 45,
   "metadata": {},
   "outputs": [
    {
     "data": {
      "text/plain": [
       "array([560507,      1,      3,      3,     22], dtype=int64)"
      ]
     },
     "execution_count": 45,
     "metadata": {},
     "output_type": "execute_result"
    }
   ],
   "source": [
    "km = KMeans(n_clusters=5)\n",
    "km.fit(df3.loc[: , ['energy_100g', 'fat_100g', 'proteins_100g', 'sugars_100g', 'sodium_100g', 'salt_100g']])\n",
    "np.bincount(km.labels_)"
   ]
  },
  {
   "cell_type": "code",
   "execution_count": null,
   "metadata": {},
   "outputs": [],
   "source": []
  },
  {
   "cell_type": "code",
   "execution_count": null,
   "metadata": {},
   "outputs": [],
   "source": []
  },
  {
   "cell_type": "markdown",
   "metadata": {},
   "source": [
    "## detect outliers in the dataset"
   ]
  },
  {
   "cell_type": "code",
   "execution_count": 46,
   "metadata": {},
   "outputs": [
    {
     "data": {
      "image/png": "[encoded data removed]",
      "text/plain": [
       "<Figure size 864x432 with 1 Axes>"
      ]
     },
     "metadata": {},
     "output_type": "display_data"
    }
   ],
   "source": [
    "plt.figure(figsize=(12, 6))\n",
    "sns.boxplot(data=df3.drop(['code', 'additives_n'], axis=1), orient='h', palette=\"Set2\")\n",
    "plt.show()"
   ]
  },
  {
   "cell_type": "markdown",
   "metadata": {},
   "source": [
    "### remove outliers with more than 10000 values\n",
    "+ apply some common sense\n",
    "    + for energy, it's likely to be a few thousand kilojoul, but not more than 10000\n",
    "    + for others, it should be less than 100, since it's out of 100 gram of the product\n",
    "\n",
    "energy_100g and fiber_100g"
   ]
  },
  {
   "cell_type": "code",
   "execution_count": 47,
   "metadata": {},
   "outputs": [],
   "source": [
    "df3 = df2.iloc[list(notna), :]\n",
    "df3.reset_index(inplace=True, drop=True)"
   ]
  },
  {
   "cell_type": "code",
   "execution_count": 48,
   "metadata": {},
   "outputs": [
    {
     "data": {
      "text/plain": [
       "100"
      ]
     },
     "execution_count": 48,
     "metadata": {},
     "output_type": "execute_result"
    }
   ],
   "source": [
    "# energy greater than 10000\n",
    "out_energy = df3[(df3.energy_100g > 10000) | (df3.energy_100g < 0)].index.values\n",
    "tmp = set(out_energy)\n",
    "len(tmp)"
   ]
  },
  {
   "cell_type": "code",
   "execution_count": 49,
   "metadata": {},
   "outputs": [
    {
     "data": {
      "text/plain": [
       "601"
      ]
     },
     "execution_count": 49,
     "metadata": {},
     "output_type": "execute_result"
    }
   ],
   "source": [
    "# get indexes other attributes if value >= 100\n",
    "not_na_cols = ['energy_100g', 'nutrition-score-fr_100g', 'nutrition-score-uk_100g', 'energy-from-fat_100g']\n",
    "for col in df3.drop(not_na_cols, axis=1).columns:\n",
    "    if df3[col].dtype == 'float64' : \n",
    "        tmp.update(set(df3.index[(df3[col] > 100.0) | (df3[col] < 0.0)])) \n",
    "        # this does not include NA\n",
    "        # but nutrition-score-fr_100g and nutrition-score-uk_100g can be < 0\n",
    "        # tmp = tmp.union() # it's the same!\n",
    "len(tmp)"
   ]
  },
  {
   "cell_type": "code",
   "execution_count": 50,
   "metadata": {},
   "outputs": [
    {
     "data": {
      "text/plain": [
       "(559935, 25)"
      ]
     },
     "execution_count": 50,
     "metadata": {},
     "output_type": "execute_result"
    }
   ],
   "source": [
    "df3 = df3.drop(tmp, axis=0)\n",
    "df3.shape"
   ]
  },
  {
   "cell_type": "code",
   "execution_count": 51,
   "metadata": {},
   "outputs": [
    {
     "data": {
      "text/plain": [
       "d    42940\n",
       "e    32343\n",
       "c    30248\n",
       "b    20638\n",
       "a    20187\n",
       "Name: nutrition_grade_fr, dtype: int64"
      ]
     },
     "execution_count": 51,
     "metadata": {},
     "output_type": "execute_result"
    }
   ],
   "source": [
    "df3['nutrition_grade_fr'].value_counts()"
   ]
  },
  {
   "cell_type": "code",
   "execution_count": 52,
   "metadata": {},
   "outputs": [
    {
     "data": {
      "image/png": "[encoded data removed]",
      "text/plain": [
       "<Figure size 864x432 with 1 Axes>"
      ]
     },
     "metadata": {},
     "output_type": "display_data"
    }
   ],
   "source": [
    "plt.figure(figsize=(12, 6))\n",
    "sns.boxplot(data=df3.drop(['code', 'additives_n'], axis=1), orient='h', palette=\"Set2\")\n",
    "plt.show()"
   ]
  },
  {
   "cell_type": "markdown",
   "metadata": {},
   "source": [
    "### convert eneregy_100g from kJ to kcal\n",
    "1 kcal = 4.184 kJ, i.e. kcal = kJ / 4.184"
   ]
  },
  {
   "cell_type": "code",
   "execution_count": 53,
   "metadata": {},
   "outputs": [
    {
     "name": "stderr",
     "output_type": "stream",
     "text": [
      "C:\\Users\\davilaYuan\\Miniconda3\\envs\\sklearn\\lib\\site-packages\\ipykernel_launcher.py:3: SettingWithCopyWarning: \n",
      "A value is trying to be set on a copy of a slice from a DataFrame\n",
      "\n",
      "See the caveats in the documentation: http://pandas.pydata.org/pandas-docs/stable/indexing.html#indexing-view-versus-copy\n",
      "  This is separate from the ipykernel package so we can avoid doing imports until\n"
     ]
    }
   ],
   "source": [
    "df3.energy_100g = df3.energy_100g.apply(lambda kj: round(kj / 4.184))\n",
    "df3['energy-from-fat_100g'][df3['energy-from-fat_100g'].notna()] = \\\n",
    "    df3['energy-from-fat_100g'][df3['energy-from-fat_100g'].notna()].apply(lambda kj: round(kj / 4.184))"
   ]
  },
  {
   "cell_type": "code",
   "execution_count": 54,
   "metadata": {},
   "outputs": [
    {
     "data": {
      "image/png": "[encoded data removed]",
      "text/plain": [
       "<Figure size 864x432 with 1 Axes>"
      ]
     },
     "metadata": {},
     "output_type": "display_data"
    }
   ],
   "source": [
    "plt.figure(figsize=(12, 6))\n",
    "sns.boxplot(data=df3.drop(['code', 'additives_n'], axis=1), orient='h', palette=\"Set2\")\n",
    "plt.show()"
   ]
  },
  {
   "cell_type": "code",
   "execution_count": null,
   "metadata": {},
   "outputs": [],
   "source": []
  },
  {
   "cell_type": "code",
   "execution_count": 59,
   "metadata": {},
   "outputs": [
    {
     "data": {
      "image/png": "[encoded data removed]",
      "text/plain": [
       "<Figure size 1008x504 with 1 Axes>"
      ]
     },
     "metadata": {},
     "output_type": "display_data"
    }
   ],
   "source": [
    "plt.figure(figsize=(14, 7))\n",
    "sns.boxplot(data=df3.drop(['code', 'additives_n', 'energy_100g', 'energy-from-fat_100g', \\\n",
    "                           'nutrition-score-fr_100g', 'nutrition-score-uk_100g'], axis=1), \\\n",
    "            orient='h', palette=\"Set2\") #, showfliers=False)\n",
    "plt.title('Boxplots, after removing outliers', fontdict={'fontsize': 18})\n",
    "plt.savefig('fig05_remove_outliers.png', bbox_inches='tight', dpi=300)\n",
    "plt.show()"
   ]
  },
  {
   "cell_type": "markdown",
   "metadata": {},
   "source": [
    "### inspection on product names"
   ]
  },
  {
   "cell_type": "code",
   "execution_count": 35,
   "metadata": {},
   "outputs": [],
   "source": [
    "def inspect_outliers(column, value=90):\n",
    "    tmp = df3.index[df3[column] > value]\n",
    "    return df.iloc[tmp, :].loc[:, ['code', column, 'product_name', 'categories_tags']]"
   ]
  },
  {
   "cell_type": "code",
   "execution_count": 36,
   "metadata": {},
   "outputs": [
    {
     "data": {
      "text/html": [
       "<div>\n",
       "<style scoped>\n",
       "    .dataframe tbody tr th:only-of-type {\n",
       "        vertical-align: middle;\n",
       "    }\n",
       "\n",
       "    .dataframe tbody tr th {\n",
       "        vertical-align: top;\n",
       "    }\n",
       "\n",
       "    .dataframe thead th {\n",
       "        text-align: right;\n",
       "    }\n",
       "</style>\n",
       "<table border=\"1\" class=\"dataframe\">\n",
       "  <thead>\n",
       "    <tr style=\"text-align: right;\">\n",
       "      <th></th>\n",
       "      <th>code</th>\n",
       "      <th>fat_100g</th>\n",
       "      <th>product_name</th>\n",
       "      <th>categories_tags</th>\n",
       "    </tr>\n",
       "  </thead>\n",
       "  <tbody>\n",
       "    <tr>\n",
       "      <th>560095</th>\n",
       "      <td>5060309490679</td>\n",
       "      <td>24.0</td>\n",
       "      <td>Vanilla cookie</td>\n",
       "      <td>NaN</td>\n",
       "    </tr>\n",
       "    <tr>\n",
       "      <th>560277</th>\n",
       "      <td>5060336505841</td>\n",
       "      <td>1.4</td>\n",
       "      <td>Burger Relish Caramel Red Onion</td>\n",
       "      <td>NaN</td>\n",
       "    </tr>\n",
       "    <tr>\n",
       "      <th>560278</th>\n",
       "      <td>5060336507142</td>\n",
       "      <td>NaN</td>\n",
       "      <td>Branson original pickle</td>\n",
       "      <td>NaN</td>\n",
       "    </tr>\n",
       "    <tr>\n",
       "      <th>560461</th>\n",
       "      <td>5060343749139</td>\n",
       "      <td>62.0</td>\n",
       "      <td>Roasted Hazelnut Butter, Dark Chocolate</td>\n",
       "      <td>NaN</td>\n",
       "    </tr>\n",
       "    <tr>\n",
       "      <th>560466</th>\n",
       "      <td>5060343749535</td>\n",
       "      <td>0.5</td>\n",
       "      <td>Liquid egg whites</td>\n",
       "      <td>en:dietary-supplements,fr:blancs-d-oeufs,fr:bl...</td>\n",
       "    </tr>\n",
       "  </tbody>\n",
       "</table>\n",
       "</div>"
      ],
      "text/plain": [
       "                 code  fat_100g                             product_name  \\\n",
       "560095  5060309490679      24.0                           Vanilla cookie   \n",
       "560277  5060336505841       1.4          Burger Relish Caramel Red Onion   \n",
       "560278  5060336507142       NaN                  Branson original pickle   \n",
       "560461  5060343749139      62.0  Roasted Hazelnut Butter, Dark Chocolate   \n",
       "560466  5060343749535       0.5                        Liquid egg whites   \n",
       "\n",
       "                                          categories_tags  \n",
       "560095                                                NaN  \n",
       "560277                                                NaN  \n",
       "560278                                                NaN  \n",
       "560461                                                NaN  \n",
       "560466  en:dietary-supplements,fr:blancs-d-oeufs,fr:bl...  "
      ]
     },
     "execution_count": 36,
     "metadata": {},
     "output_type": "execute_result"
    }
   ],
   "source": [
    "# it's possible that fat is high, since it's oil products\n",
    "tmp = inspect_outliers('fat_100g')\n",
    "tmp.tail()"
   ]
  },
  {
   "cell_type": "code",
   "execution_count": 37,
   "metadata": {},
   "outputs": [
    {
     "data": {
      "text/html": [
       "<div>\n",
       "<style scoped>\n",
       "    .dataframe tbody tr th:only-of-type {\n",
       "        vertical-align: middle;\n",
       "    }\n",
       "\n",
       "    .dataframe tbody tr th {\n",
       "        vertical-align: top;\n",
       "    }\n",
       "\n",
       "    .dataframe thead th {\n",
       "        text-align: right;\n",
       "    }\n",
       "</style>\n",
       "<table border=\"1\" class=\"dataframe\">\n",
       "  <thead>\n",
       "    <tr style=\"text-align: right;\">\n",
       "      <th></th>\n",
       "      <th>code</th>\n",
       "      <th>fiber_100g</th>\n",
       "      <th>product_name</th>\n",
       "      <th>categories_tags</th>\n",
       "    </tr>\n",
       "  </thead>\n",
       "  <tbody>\n",
       "    <tr>\n",
       "      <th>528016</th>\n",
       "      <td>42286578</td>\n",
       "      <td>NaN</td>\n",
       "      <td>Chari Tea</td>\n",
       "      <td>NaN</td>\n",
       "    </tr>\n",
       "    <tr>\n",
       "      <th>532495</th>\n",
       "      <td>4305615462868</td>\n",
       "      <td>NaN</td>\n",
       "      <td>Apfelringe</td>\n",
       "      <td>en:plant-based-foods-and-beverages,en:plant-ba...</td>\n",
       "    </tr>\n",
       "    <tr>\n",
       "      <th>533175</th>\n",
       "      <td>4311501456361</td>\n",
       "      <td>NaN</td>\n",
       "      <td>Joghurt</td>\n",
       "      <td>en:dairies,en:fermented-foods,en:fermented-mil...</td>\n",
       "    </tr>\n",
       "    <tr>\n",
       "      <th>533414</th>\n",
       "      <td>4311501601983</td>\n",
       "      <td>10.4</td>\n",
       "      <td>schweizer Edelzartbitter Schokolade 72% Kakao</td>\n",
       "      <td>NaN</td>\n",
       "    </tr>\n",
       "    <tr>\n",
       "      <th>545619</th>\n",
       "      <td>5000183093023</td>\n",
       "      <td>1.7</td>\n",
       "      <td>Luxury Cookies Golden</td>\n",
       "      <td>en:sugary-snacks,en:biscuits-and-cakes,en:bisc...</td>\n",
       "    </tr>\n",
       "  </tbody>\n",
       "</table>\n",
       "</div>"
      ],
      "text/plain": [
       "                 code  fiber_100g  \\\n",
       "528016       42286578         NaN   \n",
       "532495  4305615462868         NaN   \n",
       "533175  4311501456361         NaN   \n",
       "533414  4311501601983        10.4   \n",
       "545619  5000183093023         1.7   \n",
       "\n",
       "                                         product_name  \\\n",
       "528016                                      Chari Tea   \n",
       "532495                                     Apfelringe   \n",
       "533175                                        Joghurt   \n",
       "533414  schweizer Edelzartbitter Schokolade 72% Kakao   \n",
       "545619                          Luxury Cookies Golden   \n",
       "\n",
       "                                          categories_tags  \n",
       "528016                                                NaN  \n",
       "532495  en:plant-based-foods-and-beverages,en:plant-ba...  \n",
       "533175  en:dairies,en:fermented-foods,en:fermented-mil...  \n",
       "533414                                                NaN  \n",
       "545619  en:sugary-snacks,en:biscuits-and-cakes,en:bisc...  "
      ]
     },
     "execution_count": 37,
     "metadata": {},
     "output_type": "execute_result"
    }
   ],
   "source": [
    "# it's possible \n",
    "tmp = inspect_outliers('fiber_100g')\n",
    "tmp.tail()"
   ]
  },
  {
   "cell_type": "code",
   "execution_count": 38,
   "metadata": {},
   "outputs": [
    {
     "data": {
      "text/html": [
       "<div>\n",
       "<style scoped>\n",
       "    .dataframe tbody tr th:only-of-type {\n",
       "        vertical-align: middle;\n",
       "    }\n",
       "\n",
       "    .dataframe tbody tr th {\n",
       "        vertical-align: top;\n",
       "    }\n",
       "\n",
       "    .dataframe thead th {\n",
       "        text-align: right;\n",
       "    }\n",
       "</style>\n",
       "<table border=\"1\" class=\"dataframe\">\n",
       "  <thead>\n",
       "    <tr style=\"text-align: right;\">\n",
       "      <th></th>\n",
       "      <th>code</th>\n",
       "      <th>proteins_100g</th>\n",
       "      <th>product_name</th>\n",
       "      <th>categories_tags</th>\n",
       "    </tr>\n",
       "  </thead>\n",
       "  <tbody>\n",
       "    <tr>\n",
       "      <th>536036</th>\n",
       "      <td>4388844003651</td>\n",
       "      <td>NaN</td>\n",
       "      <td>Tomaten Paprika</td>\n",
       "      <td>NaN</td>\n",
       "    </tr>\n",
       "    <tr>\n",
       "      <th>536037</th>\n",
       "      <td>4388844003972</td>\n",
       "      <td>4.5</td>\n",
       "      <td>Gnocchi</td>\n",
       "      <td>en:plant-based-foods-and-beverages,en:plant-ba...</td>\n",
       "    </tr>\n",
       "    <tr>\n",
       "      <th>536054</th>\n",
       "      <td>4388844005112</td>\n",
       "      <td>12.0</td>\n",
       "      <td>Original Frankfurter Würstchen</td>\n",
       "      <td>en:meats,en:prepared-meats,en:sausages,en:germ...</td>\n",
       "    </tr>\n",
       "    <tr>\n",
       "      <th>536056</th>\n",
       "      <td>4388844005259</td>\n",
       "      <td>NaN</td>\n",
       "      <td>Apfelrotkohl Rewe</td>\n",
       "      <td>NaN</td>\n",
       "    </tr>\n",
       "    <tr>\n",
       "      <th>536066</th>\n",
       "      <td>4388844006867</td>\n",
       "      <td>5.9</td>\n",
       "      <td>Schokoröllchen Mit Feiner Schokolade</td>\n",
       "      <td>NaN</td>\n",
       "    </tr>\n",
       "  </tbody>\n",
       "</table>\n",
       "</div>"
      ],
      "text/plain": [
       "                 code  proteins_100g                          product_name  \\\n",
       "536036  4388844003651            NaN                       Tomaten Paprika   \n",
       "536037  4388844003972            4.5                               Gnocchi   \n",
       "536054  4388844005112           12.0        Original Frankfurter Würstchen   \n",
       "536056  4388844005259            NaN                     Apfelrotkohl Rewe   \n",
       "536066  4388844006867            5.9  Schokoröllchen Mit Feiner Schokolade   \n",
       "\n",
       "                                          categories_tags  \n",
       "536036                                                NaN  \n",
       "536037  en:plant-based-foods-and-beverages,en:plant-ba...  \n",
       "536054  en:meats,en:prepared-meats,en:sausages,en:germ...  \n",
       "536056                                                NaN  \n",
       "536066                                                NaN  "
      ]
     },
     "execution_count": 38,
     "metadata": {},
     "output_type": "execute_result"
    }
   ],
   "source": [
    "# it's possible \n",
    "tmp = inspect_outliers('proteins_100g')\n",
    "tmp.tail()"
   ]
  },
  {
   "cell_type": "code",
   "execution_count": null,
   "metadata": {},
   "outputs": [],
   "source": []
  },
  {
   "cell_type": "markdown",
   "metadata": {},
   "source": [
    "## Explore with KMeans"
   ]
  },
  {
   "cell_type": "code",
   "execution_count": 39,
   "metadata": {},
   "outputs": [],
   "source": [
    "import numpy as np \n",
    "from sklearn.cluster import KMeans"
   ]
  },
  {
   "cell_type": "code",
   "execution_count": 40,
   "metadata": {},
   "outputs": [
    {
     "data": {
      "text/plain": [
       "(559935, 18)"
      ]
     },
     "execution_count": 40,
     "metadata": {},
     "output_type": "execute_result"
    }
   ],
   "source": [
    "tmp = df3.loc[: ,df3.columns[(df3.dtypes == 'float64') | (df3.dtypes == 'int64')]]\n",
    "tmp.shape"
   ]
  },
  {
   "cell_type": "code",
   "execution_count": 41,
   "metadata": {},
   "outputs": [
    {
     "name": "stdout",
     "output_type": "stream",
     "text": [
      "Column: additives_n \tNA Percentage 36.25920865814783\n",
      "Column: energy_100g \tNA Percentage 0.0\n",
      "Column: fat_100g \tNA Percentage 0.0\n",
      "Column: fiber_100g \tNA Percentage 52.682007733040436\n",
      "Column: proteins_100g \tNA Percentage 0.0\n",
      "Column: sugars_100g \tNA Percentage 0.0\n",
      "Column: sodium_100g \tNA Percentage 0.0\n",
      "Column: salt_100g \tNA Percentage 0.0\n",
      "Column: alcohol_100g \tNA Percentage 99.36528347040282\n",
      "Column: caffeine_100g \tNA Percentage 99.97303258413923\n",
      "Column: cocoa_100g \tNA Percentage 99.3426022663345\n",
      "Column: energy-from-fat_100g \tNA Percentage 99.85301865395091\n",
      "Column: saturated-fat_100g \tNA Percentage 3.6904283532910074\n",
      "Column: trans-fat_100g \tNA Percentage 75.38017805638154\n",
      "Column: cholesterol_100g \tNA Percentage 75.26034271835124\n",
      "Column: carbohydrates_100g \tNA Percentage 0.05714949056586925\n",
      "Column: nutrition-score-fr_100g \tNA Percentage 73.86196612106762\n",
      "Column: nutrition-score-uk_100g \tNA Percentage 73.86196612106762\n"
     ]
    }
   ],
   "source": [
    "for col in tmp.columns:\n",
    "    na_pct = count_na_pct(col, tmp)\n",
    "    print('Column:', col, '\\tNA Percentage', na_pct)"
   ]
  },
  {
   "cell_type": "code",
   "execution_count": 42,
   "metadata": {},
   "outputs": [
    {
     "data": {
      "text/plain": [
       "array([ 92882, 175441, 126851,  10148, 154613], dtype=int64)"
      ]
     },
     "execution_count": 42,
     "metadata": {},
     "output_type": "execute_result"
    }
   ],
   "source": [
    "# on attributes without NA\n",
    "km = KMeans(n_clusters=5)\n",
    "km.fit(tmp.loc[: , ['energy_100g', 'fat_100g', 'proteins_100g', 'sugars_100g', 'sodium_100g', 'salt_100g']])\n",
    "np.bincount(km.labels_)"
   ]
  },
  {
   "cell_type": "code",
   "execution_count": 43,
   "metadata": {},
   "outputs": [
    {
     "data": {
      "text/plain": [
       "(146356, 18)"
      ]
     },
     "execution_count": 43,
     "metadata": {},
     "output_type": "execute_result"
    }
   ],
   "source": [
    "# cluster on rows with grade rankings\n",
    "row_idx = df3.index[df3.nutrition_grade_fr.notna()]\n",
    "tmp = df3.loc[row_idx ,df3.columns[(df3.dtypes == 'float64') | (df3.dtypes == 'int64')]]\n",
    "tmp.shape"
   ]
  },
  {
   "cell_type": "code",
   "execution_count": 44,
   "metadata": {},
   "outputs": [
    {
     "data": {
      "text/plain": [
       "array([ 4234, 51159, 33236, 24132, 33595], dtype=int64)"
      ]
     },
     "execution_count": 44,
     "metadata": {},
     "output_type": "execute_result"
    }
   ],
   "source": [
    "km = KMeans(n_clusters=5)\n",
    "km.fit(tmp.loc[: , ['energy_100g', 'fat_100g', 'proteins_100g', 'sugars_100g', 'sodium_100g', 'salt_100g']])\n",
    "np.bincount(km.labels_)"
   ]
  },
  {
   "cell_type": "code",
   "execution_count": 45,
   "metadata": {},
   "outputs": [
    {
     "data": {
      "text/plain": [
       "d    42940\n",
       "e    32343\n",
       "c    30248\n",
       "b    20638\n",
       "a    20187\n",
       "Name: nutrition_grade_fr, dtype: int64"
      ]
     },
     "execution_count": 45,
     "metadata": {},
     "output_type": "execute_result"
    }
   ],
   "source": [
    "df3['nutrition_grade_fr'].value_counts()"
   ]
  },
  {
   "cell_type": "code",
   "execution_count": 46,
   "metadata": {},
   "outputs": [
    {
     "data": {
      "text/plain": [
       "(559935, 25)"
      ]
     },
     "execution_count": 46,
     "metadata": {},
     "output_type": "execute_result"
    }
   ],
   "source": [
    "df3.shape"
   ]
  },
  {
   "cell_type": "code",
   "execution_count": 47,
   "metadata": {},
   "outputs": [],
   "source": [
    "df3.to_csv(os.path.join(data_path, 'openfoodfacts_processed.gz'), compression='gzip', index=False)\n",
    "# 20392kb, saved with extension gz\n",
    "# this is saved at the path specified, as 'openfoodfacts_processed.gz' contains 'openfoodfacts_processed'"
   ]
  },
  {
   "cell_type": "raw",
   "metadata": {},
   "source": [
    "df3.to_pickle(os.path.join(data_path, 'openfoodfacts_processed'), compression='zip')\n",
    "# 16824 kb\n",
    "# cannot find the correct way..."
   ]
  },
  {
   "cell_type": "code",
   "execution_count": null,
   "metadata": {},
   "outputs": [],
   "source": []
  }
 ],
 "metadata": {
  "kernelspec": {
   "display_name": "Py3 (sklearn)",
   "language": "python",
   "name": "sklearn"
  },
  "language_info": {
   "codemirror_mode": {
    "name": "ipython",
    "version": 3
   },
   "file_extension": ".py",
   "mimetype": "text/x-python",
   "name": "python",
   "nbconvert_exporter": "python",
   "pygments_lexer": "ipython3",
   "version": "3.6.7"
  }
 },
 "nbformat": 4,
 "nbformat_minor": 2
}
